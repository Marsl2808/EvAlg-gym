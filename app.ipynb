{
 "metadata": {
  "language_info": {
   "codemirror_mode": {
    "name": "ipython",
    "version": 3
   },
   "file_extension": ".py",
   "mimetype": "text/x-python",
   "name": "python",
   "nbconvert_exporter": "python",
   "pygments_lexer": "ipython3",
   "version": "3.8.10"
  },
  "orig_nbformat": 2,
  "kernelspec": {
   "name": "python3810jvsc74a57bd06a67657f0877f0054f0297e42be73e4e5bda1e39bebb74dea15ddd23ce218cf4",
   "display_name": "Python 3.8.10 64-bit ('ea_gym': venv)"
  },
  "metadata": {
   "interpreter": {
    "hash": "df4b48496479b6dbac9f82cbbc0bc05dc03b6aa29290929ce28ee161e7111e9c"
   }
  }
 },
 "nbformat": 4,
 "nbformat_minor": 2,
 "cells": [
  {
   "cell_type": "code",
   "execution_count": 1,
   "metadata": {},
   "outputs": [],
   "source": [
    "def adapt_obs(observation_env, entity):\n",
    "    observation_norm = []\n",
    "    for j in range(len(observation_env)):\n",
    "        if entity.obs_norm[j].std != 0:\n",
    "            observation_norm.append((observation_env[j]-entity.obs_norm[j].mean) / entity.obs_norm[j].std)    \n",
    "        else:\n",
    "            observation_norm.append(observation_env[j])\n",
    "\n",
    "        entity.updated_obs_norm[j](observation_env[j])\n",
    "\n",
    "    return observation_norm\n",
    "\n",
    "def agent_env_loop(entity, generation):\n",
    "    entity.survived = True\n",
    "    entity.fitness = 0\n",
    "    env.seed(10)\n",
    "    observation_env = env.reset()  # s_0\n",
    "\n",
    "    for i in range(MAX_SEQUENCE_LEN):\n",
    "\n",
    "        if WELFORD:\n",
    "            observation_norm = adapt_obs(observation_env, entity)   \n",
    "        else:\n",
    "            observation_norm = observation_env \n",
    "        \n",
    "        entity.action_sequ.append(entity.controller.feed_forward(observation_norm)) # a_t, s_t \n",
    "        observation_env, reward, done, _ = env.step(entity.action_sequ[-1])                     # s_{t+1}, r_{t+1}            \n",
    "\n",
    "        entity.fitness += reward\n",
    "        if done:\n",
    "            break\n",
    "\n",
    "# TODO:\n",
    "# ---------- diversity measure\n",
    "# phenotype-based diversity measure (e.g. FFT of action sequence) vs. genotype based (hamming distance)\n",
    "# diversity = 0 ?\n",
    "\n",
    "# ---------- analyse\n",
    "# weight distribution analysis (e.g. 99 fitness solution compared to 72)\n",
    "\n",
    "# ---------- implementation\n",
    "# multiparent recombination\n",
    "# two child approach\n",
    "# one point crossover, n-point crossover, uniform crossover \n",
    "# generalization\n",
    "\n",
    "# ? aging\n",
    "# ? parameter noise\n",
    "\n",
    "######################################################################################################################\n",
    "# POP_SIZE = 100\n",
    "# MAX_SEQUENCE_LEN = 400\n",
    "# N_GENERATIONS = 2000\n",
    "# MUTATION_RATE = .1\n",
    "# PROB_NODE_COPY = .1\n",
    "# WEIGHT_INIT_INTERVAL = [-1.0, 1.0]\n",
    "# WELFORD = False\n",
    "\n",
    "# 50 -> 99 fitness, 2000 gen\n",
    "# 48,48,32 -> 75 fitness\n",
    "# 32 -> 70, 2500 gen"
   ]
  },
  {
   "cell_type": "code",
   "execution_count": 2,
   "metadata": {
    "tags": []
   },
   "outputs": [
    {
     "output_type": "stream",
     "name": "stdout",
     "text": [
      "Dim. action space: (4,)\n",
      "Dim. observation space: (24,)\n",
      "Welford-normalizer set to : False\n",
      "--- Generation 0 ---\n",
      "INFO:root:Time for diversity calculation: 9.638229846954346\n"
     ]
    },
    {
     "output_type": "display_data",
     "data": {
      "text/plain": "<Figure size 432x288 with 1 Axes>",
      "image/svg+xml": "<?xml version=\"1.0\" encoding=\"utf-8\" standalone=\"no\"?>\r\n<!DOCTYPE svg PUBLIC \"-//W3C//DTD SVG 1.1//EN\"\r\n  \"http://www.w3.org/Graphics/SVG/1.1/DTD/svg11.dtd\">\r\n<svg height=\"262.19625pt\" version=\"1.1\" viewBox=\"0 0 385.78125 262.19625\" width=\"385.78125pt\" xmlns=\"http://www.w3.org/2000/svg\" xmlns:xlink=\"http://www.w3.org/1999/xlink\">\r\n <metadata>\r\n  <rdf:RDF xmlns:cc=\"http://creativecommons.org/ns#\" xmlns:dc=\"http://purl.org/dc/elements/1.1/\" xmlns:rdf=\"http://www.w3.org/1999/02/22-rdf-syntax-ns#\">\r\n   <cc:Work>\r\n    <dc:type rdf:resource=\"http://purl.org/dc/dcmitype/StillImage\"/>\r\n    <dc:date>2021-05-18T14:45:43.150623</dc:date>\r\n    <dc:format>image/svg+xml</dc:format>\r\n    <dc:creator>\r\n     <cc:Agent>\r\n      <dc:title>Matplotlib v3.4.2, https://matplotlib.org/</dc:title>\r\n     </cc:Agent>\r\n    </dc:creator>\r\n   </cc:Work>\r\n  </rdf:RDF>\r\n </metadata>\r\n <defs>\r\n  <style type=\"text/css\">*{stroke-linecap:butt;stroke-linejoin:round;}</style>\r\n </defs>\r\n <g id=\"figure_1\">\r\n  <g id=\"patch_1\">\r\n   <path d=\"M 0 262.19625 \r\nL 385.78125 262.19625 \r\nL 385.78125 0 \r\nL 0 0 \r\nz\r\n\" style=\"fill:none;\"/>\r\n  </g>\r\n  <g id=\"axes_1\">\r\n   <g id=\"patch_2\">\r\n    <path d=\"M 43.78125 224.64 \r\nL 378.58125 224.64 \r\nL 378.58125 7.2 \r\nL 43.78125 7.2 \r\nz\r\n\" style=\"fill:#ffffff;\"/>\r\n   </g>\r\n   <g id=\"matplotlib.axis_1\">\r\n    <g id=\"xtick_1\">\r\n     <g id=\"line2d_1\">\r\n      <path clip-path=\"url(#pc03d179d9f)\" d=\"M 82.266204 224.64 \r\nL 82.266204 7.2 \r\n\" style=\"fill:none;stroke:#b0b0b0;stroke-linecap:square;stroke-width:0.8;\"/>\r\n     </g>\r\n     <g id=\"line2d_2\">\r\n      <defs>\r\n       <path d=\"M 0 0 \r\nL 0 3.5 \r\n\" id=\"mc228748ea0\" style=\"stroke:#000000;stroke-width:0.8;\"/>\r\n      </defs>\r\n      <g>\r\n       <use style=\"stroke:#000000;stroke-width:0.8;\" x=\"82.266204\" xlink:href=\"#mc228748ea0\" y=\"224.64\"/>\r\n      </g>\r\n     </g>\r\n     <g id=\"text_1\">\r\n      <!-- −140 -->\r\n      <g transform=\"translate(68.53261 239.238437)scale(0.1 -0.1)\">\r\n       <defs>\r\n        <path d=\"M 678 2272 \r\nL 4684 2272 \r\nL 4684 1741 \r\nL 678 1741 \r\nL 678 2272 \r\nz\r\n\" id=\"DejaVuSans-2212\" transform=\"scale(0.015625)\"/>\r\n        <path d=\"M 794 531 \r\nL 1825 531 \r\nL 1825 4091 \r\nL 703 3866 \r\nL 703 4441 \r\nL 1819 4666 \r\nL 2450 4666 \r\nL 2450 531 \r\nL 3481 531 \r\nL 3481 0 \r\nL 794 0 \r\nL 794 531 \r\nz\r\n\" id=\"DejaVuSans-31\" transform=\"scale(0.015625)\"/>\r\n        <path d=\"M 2419 4116 \r\nL 825 1625 \r\nL 2419 1625 \r\nL 2419 4116 \r\nz\r\nM 2253 4666 \r\nL 3047 4666 \r\nL 3047 1625 \r\nL 3713 1625 \r\nL 3713 1100 \r\nL 3047 1100 \r\nL 3047 0 \r\nL 2419 0 \r\nL 2419 1100 \r\nL 313 1100 \r\nL 313 1709 \r\nL 2253 4666 \r\nz\r\n\" id=\"DejaVuSans-34\" transform=\"scale(0.015625)\"/>\r\n        <path d=\"M 2034 4250 \r\nQ 1547 4250 1301 3770 \r\nQ 1056 3291 1056 2328 \r\nQ 1056 1369 1301 889 \r\nQ 1547 409 2034 409 \r\nQ 2525 409 2770 889 \r\nQ 3016 1369 3016 2328 \r\nQ 3016 3291 2770 3770 \r\nQ 2525 4250 2034 4250 \r\nz\r\nM 2034 4750 \r\nQ 2819 4750 3233 4129 \r\nQ 3647 3509 3647 2328 \r\nQ 3647 1150 3233 529 \r\nQ 2819 -91 2034 -91 \r\nQ 1250 -91 836 529 \r\nQ 422 1150 422 2328 \r\nQ 422 3509 836 4129 \r\nQ 1250 4750 2034 4750 \r\nz\r\n\" id=\"DejaVuSans-30\" transform=\"scale(0.015625)\"/>\r\n       </defs>\r\n       <use xlink:href=\"#DejaVuSans-2212\"/>\r\n       <use x=\"83.789062\" xlink:href=\"#DejaVuSans-31\"/>\r\n       <use x=\"147.412109\" xlink:href=\"#DejaVuSans-34\"/>\r\n       <use x=\"211.035156\" xlink:href=\"#DejaVuSans-30\"/>\r\n      </g>\r\n     </g>\r\n    </g>\r\n    <g id=\"xtick_2\">\r\n     <g id=\"line2d_3\">\r\n      <path clip-path=\"url(#pc03d179d9f)\" d=\"M 127.807509 224.64 \r\nL 127.807509 7.2 \r\n\" style=\"fill:none;stroke:#b0b0b0;stroke-linecap:square;stroke-width:0.8;\"/>\r\n     </g>\r\n     <g id=\"line2d_4\">\r\n      <g>\r\n       <use style=\"stroke:#000000;stroke-width:0.8;\" x=\"127.807509\" xlink:href=\"#mc228748ea0\" y=\"224.64\"/>\r\n      </g>\r\n     </g>\r\n     <g id=\"text_2\">\r\n      <!-- −120 -->\r\n      <g transform=\"translate(114.073915 239.238437)scale(0.1 -0.1)\">\r\n       <defs>\r\n        <path d=\"M 1228 531 \r\nL 3431 531 \r\nL 3431 0 \r\nL 469 0 \r\nL 469 531 \r\nQ 828 903 1448 1529 \r\nQ 2069 2156 2228 2338 \r\nQ 2531 2678 2651 2914 \r\nQ 2772 3150 2772 3378 \r\nQ 2772 3750 2511 3984 \r\nQ 2250 4219 1831 4219 \r\nQ 1534 4219 1204 4116 \r\nQ 875 4013 500 3803 \r\nL 500 4441 \r\nQ 881 4594 1212 4672 \r\nQ 1544 4750 1819 4750 \r\nQ 2544 4750 2975 4387 \r\nQ 3406 4025 3406 3419 \r\nQ 3406 3131 3298 2873 \r\nQ 3191 2616 2906 2266 \r\nQ 2828 2175 2409 1742 \r\nQ 1991 1309 1228 531 \r\nz\r\n\" id=\"DejaVuSans-32\" transform=\"scale(0.015625)\"/>\r\n       </defs>\r\n       <use xlink:href=\"#DejaVuSans-2212\"/>\r\n       <use x=\"83.789062\" xlink:href=\"#DejaVuSans-31\"/>\r\n       <use x=\"147.412109\" xlink:href=\"#DejaVuSans-32\"/>\r\n       <use x=\"211.035156\" xlink:href=\"#DejaVuSans-30\"/>\r\n      </g>\r\n     </g>\r\n    </g>\r\n    <g id=\"xtick_3\">\r\n     <g id=\"line2d_5\">\r\n      <path clip-path=\"url(#pc03d179d9f)\" d=\"M 173.348814 224.64 \r\nL 173.348814 7.2 \r\n\" style=\"fill:none;stroke:#b0b0b0;stroke-linecap:square;stroke-width:0.8;\"/>\r\n     </g>\r\n     <g id=\"line2d_6\">\r\n      <g>\r\n       <use style=\"stroke:#000000;stroke-width:0.8;\" x=\"173.348814\" xlink:href=\"#mc228748ea0\" y=\"224.64\"/>\r\n      </g>\r\n     </g>\r\n     <g id=\"text_3\">\r\n      <!-- −100 -->\r\n      <g transform=\"translate(159.61522 239.238437)scale(0.1 -0.1)\">\r\n       <use xlink:href=\"#DejaVuSans-2212\"/>\r\n       <use x=\"83.789062\" xlink:href=\"#DejaVuSans-31\"/>\r\n       <use x=\"147.412109\" xlink:href=\"#DejaVuSans-30\"/>\r\n       <use x=\"211.035156\" xlink:href=\"#DejaVuSans-30\"/>\r\n      </g>\r\n     </g>\r\n    </g>\r\n    <g id=\"xtick_4\">\r\n     <g id=\"line2d_7\">\r\n      <path clip-path=\"url(#pc03d179d9f)\" d=\"M 218.890119 224.64 \r\nL 218.890119 7.2 \r\n\" style=\"fill:none;stroke:#b0b0b0;stroke-linecap:square;stroke-width:0.8;\"/>\r\n     </g>\r\n     <g id=\"line2d_8\">\r\n      <g>\r\n       <use style=\"stroke:#000000;stroke-width:0.8;\" x=\"218.890119\" xlink:href=\"#mc228748ea0\" y=\"224.64\"/>\r\n      </g>\r\n     </g>\r\n     <g id=\"text_4\">\r\n      <!-- −80 -->\r\n      <g transform=\"translate(208.337775 239.238437)scale(0.1 -0.1)\">\r\n       <defs>\r\n        <path d=\"M 2034 2216 \r\nQ 1584 2216 1326 1975 \r\nQ 1069 1734 1069 1313 \r\nQ 1069 891 1326 650 \r\nQ 1584 409 2034 409 \r\nQ 2484 409 2743 651 \r\nQ 3003 894 3003 1313 \r\nQ 3003 1734 2745 1975 \r\nQ 2488 2216 2034 2216 \r\nz\r\nM 1403 2484 \r\nQ 997 2584 770 2862 \r\nQ 544 3141 544 3541 \r\nQ 544 4100 942 4425 \r\nQ 1341 4750 2034 4750 \r\nQ 2731 4750 3128 4425 \r\nQ 3525 4100 3525 3541 \r\nQ 3525 3141 3298 2862 \r\nQ 3072 2584 2669 2484 \r\nQ 3125 2378 3379 2068 \r\nQ 3634 1759 3634 1313 \r\nQ 3634 634 3220 271 \r\nQ 2806 -91 2034 -91 \r\nQ 1263 -91 848 271 \r\nQ 434 634 434 1313 \r\nQ 434 1759 690 2068 \r\nQ 947 2378 1403 2484 \r\nz\r\nM 1172 3481 \r\nQ 1172 3119 1398 2916 \r\nQ 1625 2713 2034 2713 \r\nQ 2441 2713 2670 2916 \r\nQ 2900 3119 2900 3481 \r\nQ 2900 3844 2670 4047 \r\nQ 2441 4250 2034 4250 \r\nQ 1625 4250 1398 4047 \r\nQ 1172 3844 1172 3481 \r\nz\r\n\" id=\"DejaVuSans-38\" transform=\"scale(0.015625)\"/>\r\n       </defs>\r\n       <use xlink:href=\"#DejaVuSans-2212\"/>\r\n       <use x=\"83.789062\" xlink:href=\"#DejaVuSans-38\"/>\r\n       <use x=\"147.412109\" xlink:href=\"#DejaVuSans-30\"/>\r\n      </g>\r\n     </g>\r\n    </g>\r\n    <g id=\"xtick_5\">\r\n     <g id=\"line2d_9\">\r\n      <path clip-path=\"url(#pc03d179d9f)\" d=\"M 264.431424 224.64 \r\nL 264.431424 7.2 \r\n\" style=\"fill:none;stroke:#b0b0b0;stroke-linecap:square;stroke-width:0.8;\"/>\r\n     </g>\r\n     <g id=\"line2d_10\">\r\n      <g>\r\n       <use style=\"stroke:#000000;stroke-width:0.8;\" x=\"264.431424\" xlink:href=\"#mc228748ea0\" y=\"224.64\"/>\r\n      </g>\r\n     </g>\r\n     <g id=\"text_5\">\r\n      <!-- −60 -->\r\n      <g transform=\"translate(253.87908 239.238437)scale(0.1 -0.1)\">\r\n       <defs>\r\n        <path d=\"M 2113 2584 \r\nQ 1688 2584 1439 2293 \r\nQ 1191 2003 1191 1497 \r\nQ 1191 994 1439 701 \r\nQ 1688 409 2113 409 \r\nQ 2538 409 2786 701 \r\nQ 3034 994 3034 1497 \r\nQ 3034 2003 2786 2293 \r\nQ 2538 2584 2113 2584 \r\nz\r\nM 3366 4563 \r\nL 3366 3988 \r\nQ 3128 4100 2886 4159 \r\nQ 2644 4219 2406 4219 \r\nQ 1781 4219 1451 3797 \r\nQ 1122 3375 1075 2522 \r\nQ 1259 2794 1537 2939 \r\nQ 1816 3084 2150 3084 \r\nQ 2853 3084 3261 2657 \r\nQ 3669 2231 3669 1497 \r\nQ 3669 778 3244 343 \r\nQ 2819 -91 2113 -91 \r\nQ 1303 -91 875 529 \r\nQ 447 1150 447 2328 \r\nQ 447 3434 972 4092 \r\nQ 1497 4750 2381 4750 \r\nQ 2619 4750 2861 4703 \r\nQ 3103 4656 3366 4563 \r\nz\r\n\" id=\"DejaVuSans-36\" transform=\"scale(0.015625)\"/>\r\n       </defs>\r\n       <use xlink:href=\"#DejaVuSans-2212\"/>\r\n       <use x=\"83.789062\" xlink:href=\"#DejaVuSans-36\"/>\r\n       <use x=\"147.412109\" xlink:href=\"#DejaVuSans-30\"/>\r\n      </g>\r\n     </g>\r\n    </g>\r\n    <g id=\"xtick_6\">\r\n     <g id=\"line2d_11\">\r\n      <path clip-path=\"url(#pc03d179d9f)\" d=\"M 309.972729 224.64 \r\nL 309.972729 7.2 \r\n\" style=\"fill:none;stroke:#b0b0b0;stroke-linecap:square;stroke-width:0.8;\"/>\r\n     </g>\r\n     <g id=\"line2d_12\">\r\n      <g>\r\n       <use style=\"stroke:#000000;stroke-width:0.8;\" x=\"309.972729\" xlink:href=\"#mc228748ea0\" y=\"224.64\"/>\r\n      </g>\r\n     </g>\r\n     <g id=\"text_6\">\r\n      <!-- −40 -->\r\n      <g transform=\"translate(299.420385 239.238437)scale(0.1 -0.1)\">\r\n       <use xlink:href=\"#DejaVuSans-2212\"/>\r\n       <use x=\"83.789062\" xlink:href=\"#DejaVuSans-34\"/>\r\n       <use x=\"147.412109\" xlink:href=\"#DejaVuSans-30\"/>\r\n      </g>\r\n     </g>\r\n    </g>\r\n    <g id=\"xtick_7\">\r\n     <g id=\"line2d_13\">\r\n      <path clip-path=\"url(#pc03d179d9f)\" d=\"M 355.514033 224.64 \r\nL 355.514033 7.2 \r\n\" style=\"fill:none;stroke:#b0b0b0;stroke-linecap:square;stroke-width:0.8;\"/>\r\n     </g>\r\n     <g id=\"line2d_14\">\r\n      <g>\r\n       <use style=\"stroke:#000000;stroke-width:0.8;\" x=\"355.514033\" xlink:href=\"#mc228748ea0\" y=\"224.64\"/>\r\n      </g>\r\n     </g>\r\n     <g id=\"text_7\">\r\n      <!-- −20 -->\r\n      <g transform=\"translate(344.96169 239.238437)scale(0.1 -0.1)\">\r\n       <use xlink:href=\"#DejaVuSans-2212\"/>\r\n       <use x=\"83.789062\" xlink:href=\"#DejaVuSans-32\"/>\r\n       <use x=\"147.412109\" xlink:href=\"#DejaVuSans-30\"/>\r\n      </g>\r\n     </g>\r\n    </g>\r\n    <g id=\"text_8\">\r\n     <!-- Fitness -->\r\n     <g transform=\"translate(193.864063 252.916562)scale(0.1 -0.1)\">\r\n      <defs>\r\n       <path d=\"M 628 4666 \r\nL 3309 4666 \r\nL 3309 4134 \r\nL 1259 4134 \r\nL 1259 2759 \r\nL 3109 2759 \r\nL 3109 2228 \r\nL 1259 2228 \r\nL 1259 0 \r\nL 628 0 \r\nL 628 4666 \r\nz\r\n\" id=\"DejaVuSans-46\" transform=\"scale(0.015625)\"/>\r\n       <path d=\"M 603 3500 \r\nL 1178 3500 \r\nL 1178 0 \r\nL 603 0 \r\nL 603 3500 \r\nz\r\nM 603 4863 \r\nL 1178 4863 \r\nL 1178 4134 \r\nL 603 4134 \r\nL 603 4863 \r\nz\r\n\" id=\"DejaVuSans-69\" transform=\"scale(0.015625)\"/>\r\n       <path d=\"M 1172 4494 \r\nL 1172 3500 \r\nL 2356 3500 \r\nL 2356 3053 \r\nL 1172 3053 \r\nL 1172 1153 \r\nQ 1172 725 1289 603 \r\nQ 1406 481 1766 481 \r\nL 2356 481 \r\nL 2356 0 \r\nL 1766 0 \r\nQ 1100 0 847 248 \r\nQ 594 497 594 1153 \r\nL 594 3053 \r\nL 172 3053 \r\nL 172 3500 \r\nL 594 3500 \r\nL 594 4494 \r\nL 1172 4494 \r\nz\r\n\" id=\"DejaVuSans-74\" transform=\"scale(0.015625)\"/>\r\n       <path d=\"M 3513 2113 \r\nL 3513 0 \r\nL 2938 0 \r\nL 2938 2094 \r\nQ 2938 2591 2744 2837 \r\nQ 2550 3084 2163 3084 \r\nQ 1697 3084 1428 2787 \r\nQ 1159 2491 1159 1978 \r\nL 1159 0 \r\nL 581 0 \r\nL 581 3500 \r\nL 1159 3500 \r\nL 1159 2956 \r\nQ 1366 3272 1645 3428 \r\nQ 1925 3584 2291 3584 \r\nQ 2894 3584 3203 3211 \r\nQ 3513 2838 3513 2113 \r\nz\r\n\" id=\"DejaVuSans-6e\" transform=\"scale(0.015625)\"/>\r\n       <path d=\"M 3597 1894 \r\nL 3597 1613 \r\nL 953 1613 \r\nQ 991 1019 1311 708 \r\nQ 1631 397 2203 397 \r\nQ 2534 397 2845 478 \r\nQ 3156 559 3463 722 \r\nL 3463 178 \r\nQ 3153 47 2828 -22 \r\nQ 2503 -91 2169 -91 \r\nQ 1331 -91 842 396 \r\nQ 353 884 353 1716 \r\nQ 353 2575 817 3079 \r\nQ 1281 3584 2069 3584 \r\nQ 2775 3584 3186 3129 \r\nQ 3597 2675 3597 1894 \r\nz\r\nM 3022 2063 \r\nQ 3016 2534 2758 2815 \r\nQ 2500 3097 2075 3097 \r\nQ 1594 3097 1305 2825 \r\nQ 1016 2553 972 2059 \r\nL 3022 2063 \r\nz\r\n\" id=\"DejaVuSans-65\" transform=\"scale(0.015625)\"/>\r\n       <path d=\"M 2834 3397 \r\nL 2834 2853 \r\nQ 2591 2978 2328 3040 \r\nQ 2066 3103 1784 3103 \r\nQ 1356 3103 1142 2972 \r\nQ 928 2841 928 2578 \r\nQ 928 2378 1081 2264 \r\nQ 1234 2150 1697 2047 \r\nL 1894 2003 \r\nQ 2506 1872 2764 1633 \r\nQ 3022 1394 3022 966 \r\nQ 3022 478 2636 193 \r\nQ 2250 -91 1575 -91 \r\nQ 1294 -91 989 -36 \r\nQ 684 19 347 128 \r\nL 347 722 \r\nQ 666 556 975 473 \r\nQ 1284 391 1588 391 \r\nQ 1994 391 2212 530 \r\nQ 2431 669 2431 922 \r\nQ 2431 1156 2273 1281 \r\nQ 2116 1406 1581 1522 \r\nL 1381 1569 \r\nQ 847 1681 609 1914 \r\nQ 372 2147 372 2553 \r\nQ 372 3047 722 3315 \r\nQ 1072 3584 1716 3584 \r\nQ 2034 3584 2315 3537 \r\nQ 2597 3491 2834 3397 \r\nz\r\n\" id=\"DejaVuSans-73\" transform=\"scale(0.015625)\"/>\r\n      </defs>\r\n      <use xlink:href=\"#DejaVuSans-46\"/>\r\n      <use x=\"50.269531\" xlink:href=\"#DejaVuSans-69\"/>\r\n      <use x=\"78.052734\" xlink:href=\"#DejaVuSans-74\"/>\r\n      <use x=\"117.261719\" xlink:href=\"#DejaVuSans-6e\"/>\r\n      <use x=\"180.640625\" xlink:href=\"#DejaVuSans-65\"/>\r\n      <use x=\"242.164062\" xlink:href=\"#DejaVuSans-73\"/>\r\n      <use x=\"294.263672\" xlink:href=\"#DejaVuSans-73\"/>\r\n     </g>\r\n    </g>\r\n   </g>\r\n   <g id=\"matplotlib.axis_2\">\r\n    <g id=\"ytick_1\">\r\n     <g id=\"line2d_15\">\r\n      <path clip-path=\"url(#pc03d179d9f)\" d=\"M 43.78125 214.756364 \r\nL 378.58125 214.756364 \r\n\" style=\"fill:none;stroke:#b0b0b0;stroke-linecap:square;stroke-width:0.8;\"/>\r\n     </g>\r\n     <g id=\"line2d_16\">\r\n      <defs>\r\n       <path d=\"M 0 0 \r\nL -3.5 0 \r\n\" id=\"m674213f1fc\" style=\"stroke:#000000;stroke-width:0.8;\"/>\r\n      </defs>\r\n      <g>\r\n       <use style=\"stroke:#000000;stroke-width:0.8;\" x=\"43.78125\" xlink:href=\"#m674213f1fc\" y=\"214.756364\"/>\r\n      </g>\r\n     </g>\r\n     <g id=\"text_9\">\r\n      <!-- 0.0 -->\r\n      <g transform=\"translate(20.878125 218.555582)scale(0.1 -0.1)\">\r\n       <defs>\r\n        <path d=\"M 684 794 \r\nL 1344 794 \r\nL 1344 0 \r\nL 684 0 \r\nL 684 794 \r\nz\r\n\" id=\"DejaVuSans-2e\" transform=\"scale(0.015625)\"/>\r\n       </defs>\r\n       <use xlink:href=\"#DejaVuSans-30\"/>\r\n       <use x=\"63.623047\" xlink:href=\"#DejaVuSans-2e\"/>\r\n       <use x=\"95.410156\" xlink:href=\"#DejaVuSans-30\"/>\r\n      </g>\r\n     </g>\r\n    </g>\r\n    <g id=\"ytick_2\">\r\n     <g id=\"line2d_17\">\r\n      <path clip-path=\"url(#pc03d179d9f)\" d=\"M 43.78125 186.802645 \r\nL 378.58125 186.802645 \r\n\" style=\"fill:none;stroke:#b0b0b0;stroke-linecap:square;stroke-width:0.8;\"/>\r\n     </g>\r\n     <g id=\"line2d_18\">\r\n      <g>\r\n       <use style=\"stroke:#000000;stroke-width:0.8;\" x=\"43.78125\" xlink:href=\"#m674213f1fc\" y=\"186.802645\"/>\r\n      </g>\r\n     </g>\r\n     <g id=\"text_10\">\r\n      <!-- 0.1 -->\r\n      <g transform=\"translate(20.878125 190.601863)scale(0.1 -0.1)\">\r\n       <use xlink:href=\"#DejaVuSans-30\"/>\r\n       <use x=\"63.623047\" xlink:href=\"#DejaVuSans-2e\"/>\r\n       <use x=\"95.410156\" xlink:href=\"#DejaVuSans-31\"/>\r\n      </g>\r\n     </g>\r\n    </g>\r\n    <g id=\"ytick_3\">\r\n     <g id=\"line2d_19\">\r\n      <path clip-path=\"url(#pc03d179d9f)\" d=\"M 43.78125 158.848926 \r\nL 378.58125 158.848926 \r\n\" style=\"fill:none;stroke:#b0b0b0;stroke-linecap:square;stroke-width:0.8;\"/>\r\n     </g>\r\n     <g id=\"line2d_20\">\r\n      <g>\r\n       <use style=\"stroke:#000000;stroke-width:0.8;\" x=\"43.78125\" xlink:href=\"#m674213f1fc\" y=\"158.848926\"/>\r\n      </g>\r\n     </g>\r\n     <g id=\"text_11\">\r\n      <!-- 0.2 -->\r\n      <g transform=\"translate(20.878125 162.648144)scale(0.1 -0.1)\">\r\n       <use xlink:href=\"#DejaVuSans-30\"/>\r\n       <use x=\"63.623047\" xlink:href=\"#DejaVuSans-2e\"/>\r\n       <use x=\"95.410156\" xlink:href=\"#DejaVuSans-32\"/>\r\n      </g>\r\n     </g>\r\n    </g>\r\n    <g id=\"ytick_4\">\r\n     <g id=\"line2d_21\">\r\n      <path clip-path=\"url(#pc03d179d9f)\" d=\"M 43.78125 130.895207 \r\nL 378.58125 130.895207 \r\n\" style=\"fill:none;stroke:#b0b0b0;stroke-linecap:square;stroke-width:0.8;\"/>\r\n     </g>\r\n     <g id=\"line2d_22\">\r\n      <g>\r\n       <use style=\"stroke:#000000;stroke-width:0.8;\" x=\"43.78125\" xlink:href=\"#m674213f1fc\" y=\"130.895207\"/>\r\n      </g>\r\n     </g>\r\n     <g id=\"text_12\">\r\n      <!-- 0.3 -->\r\n      <g transform=\"translate(20.878125 134.694425)scale(0.1 -0.1)\">\r\n       <defs>\r\n        <path d=\"M 2597 2516 \r\nQ 3050 2419 3304 2112 \r\nQ 3559 1806 3559 1356 \r\nQ 3559 666 3084 287 \r\nQ 2609 -91 1734 -91 \r\nQ 1441 -91 1130 -33 \r\nQ 819 25 488 141 \r\nL 488 750 \r\nQ 750 597 1062 519 \r\nQ 1375 441 1716 441 \r\nQ 2309 441 2620 675 \r\nQ 2931 909 2931 1356 \r\nQ 2931 1769 2642 2001 \r\nQ 2353 2234 1838 2234 \r\nL 1294 2234 \r\nL 1294 2753 \r\nL 1863 2753 \r\nQ 2328 2753 2575 2939 \r\nQ 2822 3125 2822 3475 \r\nQ 2822 3834 2567 4026 \r\nQ 2313 4219 1838 4219 \r\nQ 1578 4219 1281 4162 \r\nQ 984 4106 628 3988 \r\nL 628 4550 \r\nQ 988 4650 1302 4700 \r\nQ 1616 4750 1894 4750 \r\nQ 2613 4750 3031 4423 \r\nQ 3450 4097 3450 3541 \r\nQ 3450 3153 3228 2886 \r\nQ 3006 2619 2597 2516 \r\nz\r\n\" id=\"DejaVuSans-33\" transform=\"scale(0.015625)\"/>\r\n       </defs>\r\n       <use xlink:href=\"#DejaVuSans-30\"/>\r\n       <use x=\"63.623047\" xlink:href=\"#DejaVuSans-2e\"/>\r\n       <use x=\"95.410156\" xlink:href=\"#DejaVuSans-33\"/>\r\n      </g>\r\n     </g>\r\n    </g>\r\n    <g id=\"ytick_5\">\r\n     <g id=\"line2d_23\">\r\n      <path clip-path=\"url(#pc03d179d9f)\" d=\"M 43.78125 102.941488 \r\nL 378.58125 102.941488 \r\n\" style=\"fill:none;stroke:#b0b0b0;stroke-linecap:square;stroke-width:0.8;\"/>\r\n     </g>\r\n     <g id=\"line2d_24\">\r\n      <g>\r\n       <use style=\"stroke:#000000;stroke-width:0.8;\" x=\"43.78125\" xlink:href=\"#m674213f1fc\" y=\"102.941488\"/>\r\n      </g>\r\n     </g>\r\n     <g id=\"text_13\">\r\n      <!-- 0.4 -->\r\n      <g transform=\"translate(20.878125 106.740706)scale(0.1 -0.1)\">\r\n       <use xlink:href=\"#DejaVuSans-30\"/>\r\n       <use x=\"63.623047\" xlink:href=\"#DejaVuSans-2e\"/>\r\n       <use x=\"95.410156\" xlink:href=\"#DejaVuSans-34\"/>\r\n      </g>\r\n     </g>\r\n    </g>\r\n    <g id=\"ytick_6\">\r\n     <g id=\"line2d_25\">\r\n      <path clip-path=\"url(#pc03d179d9f)\" d=\"M 43.78125 74.987769 \r\nL 378.58125 74.987769 \r\n\" style=\"fill:none;stroke:#b0b0b0;stroke-linecap:square;stroke-width:0.8;\"/>\r\n     </g>\r\n     <g id=\"line2d_26\">\r\n      <g>\r\n       <use style=\"stroke:#000000;stroke-width:0.8;\" x=\"43.78125\" xlink:href=\"#m674213f1fc\" y=\"74.987769\"/>\r\n      </g>\r\n     </g>\r\n     <g id=\"text_14\">\r\n      <!-- 0.5 -->\r\n      <g transform=\"translate(20.878125 78.786987)scale(0.1 -0.1)\">\r\n       <defs>\r\n        <path d=\"M 691 4666 \r\nL 3169 4666 \r\nL 3169 4134 \r\nL 1269 4134 \r\nL 1269 2991 \r\nQ 1406 3038 1543 3061 \r\nQ 1681 3084 1819 3084 \r\nQ 2600 3084 3056 2656 \r\nQ 3513 2228 3513 1497 \r\nQ 3513 744 3044 326 \r\nQ 2575 -91 1722 -91 \r\nQ 1428 -91 1123 -41 \r\nQ 819 9 494 109 \r\nL 494 744 \r\nQ 775 591 1075 516 \r\nQ 1375 441 1709 441 \r\nQ 2250 441 2565 725 \r\nQ 2881 1009 2881 1497 \r\nQ 2881 1984 2565 2268 \r\nQ 2250 2553 1709 2553 \r\nQ 1456 2553 1204 2497 \r\nQ 953 2441 691 2322 \r\nL 691 4666 \r\nz\r\n\" id=\"DejaVuSans-35\" transform=\"scale(0.015625)\"/>\r\n       </defs>\r\n       <use xlink:href=\"#DejaVuSans-30\"/>\r\n       <use x=\"63.623047\" xlink:href=\"#DejaVuSans-2e\"/>\r\n       <use x=\"95.410156\" xlink:href=\"#DejaVuSans-35\"/>\r\n      </g>\r\n     </g>\r\n    </g>\r\n    <g id=\"ytick_7\">\r\n     <g id=\"line2d_27\">\r\n      <path clip-path=\"url(#pc03d179d9f)\" d=\"M 43.78125 47.03405 \r\nL 378.58125 47.03405 \r\n\" style=\"fill:none;stroke:#b0b0b0;stroke-linecap:square;stroke-width:0.8;\"/>\r\n     </g>\r\n     <g id=\"line2d_28\">\r\n      <g>\r\n       <use style=\"stroke:#000000;stroke-width:0.8;\" x=\"43.78125\" xlink:href=\"#m674213f1fc\" y=\"47.03405\"/>\r\n      </g>\r\n     </g>\r\n     <g id=\"text_15\">\r\n      <!-- 0.6 -->\r\n      <g transform=\"translate(20.878125 50.833268)scale(0.1 -0.1)\">\r\n       <use xlink:href=\"#DejaVuSans-30\"/>\r\n       <use x=\"63.623047\" xlink:href=\"#DejaVuSans-2e\"/>\r\n       <use x=\"95.410156\" xlink:href=\"#DejaVuSans-36\"/>\r\n      </g>\r\n     </g>\r\n    </g>\r\n    <g id=\"ytick_8\">\r\n     <g id=\"line2d_29\">\r\n      <path clip-path=\"url(#pc03d179d9f)\" d=\"M 43.78125 19.080331 \r\nL 378.58125 19.080331 \r\n\" style=\"fill:none;stroke:#b0b0b0;stroke-linecap:square;stroke-width:0.8;\"/>\r\n     </g>\r\n     <g id=\"line2d_30\">\r\n      <g>\r\n       <use style=\"stroke:#000000;stroke-width:0.8;\" x=\"43.78125\" xlink:href=\"#m674213f1fc\" y=\"19.080331\"/>\r\n      </g>\r\n     </g>\r\n     <g id=\"text_16\">\r\n      <!-- 0.7 -->\r\n      <g transform=\"translate(20.878125 22.879549)scale(0.1 -0.1)\">\r\n       <defs>\r\n        <path d=\"M 525 4666 \r\nL 3525 4666 \r\nL 3525 4397 \r\nL 1831 0 \r\nL 1172 0 \r\nL 2766 4134 \r\nL 525 4134 \r\nL 525 4666 \r\nz\r\n\" id=\"DejaVuSans-37\" transform=\"scale(0.015625)\"/>\r\n       </defs>\r\n       <use xlink:href=\"#DejaVuSans-30\"/>\r\n       <use x=\"63.623047\" xlink:href=\"#DejaVuSans-2e\"/>\r\n       <use x=\"95.410156\" xlink:href=\"#DejaVuSans-37\"/>\r\n      </g>\r\n     </g>\r\n    </g>\r\n    <g id=\"text_17\">\r\n     <!-- Diversity -->\r\n     <g transform=\"translate(14.798438 138.16375)rotate(-90)scale(0.1 -0.1)\">\r\n      <defs>\r\n       <path d=\"M 1259 4147 \r\nL 1259 519 \r\nL 2022 519 \r\nQ 2988 519 3436 956 \r\nQ 3884 1394 3884 2338 \r\nQ 3884 3275 3436 3711 \r\nQ 2988 4147 2022 4147 \r\nL 1259 4147 \r\nz\r\nM 628 4666 \r\nL 1925 4666 \r\nQ 3281 4666 3915 4102 \r\nQ 4550 3538 4550 2338 \r\nQ 4550 1131 3912 565 \r\nQ 3275 0 1925 0 \r\nL 628 0 \r\nL 628 4666 \r\nz\r\n\" id=\"DejaVuSans-44\" transform=\"scale(0.015625)\"/>\r\n       <path d=\"M 191 3500 \r\nL 800 3500 \r\nL 1894 563 \r\nL 2988 3500 \r\nL 3597 3500 \r\nL 2284 0 \r\nL 1503 0 \r\nL 191 3500 \r\nz\r\n\" id=\"DejaVuSans-76\" transform=\"scale(0.015625)\"/>\r\n       <path d=\"M 2631 2963 \r\nQ 2534 3019 2420 3045 \r\nQ 2306 3072 2169 3072 \r\nQ 1681 3072 1420 2755 \r\nQ 1159 2438 1159 1844 \r\nL 1159 0 \r\nL 581 0 \r\nL 581 3500 \r\nL 1159 3500 \r\nL 1159 2956 \r\nQ 1341 3275 1631 3429 \r\nQ 1922 3584 2338 3584 \r\nQ 2397 3584 2469 3576 \r\nQ 2541 3569 2628 3553 \r\nL 2631 2963 \r\nz\r\n\" id=\"DejaVuSans-72\" transform=\"scale(0.015625)\"/>\r\n       <path d=\"M 2059 -325 \r\nQ 1816 -950 1584 -1140 \r\nQ 1353 -1331 966 -1331 \r\nL 506 -1331 \r\nL 506 -850 \r\nL 844 -850 \r\nQ 1081 -850 1212 -737 \r\nQ 1344 -625 1503 -206 \r\nL 1606 56 \r\nL 191 3500 \r\nL 800 3500 \r\nL 1894 763 \r\nL 2988 3500 \r\nL 3597 3500 \r\nL 2059 -325 \r\nz\r\n\" id=\"DejaVuSans-79\" transform=\"scale(0.015625)\"/>\r\n      </defs>\r\n      <use xlink:href=\"#DejaVuSans-44\"/>\r\n      <use x=\"77.001953\" xlink:href=\"#DejaVuSans-69\"/>\r\n      <use x=\"104.785156\" xlink:href=\"#DejaVuSans-76\"/>\r\n      <use x=\"163.964844\" xlink:href=\"#DejaVuSans-65\"/>\r\n      <use x=\"225.488281\" xlink:href=\"#DejaVuSans-72\"/>\r\n      <use x=\"266.601562\" xlink:href=\"#DejaVuSans-73\"/>\r\n      <use x=\"318.701172\" xlink:href=\"#DejaVuSans-69\"/>\r\n      <use x=\"346.484375\" xlink:href=\"#DejaVuSans-74\"/>\r\n      <use x=\"385.693359\" xlink:href=\"#DejaVuSans-79\"/>\r\n     </g>\r\n    </g>\r\n   </g>\r\n   <g id=\"line2d_31\">\r\n    <defs>\r\n     <path d=\"M 0 3 \r\nC 0.795609 3 1.55874 2.683901 2.12132 2.12132 \r\nC 2.683901 1.55874 3 0.795609 3 0 \r\nC 3 -0.795609 2.683901 -1.55874 2.12132 -2.12132 \r\nC 1.55874 -2.683901 0.795609 -3 0 -3 \r\nC -0.795609 -3 -1.55874 -2.683901 -2.12132 -2.12132 \r\nC -2.683901 -1.55874 -3 -0.795609 -3 0 \r\nC -3 0.795609 -2.683901 1.55874 -2.12132 2.12132 \r\nC -1.55874 2.683901 -0.795609 3 0 3 \r\nz\r\n\" id=\"m73fbb7cdd7\" style=\"stroke:#ff0000;\"/>\r\n    </defs>\r\n    <g clip-path=\"url(#pc03d179d9f)\">\r\n     <use style=\"fill:#ff0000;stroke:#ff0000;\" x=\"130.721726\" xlink:href=\"#m73fbb7cdd7\" y=\"126.901818\"/>\r\n     <use style=\"fill:#ff0000;stroke:#ff0000;\" x=\"95.189527\" xlink:href=\"#m73fbb7cdd7\" y=\"102.941488\"/>\r\n     <use style=\"fill:#ff0000;stroke:#ff0000;\" x=\"334.556987\" xlink:href=\"#m73fbb7cdd7\" y=\"78.981157\"/>\r\n     <use style=\"fill:#ff0000;stroke:#ff0000;\" x=\"149.684966\" xlink:href=\"#m73fbb7cdd7\" y=\"126.901818\"/>\r\n     <use style=\"fill:#ff0000;stroke:#ff0000;\" x=\"148.429315\" xlink:href=\"#m73fbb7cdd7\" y=\"110.928264\"/>\r\n     <use style=\"fill:#ff0000;stroke:#ff0000;\" x=\"121.344243\" xlink:href=\"#m73fbb7cdd7\" y=\"150.862149\"/>\r\n     <use style=\"fill:#ff0000;stroke:#ff0000;\" x=\"150.145288\" xlink:href=\"#m73fbb7cdd7\" y=\"118.915041\"/>\r\n     <use style=\"fill:#ff0000;stroke:#ff0000;\" x=\"160.291796\" xlink:href=\"#m73fbb7cdd7\" y=\"134.888595\"/>\r\n     <use style=\"fill:#ff0000;stroke:#ff0000;\" x=\"167.491177\" xlink:href=\"#m73fbb7cdd7\" y=\"126.901818\"/>\r\n     <use style=\"fill:#ff0000;stroke:#ff0000;\" x=\"330.17218\" xlink:href=\"#m73fbb7cdd7\" y=\"118.915041\"/>\r\n     <use style=\"fill:#ff0000;stroke:#ff0000;\" x=\"295.419\" xlink:href=\"#m73fbb7cdd7\" y=\"55.020826\"/>\r\n     <use style=\"fill:#ff0000;stroke:#ff0000;\" x=\"112.589526\" xlink:href=\"#m73fbb7cdd7\" y=\"102.941488\"/>\r\n     <use style=\"fill:#ff0000;stroke:#ff0000;\" x=\"157.661252\" xlink:href=\"#m73fbb7cdd7\" y=\"118.915041\"/>\r\n     <use style=\"fill:#ff0000;stroke:#ff0000;\" x=\"278.137671\" xlink:href=\"#m73fbb7cdd7\" y=\"110.928264\"/>\r\n     <use style=\"fill:#ff0000;stroke:#ff0000;\" x=\"287.873961\" xlink:href=\"#m73fbb7cdd7\" y=\"150.862149\"/>\r\n     <use style=\"fill:#ff0000;stroke:#ff0000;\" x=\"167.490369\" xlink:href=\"#m73fbb7cdd7\" y=\"57.017521\"/>\r\n     <use style=\"fill:#ff0000;stroke:#ff0000;\" x=\"136.689279\" xlink:href=\"#m73fbb7cdd7\" y=\"142.875372\"/>\r\n     <use style=\"fill:#ff0000;stroke:#ff0000;\" x=\"140.352167\" xlink:href=\"#m73fbb7cdd7\" y=\"86.967934\"/>\r\n     <use style=\"fill:#ff0000;stroke:#ff0000;\" x=\"290.498989\" xlink:href=\"#m73fbb7cdd7\" y=\"126.901818\"/>\r\n     <use style=\"fill:#ff0000;stroke:#ff0000;\" x=\"159.19724\" xlink:href=\"#m73fbb7cdd7\" y=\"118.915041\"/>\r\n     <use style=\"fill:#ff0000;stroke:#ff0000;\" x=\"114.775112\" xlink:href=\"#m73fbb7cdd7\" y=\"33.05719\"/>\r\n     <use style=\"fill:#ff0000;stroke:#ff0000;\" x=\"131.315471\" xlink:href=\"#m73fbb7cdd7\" y=\"17.083636\"/>\r\n     <use style=\"fill:#ff0000;stroke:#ff0000;\" x=\"317.322452\" xlink:href=\"#m73fbb7cdd7\" y=\"33.05719\"/>\r\n     <use style=\"fill:#ff0000;stroke:#ff0000;\" x=\"164.602333\" xlink:href=\"#m73fbb7cdd7\" y=\"102.941488\"/>\r\n     <use style=\"fill:#ff0000;stroke:#ff0000;\" x=\"125.286812\" xlink:href=\"#m73fbb7cdd7\" y=\"49.030744\"/>\r\n     <use style=\"fill:#ff0000;stroke:#ff0000;\" x=\"307.229978\" xlink:href=\"#m73fbb7cdd7\" y=\"126.901818\"/>\r\n     <use style=\"fill:#ff0000;stroke:#ff0000;\" x=\"164.620544\" xlink:href=\"#m73fbb7cdd7\" y=\"134.888595\"/>\r\n     <use style=\"fill:#ff0000;stroke:#ff0000;\" x=\"130.624131\" xlink:href=\"#m73fbb7cdd7\" y=\"88.964628\"/>\r\n     <use style=\"fill:#ff0000;stroke:#ff0000;\" x=\"342.097668\" xlink:href=\"#m73fbb7cdd7\" y=\"102.941488\"/>\r\n     <use style=\"fill:#ff0000;stroke:#ff0000;\" x=\"300.196777\" xlink:href=\"#m73fbb7cdd7\" y=\"102.941488\"/>\r\n     <use style=\"fill:#ff0000;stroke:#ff0000;\" x=\"160.506054\" xlink:href=\"#m73fbb7cdd7\" y=\"70.99438\"/>\r\n     <use style=\"fill:#ff0000;stroke:#ff0000;\" x=\"304.248682\" xlink:href=\"#m73fbb7cdd7\" y=\"70.99438\"/>\r\n     <use style=\"fill:#ff0000;stroke:#ff0000;\" x=\"296.407718\" xlink:href=\"#m73fbb7cdd7\" y=\"142.875372\"/>\r\n     <use style=\"fill:#ff0000;stroke:#ff0000;\" x=\"147.555891\" xlink:href=\"#m73fbb7cdd7\" y=\"118.915041\"/>\r\n     <use style=\"fill:#ff0000;stroke:#ff0000;\" x=\"146.16251\" xlink:href=\"#m73fbb7cdd7\" y=\"142.875372\"/>\r\n     <use style=\"fill:#ff0000;stroke:#ff0000;\" x=\"319.504967\" xlink:href=\"#m73fbb7cdd7\" y=\"86.967934\"/>\r\n     <use style=\"fill:#ff0000;stroke:#ff0000;\" x=\"303.171036\" xlink:href=\"#m73fbb7cdd7\" y=\"102.941488\"/>\r\n     <use style=\"fill:#ff0000;stroke:#ff0000;\" x=\"300.5698\" xlink:href=\"#m73fbb7cdd7\" y=\"134.888595\"/>\r\n     <use style=\"fill:#ff0000;stroke:#ff0000;\" x=\"156.510576\" xlink:href=\"#m73fbb7cdd7\" y=\"118.915041\"/>\r\n     <use style=\"fill:#ff0000;stroke:#ff0000;\" x=\"349.870141\" xlink:href=\"#m73fbb7cdd7\" y=\"102.941488\"/>\r\n     <use style=\"fill:#ff0000;stroke:#ff0000;\" x=\"363.363068\" xlink:href=\"#m73fbb7cdd7\" y=\"86.967934\"/>\r\n     <use style=\"fill:#ff0000;stroke:#ff0000;\" x=\"132.223145\" xlink:href=\"#m73fbb7cdd7\" y=\"94.954711\"/>\r\n     <use style=\"fill:#ff0000;stroke:#ff0000;\" x=\"168.612654\" xlink:href=\"#m73fbb7cdd7\" y=\"63.007603\"/>\r\n     <use style=\"fill:#ff0000;stroke:#ff0000;\" x=\"126.678744\" xlink:href=\"#m73fbb7cdd7\" y=\"134.888595\"/>\r\n     <use style=\"fill:#ff0000;stroke:#ff0000;\" x=\"138.532244\" xlink:href=\"#m73fbb7cdd7\" y=\"126.901818\"/>\r\n     <use style=\"fill:#ff0000;stroke:#ff0000;\" x=\"344.678523\" xlink:href=\"#m73fbb7cdd7\" y=\"78.981157\"/>\r\n     <use style=\"fill:#ff0000;stroke:#ff0000;\" x=\"161.827985\" xlink:href=\"#m73fbb7cdd7\" y=\"110.928264\"/>\r\n     <use style=\"fill:#ff0000;stroke:#ff0000;\" x=\"150.816332\" xlink:href=\"#m73fbb7cdd7\" y=\"94.954711\"/>\r\n     <use style=\"fill:#ff0000;stroke:#ff0000;\" x=\"311.458501\" xlink:href=\"#m73fbb7cdd7\" y=\"94.954711\"/>\r\n     <use style=\"fill:#ff0000;stroke:#ff0000;\" x=\"130.992922\" xlink:href=\"#m73fbb7cdd7\" y=\"118.915041\"/>\r\n     <use style=\"fill:#ff0000;stroke:#ff0000;\" x=\"137.88786\" xlink:href=\"#m73fbb7cdd7\" y=\"102.941488\"/>\r\n     <use style=\"fill:#ff0000;stroke:#ff0000;\" x=\"167.071691\" xlink:href=\"#m73fbb7cdd7\" y=\"78.981157\"/>\r\n     <use style=\"fill:#ff0000;stroke:#ff0000;\" x=\"140.781618\" xlink:href=\"#m73fbb7cdd7\" y=\"102.941488\"/>\r\n     <use style=\"fill:#ff0000;stroke:#ff0000;\" x=\"58.999432\" xlink:href=\"#m73fbb7cdd7\" y=\"110.928264\"/>\r\n     <use style=\"fill:#ff0000;stroke:#ff0000;\" x=\"125.351592\" xlink:href=\"#m73fbb7cdd7\" y=\"25.070413\"/>\r\n     <use style=\"fill:#ff0000;stroke:#ff0000;\" x=\"125.269028\" xlink:href=\"#m73fbb7cdd7\" y=\"78.981157\"/>\r\n     <use style=\"fill:#ff0000;stroke:#ff0000;\" x=\"168.12733\" xlink:href=\"#m73fbb7cdd7\" y=\"65.004298\"/>\r\n     <use style=\"fill:#ff0000;stroke:#ff0000;\" x=\"294.845573\" xlink:href=\"#m73fbb7cdd7\" y=\"78.981157\"/>\r\n     <use style=\"fill:#ff0000;stroke:#ff0000;\" x=\"157.163409\" xlink:href=\"#m73fbb7cdd7\" y=\"134.888595\"/>\r\n     <use style=\"fill:#ff0000;stroke:#ff0000;\" x=\"144.160745\" xlink:href=\"#m73fbb7cdd7\" y=\"134.888595\"/>\r\n     <use style=\"fill:#ff0000;stroke:#ff0000;\" x=\"307.040256\" xlink:href=\"#m73fbb7cdd7\" y=\"102.941488\"/>\r\n     <use style=\"fill:#ff0000;stroke:#ff0000;\" x=\"170.457187\" xlink:href=\"#m73fbb7cdd7\" y=\"110.928264\"/>\r\n     <use style=\"fill:#ff0000;stroke:#ff0000;\" x=\"162.056347\" xlink:href=\"#m73fbb7cdd7\" y=\"158.848926\"/>\r\n     <use style=\"fill:#ff0000;stroke:#ff0000;\" x=\"346.712818\" xlink:href=\"#m73fbb7cdd7\" y=\"126.901818\"/>\r\n     <use style=\"fill:#ff0000;stroke:#ff0000;\" x=\"305.835477\" xlink:href=\"#m73fbb7cdd7\" y=\"110.928264\"/>\r\n     <use style=\"fill:#ff0000;stroke:#ff0000;\" x=\"162.77581\" xlink:href=\"#m73fbb7cdd7\" y=\"102.941488\"/>\r\n     <use style=\"fill:#ff0000;stroke:#ff0000;\" x=\"98.324687\" xlink:href=\"#m73fbb7cdd7\" y=\"57.017521\"/>\r\n     <use style=\"fill:#ff0000;stroke:#ff0000;\" x=\"124.089521\" xlink:href=\"#m73fbb7cdd7\" y=\"102.941488\"/>\r\n     <use style=\"fill:#ff0000;stroke:#ff0000;\" x=\"307.710539\" xlink:href=\"#m73fbb7cdd7\" y=\"57.017521\"/>\r\n     <use style=\"fill:#ff0000;stroke:#ff0000;\" x=\"164.92034\" xlink:href=\"#m73fbb7cdd7\" y=\"134.888595\"/>\r\n     <use style=\"fill:#ff0000;stroke:#ff0000;\" x=\"112.346504\" xlink:href=\"#m73fbb7cdd7\" y=\"126.901818\"/>\r\n     <use style=\"fill:#ff0000;stroke:#ff0000;\" x=\"167.199297\" xlink:href=\"#m73fbb7cdd7\" y=\"49.030744\"/>\r\n     <use style=\"fill:#ff0000;stroke:#ff0000;\" x=\"300.715597\" xlink:href=\"#m73fbb7cdd7\" y=\"150.862149\"/>\r\n     <use style=\"fill:#ff0000;stroke:#ff0000;\" x=\"144.24474\" xlink:href=\"#m73fbb7cdd7\" y=\"126.901818\"/>\r\n     <use style=\"fill:#ff0000;stroke:#ff0000;\" x=\"171.507044\" xlink:href=\"#m73fbb7cdd7\" y=\"102.941488\"/>\r\n     <use style=\"fill:#ff0000;stroke:#ff0000;\" x=\"169.090212\" xlink:href=\"#m73fbb7cdd7\" y=\"102.941488\"/>\r\n     <use style=\"fill:#ff0000;stroke:#ff0000;\" x=\"111.706601\" xlink:href=\"#m73fbb7cdd7\" y=\"94.954711\"/>\r\n     <use style=\"fill:#ff0000;stroke:#ff0000;\" x=\"158.411698\" xlink:href=\"#m73fbb7cdd7\" y=\"102.941488\"/>\r\n     <use style=\"fill:#ff0000;stroke:#ff0000;\" x=\"141.097757\" xlink:href=\"#m73fbb7cdd7\" y=\"142.875372\"/>\r\n     <use style=\"fill:#ff0000;stroke:#ff0000;\" x=\"127.149433\" xlink:href=\"#m73fbb7cdd7\" y=\"57.017521\"/>\r\n     <use style=\"fill:#ff0000;stroke:#ff0000;\" x=\"126.353203\" xlink:href=\"#m73fbb7cdd7\" y=\"150.862149\"/>\r\n     <use style=\"fill:#ff0000;stroke:#ff0000;\" x=\"284.511499\" xlink:href=\"#m73fbb7cdd7\" y=\"112.924959\"/>\r\n     <use style=\"fill:#ff0000;stroke:#ff0000;\" x=\"314.182809\" xlink:href=\"#m73fbb7cdd7\" y=\"158.848926\"/>\r\n     <use style=\"fill:#ff0000;stroke:#ff0000;\" x=\"306.002212\" xlink:href=\"#m73fbb7cdd7\" y=\"86.967934\"/>\r\n     <use style=\"fill:#ff0000;stroke:#ff0000;\" x=\"135.472402\" xlink:href=\"#m73fbb7cdd7\" y=\"126.901818\"/>\r\n     <use style=\"fill:#ff0000;stroke:#ff0000;\" x=\"118.257453\" xlink:href=\"#m73fbb7cdd7\" y=\"134.888595\"/>\r\n     <use style=\"fill:#ff0000;stroke:#ff0000;\" x=\"146.35301\" xlink:href=\"#m73fbb7cdd7\" y=\"72.991074\"/>\r\n     <use style=\"fill:#ff0000;stroke:#ff0000;\" x=\"151.961598\" xlink:href=\"#m73fbb7cdd7\" y=\"94.954711\"/>\r\n     <use style=\"fill:#ff0000;stroke:#ff0000;\" x=\"322.771456\" xlink:href=\"#m73fbb7cdd7\" y=\"126.901818\"/>\r\n     <use style=\"fill:#ff0000;stroke:#ff0000;\" x=\"104.079959\" xlink:href=\"#m73fbb7cdd7\" y=\"110.928264\"/>\r\n     <use style=\"fill:#ff0000;stroke:#ff0000;\" x=\"139.609357\" xlink:href=\"#m73fbb7cdd7\" y=\"78.981157\"/>\r\n     <use style=\"fill:#ff0000;stroke:#ff0000;\" x=\"142.131865\" xlink:href=\"#m73fbb7cdd7\" y=\"134.888595\"/>\r\n     <use style=\"fill:#ff0000;stroke:#ff0000;\" x=\"147.80144\" xlink:href=\"#m73fbb7cdd7\" y=\"49.030744\"/>\r\n     <use style=\"fill:#ff0000;stroke:#ff0000;\" x=\"301.499185\" xlink:href=\"#m73fbb7cdd7\" y=\"27.067107\"/>\r\n     <use style=\"fill:#ff0000;stroke:#ff0000;\" x=\"158.919107\" xlink:href=\"#m73fbb7cdd7\" y=\"78.981157\"/>\r\n     <use style=\"fill:#ff0000;stroke:#ff0000;\" x=\"352.255056\" xlink:href=\"#m73fbb7cdd7\" y=\"80.977851\"/>\r\n     <use style=\"fill:#ff0000;stroke:#ff0000;\" x=\"304.51794\" xlink:href=\"#m73fbb7cdd7\" y=\"25.070413\"/>\r\n     <use style=\"fill:#ff0000;stroke:#ff0000;\" x=\"167.239429\" xlink:href=\"#m73fbb7cdd7\" y=\"126.901818\"/>\r\n     <use style=\"fill:#ff0000;stroke:#ff0000;\" x=\"167.220874\" xlink:href=\"#m73fbb7cdd7\" y=\"134.888595\"/>\r\n     <use style=\"fill:#ff0000;stroke:#ff0000;\" x=\"131.795497\" xlink:href=\"#m73fbb7cdd7\" y=\"214.756364\"/>\r\n    </g>\r\n   </g>\r\n   <g id=\"patch_3\">\r\n    <path d=\"M 43.78125 224.64 \r\nL 43.78125 7.2 \r\n\" style=\"fill:none;stroke:#000000;stroke-linecap:square;stroke-linejoin:miter;stroke-width:0.8;\"/>\r\n   </g>\r\n   <g id=\"patch_4\">\r\n    <path d=\"M 378.58125 224.64 \r\nL 378.58125 7.2 \r\n\" style=\"fill:none;stroke:#000000;stroke-linecap:square;stroke-linejoin:miter;stroke-width:0.8;\"/>\r\n   </g>\r\n   <g id=\"patch_5\">\r\n    <path d=\"M 43.78125 224.64 \r\nL 378.58125 224.64 \r\n\" style=\"fill:none;stroke:#000000;stroke-linecap:square;stroke-linejoin:miter;stroke-width:0.8;\"/>\r\n   </g>\r\n   <g id=\"patch_6\">\r\n    <path d=\"M 43.78125 7.2 \r\nL 378.58125 7.2 \r\n\" style=\"fill:none;stroke:#000000;stroke-linecap:square;stroke-linejoin:miter;stroke-width:0.8;\"/>\r\n   </g>\r\n  </g>\r\n </g>\r\n <defs>\r\n  <clipPath id=\"pc03d179d9f\">\r\n   <rect height=\"217.44\" width=\"334.8\" x=\"43.78125\" y=\"7.2\"/>\r\n  </clipPath>\r\n </defs>\r\n</svg>\r\n",
      "image/png": "[encoded data removed]"
     },
     "metadata": {
      "needs_background": "light"
     }
    },
    {
     "output_type": "stream",
     "name": "stderr",
     "text": [
      "INFO:root:max fitness: -16.55300402148166\n",
      "INFO:root:52 survived walker,\n"
     ]
    },
    {
     "output_type": "error",
     "ename": "TypeError",
     "evalue": "crossover() missing 1 required positional argument: 'parents'",
     "traceback": [
      "\u001b[1;31m---------------------------------------------------------------------------\u001b[0m",
      "\u001b[1;31mTypeError\u001b[0m                                 Traceback (most recent call last)",
      "\u001b[1;32m<ipython-input-2-c50673c64a1c>\u001b[0m in \u001b[0;36m<module>\u001b[1;34m\u001b[0m\n\u001b[0;32m     52\u001b[0m             \u001b[0mtrain_evaluator\u001b[0m\u001b[1;33m.\u001b[0m\u001b[0meval_training\u001b[0m\u001b[1;33m(\u001b[0m\u001b[0mpop_manager\u001b[0m\u001b[1;33m.\u001b[0m\u001b[0mpopulation\u001b[0m\u001b[1;33m)\u001b[0m\u001b[1;33m\u001b[0m\u001b[1;33m\u001b[0m\u001b[0m\n\u001b[0;32m     53\u001b[0m \u001b[1;33m\u001b[0m\u001b[0m\n\u001b[1;32m---> 54\u001b[1;33m         \u001b[0mpop_manager\u001b[0m\u001b[1;33m.\u001b[0m\u001b[0mbreed_new_population\u001b[0m\u001b[1;33m(\u001b[0m\u001b[1;33m)\u001b[0m\u001b[1;33m\u001b[0m\u001b[1;33m\u001b[0m\u001b[0m\n\u001b[0m\u001b[0;32m     55\u001b[0m \u001b[1;33m\u001b[0m\u001b[0m\n\u001b[0;32m     56\u001b[0m         \u001b[0mprint\u001b[0m\u001b[1;33m(\u001b[0m\u001b[1;34mf\"Time: {(time.time() - t_start):.2f} sec\"\u001b[0m\u001b[1;33m)\u001b[0m\u001b[1;33m\u001b[0m\u001b[1;33m\u001b[0m\u001b[0m\n",
      "\u001b[1;32md:\\DEV\\Python\\EvAlg-gym\\src\\evolutionCtrl.py\u001b[0m in \u001b[0;36mbreed_new_population\u001b[1;34m(self)\u001b[0m\n\u001b[0;32m     23\u001b[0m         \u001b[1;32mwhile\u001b[0m\u001b[1;33m(\u001b[0m\u001b[0mlen\u001b[0m\u001b[1;33m(\u001b[0m\u001b[0mself\u001b[0m\u001b[1;33m.\u001b[0m\u001b[0mpopulation\u001b[0m\u001b[1;33m)\u001b[0m \u001b[1;33m<\u001b[0m \u001b[0mpop_size_in\u001b[0m\u001b[1;33m)\u001b[0m\u001b[1;33m:\u001b[0m\u001b[1;33m\u001b[0m\u001b[1;33m\u001b[0m\u001b[0m\n\u001b[0;32m     24\u001b[0m             \u001b[0mparents\u001b[0m \u001b[1;33m=\u001b[0m \u001b[1;33m[\u001b[0m\u001b[0mrandom\u001b[0m\u001b[1;33m.\u001b[0m\u001b[0mchoice\u001b[0m\u001b[1;33m(\u001b[0m\u001b[0mself\u001b[0m\u001b[1;33m.\u001b[0m\u001b[0mpopulation\u001b[0m\u001b[1;33m)\u001b[0m\u001b[1;33m,\u001b[0m \u001b[0mrandom\u001b[0m\u001b[1;33m.\u001b[0m\u001b[0mchoice\u001b[0m\u001b[1;33m(\u001b[0m\u001b[0mself\u001b[0m\u001b[1;33m.\u001b[0m\u001b[0mpopulation\u001b[0m\u001b[1;33m)\u001b[0m\u001b[1;33m]\u001b[0m\u001b[1;33m\u001b[0m\u001b[1;33m\u001b[0m\u001b[0m\n\u001b[1;32m---> 25\u001b[1;33m             \u001b[0mchild\u001b[0m \u001b[1;33m=\u001b[0m \u001b[0mself\u001b[0m\u001b[1;33m.\u001b[0m\u001b[0mcrossover\u001b[0m\u001b[1;33m(\u001b[0m\u001b[0mparents\u001b[0m\u001b[1;33m)\u001b[0m\u001b[1;33m\u001b[0m\u001b[1;33m\u001b[0m\u001b[0m\n\u001b[0m\u001b[0;32m     26\u001b[0m             \u001b[0mself\u001b[0m\u001b[1;33m.\u001b[0m\u001b[0mpopulation\u001b[0m\u001b[1;33m.\u001b[0m\u001b[0mappend\u001b[0m\u001b[1;33m(\u001b[0m\u001b[0mchild\u001b[0m\u001b[1;33m)\u001b[0m\u001b[1;33m\u001b[0m\u001b[1;33m\u001b[0m\u001b[0m\n",
      "\u001b[1;32md:\\DEV\\Python\\EvAlg-gym\\src\\evolutionCtrl.py\u001b[0m in \u001b[0;36m<lambda>\u001b[1;34m(x)\u001b[0m\n\u001b[0;32m     14\u001b[0m         \u001b[1;31m# operators\u001b[0m\u001b[1;33m\u001b[0m\u001b[1;33m\u001b[0m\u001b[1;33m\u001b[0m\u001b[0m\n\u001b[0;32m     15\u001b[0m         \u001b[0mself\u001b[0m\u001b[1;33m.\u001b[0m\u001b[0mselection\u001b[0m \u001b[1;33m=\u001b[0m \u001b[1;32mlambda\u001b[0m \u001b[0mx\u001b[0m\u001b[1;33m:\u001b[0m \u001b[0mSelection\u001b[0m\u001b[1;33m.\u001b[0m\u001b[0mrank_based_selection\u001b[0m\u001b[1;33m(\u001b[0m\u001b[0mx\u001b[0m\u001b[1;33m)\u001b[0m\u001b[1;33m\u001b[0m\u001b[1;33m\u001b[0m\u001b[0m\n\u001b[1;32m---> 16\u001b[1;33m         \u001b[0mself\u001b[0m\u001b[1;33m.\u001b[0m\u001b[0mcrossover\u001b[0m \u001b[1;33m=\u001b[0m \u001b[1;32mlambda\u001b[0m \u001b[0mx\u001b[0m\u001b[1;33m:\u001b[0m \u001b[0mCrossover\u001b[0m\u001b[1;33m.\u001b[0m\u001b[0mcrossover\u001b[0m\u001b[1;33m(\u001b[0m\u001b[0mx\u001b[0m\u001b[1;33m)\u001b[0m\u001b[1;33m\u001b[0m\u001b[1;33m\u001b[0m\u001b[0m\n\u001b[0m\u001b[0;32m     17\u001b[0m \u001b[1;33m\u001b[0m\u001b[0m\n\u001b[0;32m     18\u001b[0m     \u001b[1;32mdef\u001b[0m \u001b[0mbreed_new_population\u001b[0m\u001b[1;33m(\u001b[0m\u001b[0mself\u001b[0m\u001b[1;33m)\u001b[0m\u001b[1;33m:\u001b[0m\u001b[1;33m\u001b[0m\u001b[1;33m\u001b[0m\u001b[0m\n",
      "\u001b[1;31mTypeError\u001b[0m: crossover() missing 1 required positional argument: 'parents'"
     ]
    }
   ],
   "source": [
    "import gym\n",
    "import time\n",
    "from src.individuum.entity import Entity\n",
    "from src.evolutionCtrl import Population_Manager\n",
    "from src.trainEval import TrainEval\n",
    "import logging\n",
    "from src.optional.welford import Welford\n",
    "#############\n",
    "import copy\n",
    "#############\n",
    "\n",
    "logging.basicConfig(level=logging.INFO)\n",
    "gym.logger.set_level(40)\n",
    "\n",
    "# 1) Environment\n",
    "env = gym.make(\"BipedalWalker-v3\")\n",
    "print(f\"Dim. action space: {env.action_space.shape}\")\n",
    "print(f\"Dim. observation space: {env.observation_space.shape}\")\n",
    "\n",
    "# 2) Training Params\n",
    "POP_SIZE = 100\n",
    "MAX_SEQUENCE_LEN = 400\n",
    "N_GENERATIONS = 2500\n",
    "MUTATION_RATE = .1\n",
    "PROB_NODE_COPY = .1\n",
    "WEIGHT_INIT_INTERVAL = [-1.0, 1.0]\n",
    "WELFORD = False\n",
    "print(f\"Welford-normalizer set to : {WELFORD}\")\n",
    "N_LAYER_NODES = [env.observation_space.shape[0],\n",
    "                 35,\n",
    "                 env.action_space.shape[0]]\n",
    "\n",
    "init_population = [Entity(N_LAYER_NODES, WEIGHT_INIT_INTERVAL)\n",
    "                   for i in range(POP_SIZE)]\n",
    "\n",
    "pop_manager = Population_Manager(init_population, MUTATION_RATE,\n",
    "                                 PROB_NODE_COPY)\n",
    "\n",
    "train_evaluator = TrainEval()\n",
    "\n",
    "# 4) Start training\n",
    "if __name__ == '__main__':\n",
    "    for generation in range(N_GENERATIONS):\n",
    "        t_start = time.time()\n",
    "\n",
    "        print(f\"--- Generation {generation} ---\")\n",
    "        for entity in pop_manager.population:\n",
    "            if not entity.survived:\n",
    "                agent_env_loop(entity, generation)\n",
    "\n",
    "        # if generation % 100 == 0:\n",
    "        #     train_evaluator.eval_training(pop_manager.population)\n",
    "\n",
    "        pop_manager.breed_new_population()\n",
    "\n",
    "        print(f\"Time: {(time.time() - t_start):.2f} sec\")\n",
    "\n",
    "# TODO: type checking, properties"
   ]
  },
  {
   "cell_type": "code",
   "execution_count": 11,
   "metadata": {},
   "outputs": [
    {
     "output_type": "execute_result",
     "data": {
      "text/plain": [
       "56.074588818497155"
      ]
     },
     "metadata": {},
     "execution_count": 11
    }
   ],
   "source": [
    "pop_manager.population.sort(key=lambda x: x.fitness, reverse=True) \n",
    "best_agent = pop_manager.population[5]\n",
    "best_agent.fitness"
   ]
  },
  {
   "cell_type": "code",
   "execution_count": 12,
   "metadata": {},
   "outputs": [
    {
     "output_type": "execute_result",
     "data": {
      "text/plain": [
       "57.91824195449292"
      ]
     },
     "metadata": {},
     "execution_count": 12
    }
   ],
   "source": [
    "env.seed(10) \n",
    "observation = env.reset()\n",
    "reward_test = .0\n",
    "obs_list = []\n",
    "for _ in range(MAX_SEQUENCE_LEN):\n",
    "    env.render()\n",
    "    action = best_agent.controller.feed_forward(observation)            # a_t, s_t            \n",
    "    observation, reward, done, _ = env.step(action)                     # s_{t+1}, r_{t+1}, a_t \n",
    "    obs_list.append(observation)\n",
    "    reward_test += reward\n",
    "env.close()\n",
    "reward_test"
   ]
  },
  {
   "cell_type": "code",
   "execution_count": 37,
   "metadata": {},
   "outputs": [],
   "source": [
    "import numpy as np\n",
    "for i, weights in enumerate(best_agent.controller.weights):\n",
    "    np.savetxt(\"layer_\" + str(i), weights)\n",
    "    np.savetxt(\"bias_\" + str(i), best_agent.controller.bias[i])"
   ]
  },
  {
   "cell_type": "code",
   "execution_count": null,
   "metadata": {},
   "outputs": [],
   "source": []
  },
  {
   "cell_type": "code",
   "execution_count": 17,
   "metadata": {},
   "outputs": [],
   "source": [
    "dim_1 = [x[0] for x in obs_list]\n",
    "adim = [x[3] for x in action_list]\n",
    "#adim"
   ]
  },
  {
   "cell_type": "code",
   "execution_count": 35,
   "metadata": {},
   "outputs": [],
   "source": [
    "class testclass(object):\n",
    "    def __init__(self):\n",
    "        self.weights = [[1,2,3], [4,5,6]]\n",
    "\n",
    "x = testclass()"
   ]
  },
  {
   "cell_type": "code",
   "execution_count": 36,
   "metadata": {},
   "outputs": [
    {
     "output_type": "execute_result",
     "data": {
      "text/plain": [
       "[1, 2, 3]"
      ]
     },
     "metadata": {},
     "execution_count": 36
    }
   ],
   "source": [
    "y = x.weights[0]\n",
    "y"
   ]
  },
  {
   "cell_type": "code",
   "execution_count": 37,
   "metadata": {},
   "outputs": [],
   "source": [
    "y[0] = 7"
   ]
  },
  {
   "cell_type": "code",
   "execution_count": 38,
   "metadata": {},
   "outputs": [
    {
     "output_type": "execute_result",
     "data": {
      "text/plain": [
       "[7, 2, 3]"
      ]
     },
     "metadata": {},
     "execution_count": 38
    }
   ],
   "source": [
    "x.weights[0]"
   ]
  },
  {
   "cell_type": "code",
   "execution_count": 39,
   "metadata": {},
   "outputs": [
    {
     "output_type": "execute_result",
     "data": {
      "text/plain": [
       "[7, 2, 3]"
      ]
     },
     "metadata": {},
     "execution_count": 39
    }
   ],
   "source": [
    "y"
   ]
  },
  {
   "cell_type": "code",
   "execution_count": 34,
   "metadata": {},
   "outputs": [
    {
     "output_type": "execute_result",
     "data": {
      "text/plain": [
       "[4, 2, 3]"
      ]
     },
     "metadata": {},
     "execution_count": 34
    }
   ],
   "source": [
    "a = [1,2,3]\n",
    "b = a\n",
    "b[0] = 4\n",
    "a"
   ]
  },
  {
   "cell_type": "code",
   "execution_count": 5,
   "metadata": {},
   "outputs": [],
   "source": [
    "import numpy as np\n",
    "weights = np.random.uniform(-1.0, 1.0, (4, 3))\n",
    "weights_2 = np.random.uniform(-1.0, 1.0, (4, 3))"
   ]
  },
  {
   "cell_type": "code",
   "execution_count": 21,
   "metadata": {},
   "outputs": [
    {
     "output_type": "execute_result",
     "data": {
      "text/plain": [
       "array([[-0.13601143,  0.97048332, -0.8253675 ],\n",
       "       [ 0.72817677,  0.75721678,  0.75244338],\n",
       "       [-0.26970826, -0.59656433,  0.79409955],\n",
       "       [-0.86833561, -0.64606015, -0.6582288 ]])"
      ]
     },
     "metadata": {},
     "execution_count": 21
    }
   ],
   "source": [
    "from difflib import SequenceMatcher as SequMatch\n",
    "\n",
    "rat = 0.0\n",
    "for i in range(len(weights)):\n",
    "    sm = SequMatch(None, weights[i].round(1), weights_2[i].round(1))\n",
    "    rat += sm.ratio()\n",
    "weights\n",
    "weights_2\n",
    "#rat"
   ]
  },
  {
   "cell_type": "code",
   "execution_count": 10,
   "metadata": {},
   "outputs": [
    {
     "output_type": "execute_result",
     "data": {
      "text/plain": [
       "array([0.96191887, 0.5971491 , 0.52781256])"
      ]
     },
     "metadata": {},
     "execution_count": 10
    }
   ],
   "source": [
    "np.random.uniform(low = -1.0, high = 1.0, size = 3)"
   ]
  },
  {
   "cell_type": "code",
   "execution_count": 1,
   "metadata": {},
   "outputs": [
    {
     "output_type": "execute_result",
     "data": {
      "text/plain": [
       "140703733913392"
      ]
     },
     "metadata": {},
     "execution_count": 1
    }
   ],
   "source": [
    "id(2)"
   ]
  },
  {
   "cell_type": "code",
   "execution_count": 3,
   "metadata": {},
   "outputs": [
    {
     "output_type": "execute_result",
     "data": {
      "text/plain": [
       "1553873537200"
      ]
     },
     "metadata": {},
     "execution_count": 3
    }
   ],
   "source": [
    "id(2.0)"
   ]
  },
  {
   "cell_type": "code",
   "execution_count": null,
   "metadata": {},
   "outputs": [],
   "source": []
  }
 ]
}