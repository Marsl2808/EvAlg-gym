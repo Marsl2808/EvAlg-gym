{
 "metadata": {
  "language_info": {
   "codemirror_mode": {
    "name": "ipython",
    "version": 3
   },
   "file_extension": ".py",
   "mimetype": "text/x-python",
   "name": "python",
   "nbconvert_exporter": "python",
   "pygments_lexer": "ipython3",
   "version": "3.7.10"
  },
  "orig_nbformat": 2,
  "kernelspec": {
   "name": "python3710jvsc74a57bd0df4b48496479b6dbac9f82cbbc0bc05dc03b6aa29290929ce28ee161e7111e9c",
   "display_name": "Python 3.7.10 64-bit ('gym': conda)"
  },
  "metadata": {
   "interpreter": {
    "hash": "df4b48496479b6dbac9f82cbbc0bc05dc03b6aa29290929ce28ee161e7111e9c"
   }
  }
 },
 "nbformat": 4,
 "nbformat_minor": 2,
 "cells": [
  {
   "cell_type": "code",
   "execution_count": 1,
   "metadata": {},
   "outputs": [
    {
     "output_type": "stream",
     "name": "stdout",
     "text": [
      "Dim. action space: (4,)\n",
      "Dim. observation space: (24,)\n",
      "C:\\Users\\Mars\\Anaconda3\\envs\\gym\\lib\\site-packages\\gym\\logger.py:30: UserWarning: \u001b[33mWARN: Box bound precision lowered by casting to float32\u001b[0m\n",
      "  warnings.warn(colorize('%s: %s'%('WARN', msg % args), 'yellow'))\n"
     ]
    }
   ],
   "source": [
    "import gym\n",
    "import time\n",
    "from src.Entity import Entity\n",
    "from src.EvolutionCtrl import Population_Manager\n",
    "\n",
    "# 1) Environment\n",
    "env = gym.make(\"BipedalWalker-v3\") \n",
    "print(f\"Dim. action space: {env.action_space.shape}\")\n",
    "print(f\"Dim. observation space: {env.observation_space.shape}\")\n",
    "\n",
    "# 2) Training Params\n",
    "POP_SIZE = 100\n",
    "MAX_SEQUENCE_LEN = 400\n",
    "N_GENERATIONS = 1500    \n",
    "MUTATION_RATE = .1\n",
    "#MUTATE_BIAS_GEN = 20\n",
    "PROB_NODE_COPY = .1\n",
    "WEIGHT_INIT_INTERVAL = [-1, 1]\n",
    "\n",
    "n_layer_nodes = [env.observation_space.shape[0], 48, 48, 32, env.action_space.shape[0]]\n",
    "\n",
    "init_population = [Entity(n_layer_nodes, WEIGHT_INIT_INTERVAL) for i in range(POP_SIZE)]  \n",
    "\n",
    "pop_manager = Population_Manager(init_population, MUTATION_RATE, PROB_NODE_COPY)"
   ]
  },
  {
   "cell_type": "code",
   "execution_count": 2,
   "metadata": {
    "tags": [
     "outputPrepend"
    ]
   },
   "outputs": [
    {
     "output_type": "stream",
     "name": "stdout",
     "text": [
      "38905968989648\n",
      "Generation 18: 3.492997169494629\n",
      "52 survived walker,max fitness: -20.938905968989648\n",
      "Generation 19: 3.935004234313965\n",
      "56 survived walker,max fitness: -20.938905968989648\n",
      "Generation 20: 3.7749955654144287\n",
      "55 survived walker,max fitness: -20.938905968989648\n",
      "Generation 21: 3.025003671646118\n",
      "55 survived walker,max fitness: -20.938905968989648\n",
      "Generation 22: 3.8479974269866943\n",
      "48 survived walker,max fitness: -20.938905968989648\n",
      "Generation 23: 2.7140309810638428\n",
      "52 survived walker,max fitness: -20.938905968989648\n",
      "Generation 24: 4.259968519210815\n",
      "49 survived walker,max fitness: -20.938905968989648\n",
      "Generation 25: 4.206002473831177\n",
      "54 survived walker,max fitness: -20.938905968989648\n",
      "Generation 26: 4.077025413513184\n",
      "48 survived walker,max fitness: -20.938905968989648\n",
      "Generation 27: 4.534978628158569\n",
      "41 survived walker,max fitness: -20.938905968989648\n",
      "Generation 28: 4.065992832183838\n",
      "53 survived walker,max fitness: -20.938905968989648\n",
      "Generation 29: 4.387002944946289\n",
      "52 survived walker,max fitness: -20.938905968989648\n",
      "Generation 30: 4.078998327255249\n",
      "50 survived walker,max fitness: -20.938905968989648\n",
      "Generation 31: 4.260157585144043\n",
      "52 survived walker,max fitness: -20.938905968989648\n",
      "Generation 32: 3.830976724624634\n",
      "59 survived walker,max fitness: -20.938905968989648\n",
      "Generation 33: 4.5780274868011475\n",
      "53 survived walker,max fitness: -20.938905968989648\n",
      "Generation 34: 3.100970506668091\n",
      "48 survived walker,max fitness: -20.938905968989648\n",
      "Generation 35: 4.253025770187378\n",
      "52 survived walker,max fitness: -20.938905968989648\n",
      "Generation 36: 4.905002593994141\n",
      "51 survived walker,max fitness: -20.938905968989648\n",
      "Generation 37: 4.1479973793029785\n",
      "49 survived walker,max fitness: -20.938905968989648\n",
      "Generation 38: 3.234981060028076\n",
      "50 survived walker,max fitness: -20.938905968989648\n",
      "Generation 39: 4.216020107269287\n",
      "46 survived walker,max fitness: -20.938905968989648\n",
      "Generation 40: 4.609336614608765\n",
      "50 survived walker,max fitness: -20.938905968989648\n",
      "Generation 41: 4.709995985031128\n",
      "49 survived walker,max fitness: -20.938905968989648\n",
      "Generation 42: 4.0920305252075195\n",
      "45 survived walker,max fitness: -20.938905968989648\n",
      "Generation 43: 3.410658597946167\n",
      "46 survived walker,max fitness: -20.938905968989648\n",
      "Generation 44: 3.9220213890075684\n",
      "46 survived walker,max fitness: -20.938905968989648\n",
      "Generation 45: 3.7769720554351807\n",
      "53 survived walker,max fitness: -20.938905968989648\n",
      "Generation 46: 4.251031160354614\n",
      "48 survived walker,max fitness: -20.938905968989648\n",
      "Generation 47: 4.032882452011108\n",
      "50 survived walker,max fitness: -20.938905968989648\n",
      "Generation 48: 4.212999582290649\n",
      "49 survived walker,max fitness: -20.938905968989648\n",
      "Generation 49: 4.107000350952148\n",
      "43 survived walker,max fitness: -20.938905968989648\n",
      "Generation 50: 3.5650031566619873\n",
      "53 survived walker,max fitness: -20.938905968989648\n",
      "Generation 51: 5.280003070831299\n",
      "55 survived walker,max fitness: -20.938905968989648\n",
      "Generation 52: 4.147318601608276\n",
      "49 survived walker,max fitness: -20.938905968989648\n",
      "Generation 53: 3.3730275630950928\n",
      "54 survived walker,max fitness: -20.938905968989648\n",
      "Generation 54: 4.341528654098511\n",
      "58 survived walker,max fitness: 10.472049860690126\n",
      "Generation 55: 3.5355312824249268\n",
      "46 survived walker,max fitness: 10.472049860690126\n",
      "Generation 56: 3.5849735736846924\n",
      "47 survived walker,max fitness: 10.472049860690126\n",
      "Generation 57: 3.9369993209838867\n",
      "44 survived walker,max fitness: 10.472049860690126\n",
      "Generation 58: 3.699026584625244\n",
      "55 survived walker,max fitness: 10.472049860690126\n",
      "Generation 59: 4.696004867553711\n",
      "53 survived walker,max fitness: 10.472049860690126\n",
      "Generation 60: 3.2979679107666016\n",
      "59 survived walker,max fitness: 10.472049860690126\n",
      "Generation 61: 3.2566003799438477\n",
      "57 survived walker,max fitness: 10.472049860690126\n",
      "Generation 62: 3.5139999389648438\n",
      "45 survived walker,max fitness: 10.472049860690126\n",
      "Generation 63: 3.374023199081421\n",
      "50 survived walker,max fitness: 10.472049860690126\n",
      "Generation 64: 3.984191417694092\n",
      "47 survived walker,max fitness: 10.472049860690126\n",
      "Generation 65: 4.784972190856934\n",
      "53 survived walker,max fitness: 10.472049860690126\n",
      "Generation 66: 4.333998918533325\n",
      "45 survived walker,max fitness: 10.472049860690126\n",
      "Generation 67: 3.826000213623047\n",
      "49 survived walker,max fitness: 10.472049860690126\n",
      "Generation 68: 4.132002830505371\n",
      "50 survived walker,max fitness: 10.472049860690126\n",
      "Generation 69: 3.722996950149536\n",
      "47 survived walker,max fitness: 10.472049860690126\n",
      "Generation 70: 3.942999839782715\n",
      "50 survived walker,max fitness: 10.472049860690126\n",
      "Generation 71: 4.605032682418823\n",
      "47 survived walker,max fitness: 10.472049860690126\n",
      "Generation 72: 4.153995752334595\n",
      "47 survived walker,max fitness: 10.472049860690126\n",
      "Generation 73: 4.447001934051514\n",
      "55 survived walker,max fitness: 10.472049860690126\n",
      "Generation 74: 4.052338600158691\n",
      "47 survived walker,max fitness: 10.472049860690126\n",
      "Generation 75: 3.7300004959106445\n",
      "50 survived walker,max fitness: 10.472049860690126\n",
      "Generation 76: 4.001229286193848\n",
      "48 survived walker,max fitness: 10.472049860690126\n",
      "Generation 77: 4.687972545623779\n",
      "59 survived walker,max fitness: 10.472049860690126\n",
      "Generation 78: 3.7356479167938232\n",
      "41 survived walker,max fitness: 10.472049860690126\n",
      "Generation 79: 4.033585548400879\n",
      "52 survived walker,max fitness: 10.472049860690126\n",
      "Generation 80: 4.531001091003418\n",
      "53 survived walker,max fitness: 10.472049860690126\n",
      "Generation 81: 3.9319989681243896\n",
      "45 survived walker,max fitness: 10.472049860690126\n",
      "Generation 82: 3.7900030612945557\n",
      "48 survived walker,max fitness: 10.472049860690126\n",
      "Generation 83: 4.993999481201172\n",
      "55 survived walker,max fitness: 10.472049860690126\n",
      "Generation 84: 5.3399977684021\n",
      "39 survived walker,max fitness: 10.472049860690126\n",
      "Generation 85: 4.144996881484985\n",
      "47 survived walker,max fitness: 10.472049860690126\n",
      "Generation 86: 5.494999885559082\n",
      "55 survived walker,max fitness: 10.472049860690126\n",
      "Generation 87: 3.889310121536255\n",
      "50 survived walker,max fitness: 10.472049860690126\n",
      "Generation 88: 2.9870030879974365\n",
      "46 survived walker,max fitness: 10.472049860690126\n",
      "Generation 89: 4.666001319885254\n",
      "55 survived walker,max fitness: 10.472049860690126\n",
      "Generation 90: 4.639991283416748\n",
      "55 survived walker,max fitness: 10.472049860690126\n",
      "Generation 91: 3.3820011615753174\n",
      "46 survived walker,max fitness: 10.472049860690126\n",
      "Generation 92: 5.673004388809204\n",
      "50 survived walker,max fitness: 10.472049860690126\n",
      "Generation 93: 5.471997261047363\n",
      "45 survived walker,max fitness: 10.472049860690126\n",
      "Generation 94: 3.8420236110687256\n",
      "53 survived walker,max fitness: 10.472049860690126\n",
      "Generation 95: 4.548978805541992\n",
      "53 survived walker,max fitness: 10.472049860690126\n",
      "Generation 96: 4.57802677154541\n",
      "50 survived walker,max fitness: 10.472049860690126\n",
      "Generation 97: 4.472998857498169\n",
      "52 survived walker,max fitness: 10.472049860690126\n",
      "Generation 98: 5.795979738235474\n",
      "50 survived walker,max fitness: 10.472049860690126\n",
      "Generation 99: 4.062995195388794\n",
      "50 survived walker,max fitness: 10.472049860690126\n",
      "Generation 100: 5.215029954910278\n",
      "44 survived walker,max fitness: 10.472049860690126\n",
      "Generation 101: 4.766065835952759\n",
      "49 survived walker,max fitness: 10.472049860690126\n",
      "Generation 102: 5.660999536514282\n",
      "52 survived walker,max fitness: 10.472049860690126\n",
      "Generation 103: 5.577032566070557\n",
      "52 survived walker,max fitness: 10.472049860690126\n",
      "Generation 104: 4.7599709033966064\n",
      "52 survived walker,max fitness: 10.472049860690126\n",
      "Generation 105: 5.549996614456177\n",
      "51 survived walker,max fitness: 10.472049860690126\n",
      "Generation 106: 5.424032211303711\n",
      "52 survived walker,max fitness: 10.472049860690126\n",
      "Generation 107: 5.196039438247681\n",
      "59 survived walker,max fitness: 10.472049860690126\n",
      "Generation 108: 5.514983892440796\n",
      "59 survived walker,max fitness: 10.472049860690126\n",
      "Generation 109: 4.410996913909912\n",
      "51 survived walker,max fitness: 10.472049860690126\n",
      "Generation 110: 3.781003713607788\n",
      "58 survived walker,max fitness: 10.472049860690126\n",
      "Generation 111: 5.98736047744751\n",
      "62 survived walker,max fitness: 10.472049860690126\n",
      "Generation 112: 4.007031440734863\n",
      "62 survived walker,max fitness: 10.472049860690126\n",
      "Generation 113: 3.5079972743988037\n",
      "58 survived walker,max fitness: 10.472049860690126\n",
      "Generation 114: 3.922973155975342\n",
      "51 survived walker,max fitness: 10.472049860690126\n",
      "Generation 115: 4.393033742904663\n",
      "54 survived walker,max fitness: 10.472049860690126\n",
      "Generation 116: 4.925963878631592\n",
      "45 survived walker,max fitness: 10.472049860690126\n",
      "Generation 117: 4.385999917984009\n",
      "45 survived walker,max fitness: 10.472049860690126\n",
      "Generation 118: 5.258027791976929\n",
      "50 survived walker,max fitness: 10.472049860690126\n",
      "Generation 119: 5.752971649169922\n",
      "50 survived walker,max fitness: 10.472049860690126\n",
      "Generation 120: 5.587000608444214\n",
      "51 survived walker,max fitness: 10.472049860690126\n",
      "Generation 121: 4.471027374267578\n",
      "50 survived walker,max fitness: 10.472049860690126\n",
      "Generation 122: 5.100975513458252\n",
      "53 survived walker,max fitness: 10.472049860690126\n",
      "Generation 123: 4.808167219161987\n",
      "52 survived walker,max fitness: 10.472049860690126\n",
      "Generation 124: 5.3262574672698975\n",
      "54 survived walker,max fitness: 10.472049860690126\n",
      "Generation 125: 6.119002342224121\n",
      "42 survived walker,max fitness: 10.472049860690126\n",
      "Generation 126: 5.428008079528809\n",
      "55 survived walker,max fitness: 10.472049860690126\n",
      "Generation 127: 5.430992126464844\n",
      "50 survived walker,max fitness: 10.472049860690126\n",
      "Generation 128: 5.237030744552612\n",
      "52 survived walker,max fitness: 10.472049860690126\n",
      "Generation 129: 5.068974494934082\n",
      "48 survived walker,max fitness: 10.472049860690126\n",
      "Generation 130: 5.312995195388794\n",
      "48 survived walker,max fitness: 10.472049860690126\n",
      "Generation 131: 6.182030200958252\n",
      "44 survived walker,max fitness: 10.472049860690126\n",
      "Generation 132: 5.227366209030151\n",
      "48 survived walker,max fitness: 10.472049860690126\n",
      "Generation 133: 6.154028415679932\n",
      "50 survived walker,max fitness: 10.472049860690126\n",
      "Generation 134: 4.863000392913818\n",
      "48 survived walker,max fitness: 10.472049860690126\n",
      "Generation 135: 5.334956645965576\n",
      "47 survived walker,max fitness: 10.472049860690126\n",
      "Generation 136: 5.66336989402771\n",
      "56 survived walker,max fitness: 10.472049860690126\n",
      "Generation 137: 6.830034017562866\n",
      "45 survived walker,max fitness: 10.472049860690126\n",
      "Generation 138: 4.111971139907837\n",
      "52 survived walker,max fitness: 10.472049860690126\n",
      "Generation 139: 7.027998208999634\n",
      "50 survived walker,max fitness: 10.472049860690126\n",
      "Generation 140: 4.301996469497681\n",
      "58 survived walker,max fitness: 10.472049860690126\n",
      "Generation 141: 5.295000791549683\n",
      "48 survived walker,max fitness: 10.472049860690126\n",
      "Generation 142: 4.777000188827515\n",
      "44 survived walker,max fitness: 10.472049860690126\n",
      "Generation 143: 5.8970348834991455\n",
      "54 survived walker,max fitness: 10.472049860690126\n",
      "Generation 144: 6.182002544403076\n",
      "51 survived walker,max fitness: 10.472049860690126\n",
      "Generation 145: 4.0609657764434814\n",
      "60 survived walker,max fitness: 10.472049860690126\n",
      "Generation 146: 5.95002818107605\n",
      "51 survived walker,max fitness: 10.472049860690126\n",
      "Generation 147: 4.7969677448272705\n",
      "52 survived walker,max fitness: 10.472049860690126\n",
      "Generation 148: 5.4210264682769775\n",
      "59 survived walker,max fitness: 10.472049860690126\n",
      "Generation 149: 4.6250083446502686\n",
      "47 survived walker,max fitness: 10.472049860690126\n",
      "Generation 150: 4.588963508605957\n",
      "56 survived walker,max fitness: 10.472049860690126\n",
      "Generation 151: 6.996031761169434\n",
      "42 survived walker,max fitness: 10.472049860690126\n",
      "Generation 152: 4.764397144317627\n",
      "48 survived walker,max fitness: 10.472049860690126\n",
      "Generation 153: 8.129029512405396\n",
      "51 survived walker,max fitness: 10.472049860690126\n",
      "Generation 154: 6.297970533370972\n",
      "55 survived walker,max fitness: 10.472049860690126\n",
      "Generation 155: 5.730995178222656\n",
      "50 survived walker,max fitness: 10.472049860690126\n",
      "Generation 156: 4.302008390426636\n",
      "49 survived walker,max fitness: 10.472049860690126\n",
      "Generation 157: 5.963991165161133\n",
      "56 survived walker,max fitness: 10.472049860690126\n",
      "Generation 158: 7.336001634597778\n",
      "52 survived walker,max fitness: 10.472049860690126\n",
      "Generation 159: 5.683998346328735\n",
      "52 survived walker,max fitness: 10.472049860690126\n",
      "Generation 160: 5.072999715805054\n",
      "47 survived walker,max fitness: 10.472049860690126\n",
      "Generation 161: 5.756004333496094\n",
      "52 survived walker,max fitness: 10.472049860690126\n",
      "Generation 162: 5.581995487213135\n",
      "48 survived walker,max fitness: 10.472049860690126\n",
      "Generation 163: 5.044005393981934\n",
      "48 survived walker,max fitness: 10.472049860690126\n",
      "Generation 164: 6.3149964809417725\n",
      "52 survived walker,max fitness: 10.472049860690126\n",
      "Generation 165: 7.020030498504639\n",
      "48 survived walker,max fitness: 10.472049860690126\n",
      "Generation 166: 5.466271877288818\n",
      "48 survived walker,max fitness: 10.472049860690126\n",
      "Generation 167: 5.880031585693359\n",
      "56 survived walker,max fitness: 10.472049860690126\n",
      "Generation 168: 5.441974639892578\n",
      "47 survived walker,max fitness: 10.472049860690126\n",
      "Generation 169: 4.175998210906982\n",
      "53 survived walker,max fitness: 10.472049860690126\n",
      "Generation 170: 5.765032052993774\n",
      "52 survived walker,max fitness: 10.472049860690126\n",
      "Generation 171: 4.927968263626099\n",
      "52 survived walker,max fitness: 10.472049860690126\n",
      "Generation 172: 4.828028678894043\n",
      "56 survived walker,max fitness: 10.472049860690126\n",
      "Generation 173: 4.966002702713013\n",
      "49 survived walker,max fitness: 10.472049860690126\n",
      "Generation 174: 4.858999967575073\n",
      "51 survived walker,max fitness: 10.472049860690126\n",
      "Generation 175: 6.469967603683472\n",
      "48 survived walker,max fitness: 10.472049860690126\n",
      "Generation 176: 5.296032190322876\n",
      "50 survived walker,max fitness: 10.472049860690126\n",
      "Generation 177: 6.570969820022583\n",
      "43 survived walker,max fitness: 10.472049860690126\n",
      "Generation 178: 5.448998689651489\n",
      "44 survived walker,max fitness: 10.472049860690126\n",
      "Generation 179: 7.922999620437622\n",
      "55 survived walker,max fitness: 10.472049860690126\n",
      "Generation 180: 6.22200083732605\n",
      "54 survived walker,max fitness: 10.472049860690126\n",
      "Generation 181: 5.180999040603638\n",
      "52 survived walker,max fitness: 10.472049860690126\n",
      "Generation 182: 5.028026819229126\n",
      "44 survived walker,max fitness: 10.472049860690126\n",
      "Generation 183: 5.875973463058472\n",
      "49 survived walker,max fitness: 10.472049860690126\n",
      "Generation 184: 5.803999900817871\n",
      "53 survived walker,max fitness: 10.472049860690126\n",
      "Generation 185: 5.740997552871704\n",
      "47 survived walker,max fitness: 10.472049860690126\n",
      "Generation 186: 4.913003921508789\n",
      "47 survived walker,max fitness: 10.472049860690126\n",
      "Generation 187: 5.31499981880188\n",
      "50 survived walker,max fitness: 10.472049860690126\n",
      "Generation 188: 5.711024761199951\n",
      "57 survived walker,max fitness: 10.472049860690126\n",
      "Generation 189: 5.400476455688477\n",
      "46 survived walker,max fitness: 10.472049860690126\n",
      "Generation 190: 4.320999622344971\n",
      "50 survived walker,max fitness: 10.472049860690126\n",
      "Generation 191: 6.426000118255615\n",
      "58 survived walker,max fitness: 10.472049860690126\n",
      "Generation 192: 6.2809975147247314\n",
      "58 survived walker,max fitness: 10.472049860690126\n",
      "Generation 193: 5.7490012645721436\n",
      "58 survived walker,max fitness: 10.472049860690126\n",
      "Generation 194: 4.632999420166016\n",
      "46 survived walker,max fitness: 10.472049860690126\n",
      "Generation 195: 5.201999664306641\n",
      "51 survived walker,max fitness: 10.472049860690126\n",
      "Generation 196: 7.125033378601074\n",
      "47 survived walker,max fitness: 10.472049860690126\n",
      "Generation 197: 6.079965829849243\n",
      "47 survived walker,max fitness: 10.472049860690126\n",
      "Generation 198: 6.238003253936768\n",
      "52 survived walker,max fitness: 10.472049860690126\n",
      "Generation 199: 7.36005163192749\n",
      "52 survived walker,max fitness: 10.472049860690126\n",
      "Generation 200: 6.82200026512146\n",
      "59 survived walker,max fitness: 10.472049860690126\n",
      "Generation 201: 6.419029474258423\n",
      "58 survived walker,max fitness: 10.472049860690126\n",
      "Generation 202: 4.684001207351685\n",
      "53 survived walker,max fitness: 10.472049860690126\n",
      "Generation 203: 5.314972162246704\n",
      "45 survived walker,max fitness: 10.472049860690126\n",
      "Generation 204: 5.256000518798828\n",
      "52 survived walker,max fitness: 10.472049860690126\n",
      "Generation 205: 5.937997817993164\n",
      "43 survived walker,max fitness: 10.472049860690126\n",
      "Generation 206: 5.919048547744751\n",
      "53 survived walker,max fitness: 10.472049860690126\n",
      "Generation 207: 6.722999334335327\n",
      "51 survived walker,max fitness: 10.472049860690126\n",
      "Generation 208: 4.831002950668335\n",
      "49 survived walker,max fitness: 10.472049860690126\n",
      "Generation 209: 6.210998296737671\n",
      "46 survived walker,max fitness: 10.472049860690126\n",
      "Generation 210: 5.725033521652222\n",
      "55 survived walker,max fitness: 10.472049860690126\n",
      "Generation 211: 5.619969129562378\n",
      "59 survived walker,max fitness: 10.472049860690126\n",
      "Generation 212: 4.856223106384277\n",
      "56 survived walker,max fitness: 10.472049860690126\n",
      "Generation 213: 4.466025352478027\n",
      "47 survived walker,max fitness: 10.472049860690126\n",
      "Generation 214: 5.010972738265991\n",
      "51 survived walker,max fitness: 10.472049860690126\n",
      "Generation 215: 5.939022541046143\n",
      "49 survived walker,max fitness: 10.472049860690126\n",
      "Generation 216: 5.384999513626099\n",
      "48 survived walker,max fitness: 10.472049860690126\n",
      "Generation 217: 6.369004726409912\n",
      "43 survived walker,max fitness: 10.472049860690126\n",
      "Generation 218: 6.04599666595459\n",
      "54 survived walker,max fitness: 10.472049860690126\n",
      "Generation 219: 6.598003149032593\n",
      "42 survived walker,max fitness: 10.472049860690126\n",
      "Generation 220: 5.262999773025513\n",
      "54 survived walker,max fitness: 10.472049860690126\n",
      "Generation 221: 6.857968330383301\n",
      "51 survived walker,max fitness: 10.472049860690126\n",
      "Generation 222: 4.926002740859985\n",
      "43 survived walker,max fitness: 10.472049860690126\n",
      "Generation 223: 6.119972467422485\n",
      "49 survived walker,max fitness: 10.472049860690126\n",
      "Generation 224: 5.805999994277954\n",
      "50 survived walker,max fitness: 10.472049860690126\n",
      "Generation 225: 5.248997449874878\n",
      "54 survived walker,max fitness: 10.472049860690126\n",
      "Generation 226: 5.533000230789185\n",
      "43 survived walker,max fitness: 10.472049860690126\n",
      "Generation 227: 5.954287767410278\n",
      "50 survived walker,max fitness: 10.472049860690126\n",
      "Generation 228: 7.042999267578125\n",
      "45 survived walker,max fitness: 10.472049860690126\n",
      "Generation 229: 6.423002243041992\n",
      "56 survived walker,max fitness: 10.472049860690126\n",
      "Generation 230: 6.794026851654053\n",
      "50 survived walker,max fitness: 10.472049860690126\n",
      "Generation 231: 5.173975229263306\n",
      "57 survived walker,max fitness: 10.472049860690126\n",
      "Generation 232: 5.253029823303223\n",
      "45 survived walker,max fitness: 10.472049860690126\n",
      "Generation 233: 4.530279874801636\n",
      "50 survived walker,max fitness: 10.472049860690126\n",
      "Generation 234: 7.303027391433716\n",
      "45 survived walker,max fitness: 10.472049860690126\n",
      "Generation 235: 5.905000448226929\n",
      "47 survived walker,max fitness: 10.472049860690126\n",
      "Generation 236: 6.786530256271362\n",
      "52 survived walker,max fitness: 10.472049860690126\n",
      "Generation 237: 7.138415813446045\n",
      "50 survived walker,max fitness: 10.472049860690126\n",
      "Generation 238: 5.998033046722412\n",
      "55 survived walker,max fitness: 10.472049860690126\n",
      "Generation 239: 5.783507585525513\n",
      "51 survived walker,max fitness: 10.472049860690126\n",
      "Generation 240: 5.662005662918091\n",
      "53 survived walker,max fitness: 10.472049860690126\n",
      "Generation 241: 5.0789690017700195\n",
      "53 survived walker,max fitness: 10.472049860690126\n",
      "Generation 242: 5.673001766204834\n",
      "54 survived walker,max fitness: 10.472049860690126\n",
      "Generation 243: 5.93199896812439\n",
      "54 survived walker,max fitness: 10.472049860690126\n",
      "Generation 244: 6.699030637741089\n",
      "52 survived walker,max fitness: 10.472049860690126\n",
      "Generation 245: 6.052999019622803\n",
      "49 survived walker,max fitness: 10.472049860690126\n",
      "Generation 246: 6.437968730926514\n",
      "44 survived walker,max fitness: 10.472049860690126\n",
      "Generation 247: 6.535001277923584\n",
      "51 survived walker,max fitness: 10.472049860690126\n",
      "Generation 248: 7.492998123168945\n",
      "45 survived walker,max fitness: 10.472049860690126\n",
      "Generation 249: 6.978999853134155\n",
      "51 survived walker,max fitness: 10.472049860690126\n",
      "Generation 250: 6.815031051635742\n",
      "56 survived walker,max fitness: 10.472049860690126\n",
      "Generation 251: 6.739002704620361\n",
      "53 survived walker,max fitness: 10.472049860690126\n",
      "Generation 252: 5.65799880027771\n",
      "54 survived walker,max fitness: 10.472049860690126\n",
      "Generation 253: 6.176999568939209\n"
     ]
    },
    {
     "output_type": "error",
     "ename": "KeyboardInterrupt",
     "evalue": "",
     "traceback": [
      "\u001b[1;31m---------------------------------------------------------------------------\u001b[0m",
      "\u001b[1;31mKeyboardInterrupt\u001b[0m                         Traceback (most recent call last)",
      "\u001b[1;32m<ipython-input-2-97059f9d0333>\u001b[0m in \u001b[0;36m<module>\u001b[1;34m\u001b[0m\n\u001b[0;32m     16\u001b[0m     \u001b[1;32mfor\u001b[0m \u001b[0mentity\u001b[0m \u001b[1;32min\u001b[0m \u001b[0mpop_manager\u001b[0m\u001b[1;33m.\u001b[0m\u001b[0mpopulation\u001b[0m\u001b[1;33m:\u001b[0m\u001b[1;33m\u001b[0m\u001b[1;33m\u001b[0m\u001b[0m\n\u001b[0;32m     17\u001b[0m         \u001b[1;32mif\u001b[0m \u001b[1;32mnot\u001b[0m \u001b[0mentity\u001b[0m\u001b[1;33m.\u001b[0m\u001b[0msurvived\u001b[0m\u001b[1;33m:\u001b[0m\u001b[1;33m\u001b[0m\u001b[1;33m\u001b[0m\u001b[0m\n\u001b[1;32m---> 18\u001b[1;33m             \u001b[0magent_env_loop\u001b[0m\u001b[1;33m(\u001b[0m\u001b[0mentity\u001b[0m\u001b[1;33m)\u001b[0m\u001b[1;33m\u001b[0m\u001b[1;33m\u001b[0m\u001b[0m\n\u001b[0m\u001b[0;32m     19\u001b[0m \u001b[1;33m\u001b[0m\u001b[0m\n\u001b[0;32m     20\u001b[0m     \u001b[0mpop_manager\u001b[0m\u001b[1;33m.\u001b[0m\u001b[0mbreed_new_population\u001b[0m\u001b[1;33m(\u001b[0m\u001b[0mgeneration_act\u001b[0m\u001b[1;33m)\u001b[0m\u001b[1;33m\u001b[0m\u001b[1;33m\u001b[0m\u001b[0m\n",
      "\u001b[1;32m<ipython-input-2-97059f9d0333>\u001b[0m in \u001b[0;36magent_env_loop\u001b[1;34m(entity)\u001b[0m\n\u001b[0;32m      5\u001b[0m         \u001b[0mobservation\u001b[0m \u001b[1;33m=\u001b[0m \u001b[0menv\u001b[0m\u001b[1;33m.\u001b[0m\u001b[0mreset\u001b[0m\u001b[1;33m(\u001b[0m\u001b[1;33m)\u001b[0m                                            \u001b[1;31m# s_0\u001b[0m\u001b[1;33m\u001b[0m\u001b[1;33m\u001b[0m\u001b[0m\n\u001b[0;32m      6\u001b[0m         \u001b[1;32mfor\u001b[0m \u001b[0mi\u001b[0m \u001b[1;32min\u001b[0m \u001b[0mrange\u001b[0m\u001b[1;33m(\u001b[0m\u001b[0mMAX_SEQUENCE_LEN\u001b[0m\u001b[1;33m)\u001b[0m\u001b[1;33m:\u001b[0m\u001b[1;33m\u001b[0m\u001b[1;33m\u001b[0m\u001b[0m\n\u001b[1;32m----> 7\u001b[1;33m             \u001b[0maction\u001b[0m \u001b[1;33m=\u001b[0m \u001b[0mentity\u001b[0m\u001b[1;33m.\u001b[0m\u001b[0mcontroller\u001b[0m\u001b[1;33m.\u001b[0m\u001b[0mfeed_forward\u001b[0m\u001b[1;33m(\u001b[0m\u001b[0mobservation\u001b[0m\u001b[1;33m)\u001b[0m             \u001b[1;31m# a_t, s_t\u001b[0m\u001b[1;33m\u001b[0m\u001b[1;33m\u001b[0m\u001b[0m\n\u001b[0m\u001b[0;32m      8\u001b[0m             \u001b[0mobservation\u001b[0m\u001b[1;33m,\u001b[0m \u001b[0mreward\u001b[0m\u001b[1;33m,\u001b[0m \u001b[0mdone\u001b[0m\u001b[1;33m,\u001b[0m \u001b[0m_\u001b[0m \u001b[1;33m=\u001b[0m \u001b[0menv\u001b[0m\u001b[1;33m.\u001b[0m\u001b[0mstep\u001b[0m\u001b[1;33m(\u001b[0m\u001b[0maction\u001b[0m\u001b[1;33m)\u001b[0m                  \u001b[1;31m# s_{t+1}, r_{t+1}, a_t\u001b[0m\u001b[1;33m\u001b[0m\u001b[1;33m\u001b[0m\u001b[0m\n\u001b[0;32m      9\u001b[0m             \u001b[0mentity\u001b[0m\u001b[1;33m.\u001b[0m\u001b[0mfitness\u001b[0m \u001b[1;33m+=\u001b[0m \u001b[0mreward\u001b[0m\u001b[1;33m\u001b[0m\u001b[1;33m\u001b[0m\u001b[0m\n",
      "\u001b[1;32mc:\\Users\\Mars\\Desktop\\Projects\\EvAlg-gym\\src\\NN.py\u001b[0m in \u001b[0;36mfeed_forward\u001b[1;34m(self, observation)\u001b[0m\n\u001b[0;32m     31\u001b[0m         \u001b[1;31m# TODO: layer specific activation functions\u001b[0m\u001b[1;33m\u001b[0m\u001b[1;33m\u001b[0m\u001b[1;33m\u001b[0m\u001b[0m\n\u001b[0;32m     32\u001b[0m         \u001b[1;32mfor\u001b[0m \u001b[0mi\u001b[0m \u001b[1;32min\u001b[0m \u001b[0mrange\u001b[0m\u001b[1;33m(\u001b[0m\u001b[0mlen\u001b[0m\u001b[1;33m(\u001b[0m\u001b[0mself\u001b[0m\u001b[1;33m.\u001b[0m\u001b[0mweights\u001b[0m\u001b[1;33m)\u001b[0m\u001b[1;33m-\u001b[0m\u001b[1;36m1\u001b[0m\u001b[1;33m)\u001b[0m\u001b[1;33m:\u001b[0m\u001b[1;33m\u001b[0m\u001b[1;33m\u001b[0m\u001b[0m\n\u001b[1;32m---> 33\u001b[1;33m             \u001b[0mlayer_in\u001b[0m \u001b[1;33m=\u001b[0m \u001b[0mnp\u001b[0m\u001b[1;33m.\u001b[0m\u001b[0mdot\u001b[0m\u001b[1;33m(\u001b[0m\u001b[0mlayer_out\u001b[0m\u001b[1;33m,\u001b[0m \u001b[0mself\u001b[0m\u001b[1;33m.\u001b[0m\u001b[0mweights\u001b[0m\u001b[1;33m[\u001b[0m\u001b[0mi\u001b[0m\u001b[1;33m]\u001b[0m\u001b[1;33m)\u001b[0m \u001b[1;33m+\u001b[0m \u001b[0mself\u001b[0m\u001b[1;33m.\u001b[0m\u001b[0mbias\u001b[0m\u001b[1;33m[\u001b[0m\u001b[0mi\u001b[0m\u001b[1;33m]\u001b[0m\u001b[1;33m\u001b[0m\u001b[1;33m\u001b[0m\u001b[0m\n\u001b[0m\u001b[0;32m     34\u001b[0m             \u001b[0mlayer_out\u001b[0m \u001b[1;33m=\u001b[0m \u001b[0mself\u001b[0m\u001b[1;33m.\u001b[0m\u001b[0mrelu\u001b[0m\u001b[1;33m(\u001b[0m\u001b[0mlayer_in\u001b[0m\u001b[1;33m)\u001b[0m\u001b[1;33m\u001b[0m\u001b[1;33m\u001b[0m\u001b[0m\n\u001b[0;32m     35\u001b[0m \u001b[1;33m\u001b[0m\u001b[0m\n",
      "\u001b[1;32m<__array_function__ internals>\u001b[0m in \u001b[0;36mdot\u001b[1;34m(*args, **kwargs)\u001b[0m\n",
      "\u001b[1;31mKeyboardInterrupt\u001b[0m: "
     ]
    }
   ],
   "source": [
    "def agent_env_loop(entity):\n",
    "        entity.survived = True\n",
    "        entity.fitness = 0\n",
    "        env.seed(10) \n",
    "        observation = env.reset()                                            # s_0\n",
    "        for i in range(MAX_SEQUENCE_LEN):  \n",
    "            action = entity.controller.feed_forward(observation)             # a_t, s_t            \n",
    "            observation, reward, done, _ = env.step(action)                  # s_{t+1}, r_{t+1}, a_t       \n",
    "            entity.fitness += reward\n",
    "            if done:\n",
    "                break   \n",
    "\n",
    "# Optimize \n",
    "for generation_act in range(N_GENERATIONS):\n",
    "    t_start = time.time() \n",
    "    for entity in pop_manager.population:\n",
    "        if not entity.survived:\n",
    "            agent_env_loop(entity)\n",
    "    \n",
    "    pop_manager.breed_new_population(generation_act)\n",
    "    print(f\"Generation {generation_act}: {time.time() - t_start}\")\n"
   ]
  },
  {
   "cell_type": "code",
   "execution_count": 4,
   "metadata": {},
   "outputs": [],
   "source": [
    "pop_manager.population.sort(key=lambda x: x.fitness, reverse=True) \n",
    "best_agent = pop_manager.population[-50]\n",
    "\n",
    "env.seed(10) \n",
    "observation = env.reset()\n",
    "for _ in range(MAX_SEQUENCE_LEN):\n",
    "    env.render()\n",
    "    action = best_agent.controller.feed_forward(observation)            # a_t, s_t            \n",
    "    observation, reward, done, _ = env.step(action)                     # s_{t+1}, r_{t+1}, a_t       \n",
    "env.close()"
   ]
  },
  {
   "cell_type": "code",
   "execution_count": 13,
   "metadata": {},
   "outputs": [
    {
     "output_type": "stream",
     "name": "stdout",
     "text": [
      "48\n48\n"
     ]
    }
   ],
   "source": [
    "child = Entity(n_layer_nodes, weight_interval)\n",
    "print(f\"{len(child.controller.bias[0])}\")\n",
    "print(f\"{len(child.controller.weights[0][0])}\")"
   ]
  },
  {
   "cell_type": "code",
   "execution_count": 21,
   "metadata": {},
   "outputs": [
    {
     "output_type": "execute_result",
     "data": {
      "text/plain": [
       "array([ 0.7584839 ,  0.10789981, -0.42991881, -0.15561191,  0.49077721,\n",
       "        0.84670393,  0.57381795,  0.08863811,  0.76584448,  0.71707239,\n",
       "       -0.01921783,  0.79219211, -0.67317444,  0.09585796, -0.54096392,\n",
       "        0.61198527,  0.24809397, -0.90281628, -0.4444071 ,  0.90020591,\n",
       "       -0.33117147, -0.60336651, -0.20123493,  0.70344756,  0.70935507,\n",
       "       -0.52090854,  0.0978931 ,  0.76381188, -0.28623422, -0.00845665,\n",
       "        0.58594024, -0.14965437,  0.43026903, -0.8864281 , -0.90564161,\n",
       "        0.93240325, -0.73510206, -0.22643748,  0.31478809, -0.65302702,\n",
       "       -0.54730051,  0.40117432,  0.04468406, -0.02153551,  0.67961832,\n",
       "        0.78448254, -0.91231042, -0.62626673])"
      ]
     },
     "metadata": {},
     "execution_count": 21
    }
   ],
   "source": [
    "child.controller.bias[0]"
   ]
  },
  {
   "cell_type": "code",
   "execution_count": 3,
   "metadata": {
    "tags": []
   },
   "outputs": [
    {
     "output_type": "stream",
     "name": "stdout",
     "text": [
      "3\ni: 0, len_bias 4\ni: 1, len_bias 4\ni: 2, len_bias 4\ni: 3, len_bias 4\nj: 7, len_bias 48, , len_weights 24\nj: 9, len_bias 48, , len_weights 24\nj: 10, len_bias 48, , len_weights 24\nj: 11, len_bias 48, , len_weights 24\nj: 12, len_bias 48, , len_weights 24\nj: 13, len_bias 48, , len_weights 24\nj: 14, len_bias 48, , len_weights 24\nj: 15, len_bias 48, , len_weights 24\nj: 16, len_bias 48, , len_weights 24\nj: 18, len_bias 48, , len_weights 24\nj: 22, len_bias 48, , len_weights 24\nj: 24, len_bias 48, , len_weights 24\nj: 29, len_bias 48, , len_weights 24\n"
     ]
    }
   ],
   "source": [
    "import random\n",
    "import copy\n",
    "child = Entity(n_layer_nodes, weight_interval)\n",
    "parent_1 = Entity(n_layer_nodes, weight_interval)\n",
    "parent_2 = Entity(n_layer_nodes, weight_interval)\n",
    "prob_node_copy = .5\n",
    "print(child.controller.n_hidden)\n",
    "\n",
    "for i in range(len(child.controller.weights)):   \n",
    "    # loop over nodes\n",
    "    print(f\"i: {i}, len_bias {len(child.controller.bias)}\")\n",
    "    for j in range(len(child.controller.weights[i])): \n",
    "        test = child.controller.bias[i]\n",
    "        #print(f\"{test}\")\n",
    "        # inherit complete node \n",
    "        if random.random() > prob_node_copy:\n",
    "            #    random_parent = random.choice([parent_1, parent_2])\n",
    "            child.controller.weights[i][j] = copy.deepcopy(parent_1.controller.weights[i][j])\n",
    "            if i == 1 or i > child.controller.n_hidden - 1::\n",
    "                try:\n",
    "                    child.controller.bias[i][j] = copy.deepcopy(parent_1.controller.bias[i][j])\n",
    "                except:\n",
    "                    print(f\"j: {j}, len_bias {len(child.controller.bias[0])}, , len_weights {len(child.controller.weights[0])}\")\n"
   ]
  },
  {
   "cell_type": "code",
   "execution_count": 28,
   "metadata": {},
   "outputs": [
    {
     "output_type": "execute_result",
     "data": {
      "text/plain": [
       "4"
      ]
     },
     "metadata": {},
     "execution_count": 28
    }
   ],
   "source": [
    "len(child.controller.bias[3])"
   ]
  },
  {
   "cell_type": "code",
   "execution_count": 35,
   "metadata": {},
   "outputs": [],
   "source": [
    "class testclass(object):\n",
    "    def __init__(self):\n",
    "        self.weights = [[1,2,3], [4,5,6]]\n",
    "\n",
    "x = testclass()"
   ]
  },
  {
   "cell_type": "code",
   "execution_count": 36,
   "metadata": {},
   "outputs": [
    {
     "output_type": "execute_result",
     "data": {
      "text/plain": [
       "[1, 2, 3]"
      ]
     },
     "metadata": {},
     "execution_count": 36
    }
   ],
   "source": [
    "y = x.weights[0]\n",
    "y"
   ]
  },
  {
   "cell_type": "code",
   "execution_count": 37,
   "metadata": {},
   "outputs": [],
   "source": [
    "y[0] = 7"
   ]
  },
  {
   "cell_type": "code",
   "execution_count": 38,
   "metadata": {},
   "outputs": [
    {
     "output_type": "execute_result",
     "data": {
      "text/plain": [
       "[7, 2, 3]"
      ]
     },
     "metadata": {},
     "execution_count": 38
    }
   ],
   "source": [
    "x.weights[0]"
   ]
  },
  {
   "cell_type": "code",
   "execution_count": 39,
   "metadata": {},
   "outputs": [
    {
     "output_type": "execute_result",
     "data": {
      "text/plain": [
       "[7, 2, 3]"
      ]
     },
     "metadata": {},
     "execution_count": 39
    }
   ],
   "source": [
    "y"
   ]
  },
  {
   "cell_type": "code",
   "execution_count": 34,
   "metadata": {},
   "outputs": [
    {
     "output_type": "execute_result",
     "data": {
      "text/plain": [
       "[4, 2, 3]"
      ]
     },
     "metadata": {},
     "execution_count": 34
    }
   ],
   "source": [
    "a = [1,2,3]\n",
    "b = a\n",
    "b[0] = 4\n",
    "a"
   ]
  },
  {
   "cell_type": "code",
   "execution_count": 9,
   "metadata": {},
   "outputs": [
    {
     "output_type": "execute_result",
     "data": {
      "text/plain": [
       "array([[ 0.08500486,  0.69602858,  0.54515709],\n",
       "       [ 0.74302638,  0.37548427,  0.48805228],\n",
       "       [ 0.48482226, -0.2124669 ,  0.71335525],\n",
       "       [ 0.4457444 ,  0.56424148,  0.87824   ]])"
      ]
     },
     "metadata": {},
     "execution_count": 9
    }
   ],
   "source": [
    "import numpy as np\n",
    "np.random.uniform(-1.0, 1.0, (4, 3))"
   ]
  },
  {
   "cell_type": "code",
   "execution_count": 10,
   "metadata": {},
   "outputs": [
    {
     "output_type": "execute_result",
     "data": {
      "text/plain": [
       "array([0.96191887, 0.5971491 , 0.52781256])"
      ]
     },
     "metadata": {},
     "execution_count": 10
    }
   ],
   "source": [
    "np.random.uniform(low = -1.0, high = 1.0, size = 3)"
   ]
  },
  {
   "cell_type": "code",
   "execution_count": null,
   "metadata": {},
   "outputs": [],
   "source": []
  }
 ]
}