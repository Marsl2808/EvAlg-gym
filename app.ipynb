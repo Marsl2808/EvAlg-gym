{
 "metadata": {
  "language_info": {
   "codemirror_mode": {
    "name": "ipython",
    "version": 3
   },
   "file_extension": ".py",
   "mimetype": "text/x-python",
   "name": "python",
   "nbconvert_exporter": "python",
   "pygments_lexer": "ipython3",
   "version": "3.8.10"
  },
  "orig_nbformat": 2,
  "kernelspec": {
   "name": "python3810jvsc74a57bd06a67657f0877f0054f0297e42be73e4e5bda1e39bebb74dea15ddd23ce218cf4",
   "display_name": "Python 3.8.10 64-bit ('ea_gym': venv)"
  },
  "metadata": {
   "interpreter": {
    "hash": "df4b48496479b6dbac9f82cbbc0bc05dc03b6aa29290929ce28ee161e7111e9c"
   }
  }
 },
 "nbformat": 4,
 "nbformat_minor": 2,
 "cells": [
  {
   "cell_type": "code",
   "execution_count": 1,
   "metadata": {},
   "outputs": [],
   "source": [
    "def adapt_obs(observation_env, entity):\n",
    "    observation_norm = []\n",
    "    for j in range(len(observation_env)):\n",
    "        if entity.obs_norm[j].std != 0:\n",
    "            observation_norm.append((observation_env[j]-entity.obs_norm[j].mean) / entity.obs_norm[j].std)    \n",
    "        else:\n",
    "            observation_norm.append(observation_env[j])\n",
    "\n",
    "        entity.updated_obs_norm[j](observation_env[j])\n",
    "\n",
    "    return observation_norm\n",
    "\n",
    "def agent_env_loop(entity, generation):\n",
    "    entity.survived = True\n",
    "    entity.fitness = 0\n",
    "    env.seed(10)\n",
    "    observation_env = env.reset()  # s_0\n",
    "\n",
    "    for i in range(MAX_SEQUENCE_LEN):\n",
    "\n",
    "        if WELFORD:\n",
    "            observation_norm = adapt_obs(observation_env, entity)   \n",
    "        else:\n",
    "            observation_norm = observation_env \n",
    "        \n",
    "        entity.action_sequ.append(entity.controller.feed_forward(observation_norm)) # a_t, s_t \n",
    "        observation_env, reward, done, _ = env.step(entity.action_sequ[-1])                     # s_{t+1}, r_{t+1}            \n",
    "\n",
    "        entity.fitness += reward\n",
    "        if done:\n",
    "            break"
   ]
  },
  {
   "cell_type": "code",
   "execution_count": 2,
   "metadata": {
    "tags": []
   },
   "outputs": [
    {
     "output_type": "stream",
     "name": "stdout",
     "text": [
      "Dim. action space: (4,)\n",
      "Dim. observation space: (24,)\n",
      "--- Generation 0 ---\n",
      "INFO:root:Time for diversity calculation: 14.736199617385864\n"
     ]
    },
    {
     "output_type": "display_data",
     "data": {
      "text/plain": "<Figure size 432x288 with 1 Axes>",
      "image/svg+xml": "<?xml version=\"1.0\" encoding=\"utf-8\" standalone=\"no\"?>\r\n<!DOCTYPE svg PUBLIC \"-//W3C//DTD SVG 1.1//EN\"\r\n  \"http://www.w3.org/Graphics/SVG/1.1/DTD/svg11.dtd\">\r\n<svg height=\"262.19625pt\" version=\"1.1\" viewBox=\"0 0 385.78125 262.19625\" width=\"385.78125pt\" xmlns=\"http://www.w3.org/2000/svg\" xmlns:xlink=\"http://www.w3.org/1999/xlink\">\r\n <metadata>\r\n  <rdf:RDF xmlns:cc=\"http://creativecommons.org/ns#\" xmlns:dc=\"http://purl.org/dc/elements/1.1/\" xmlns:rdf=\"http://www.w3.org/1999/02/22-rdf-syntax-ns#\">\r\n   <cc:Work>\r\n    <dc:type rdf:resource=\"http://purl.org/dc/dcmitype/StillImage\"/>\r\n    <dc:date>2021-05-16T23:22:27.906136</dc:date>\r\n    <dc:format>image/svg+xml</dc:format>\r\n    <dc:creator>\r\n     <cc:Agent>\r\n      <dc:title>Matplotlib v3.4.2, https://matplotlib.org/</dc:title>\r\n     </cc:Agent>\r\n    </dc:creator>\r\n   </cc:Work>\r\n  </rdf:RDF>\r\n </metadata>\r\n <defs>\r\n  <style type=\"text/css\">*{stroke-linecap:butt;stroke-linejoin:round;}</style>\r\n </defs>\r\n <g id=\"figure_1\">\r\n  <g id=\"patch_1\">\r\n   <path d=\"M 0 262.19625 \r\nL 385.78125 262.19625 \r\nL 385.78125 0 \r\nL 0 0 \r\nz\r\n\" style=\"fill:none;\"/>\r\n  </g>\r\n  <g id=\"axes_1\">\r\n   <g id=\"patch_2\">\r\n    <path d=\"M 43.78125 224.64 \r\nL 378.58125 224.64 \r\nL 378.58125 7.2 \r\nL 43.78125 7.2 \r\nz\r\n\" style=\"fill:#ffffff;\"/>\r\n   </g>\r\n   <g id=\"matplotlib.axis_1\">\r\n    <g id=\"xtick_1\">\r\n     <g id=\"line2d_1\">\r\n      <path clip-path=\"url(#p8e866bbab9)\" d=\"M 67.832733 224.64 \r\nL 67.832733 7.2 \r\n\" style=\"fill:none;stroke:#b0b0b0;stroke-linecap:square;stroke-width:0.8;\"/>\r\n     </g>\r\n     <g id=\"line2d_2\">\r\n      <defs>\r\n       <path d=\"M 0 0 \r\nL 0 3.5 \r\n\" id=\"mfb04957ccd\" style=\"stroke:#000000;stroke-width:0.8;\"/>\r\n      </defs>\r\n      <g>\r\n       <use style=\"stroke:#000000;stroke-width:0.8;\" x=\"67.832733\" xlink:href=\"#mfb04957ccd\" y=\"224.64\"/>\r\n      </g>\r\n     </g>\r\n     <g id=\"text_1\">\r\n      <!-- −140 -->\r\n      <g transform=\"translate(54.099139 239.238437)scale(0.1 -0.1)\">\r\n       <defs>\r\n        <path d=\"M 678 2272 \r\nL 4684 2272 \r\nL 4684 1741 \r\nL 678 1741 \r\nL 678 2272 \r\nz\r\n\" id=\"DejaVuSans-2212\" transform=\"scale(0.015625)\"/>\r\n        <path d=\"M 794 531 \r\nL 1825 531 \r\nL 1825 4091 \r\nL 703 3866 \r\nL 703 4441 \r\nL 1819 4666 \r\nL 2450 4666 \r\nL 2450 531 \r\nL 3481 531 \r\nL 3481 0 \r\nL 794 0 \r\nL 794 531 \r\nz\r\n\" id=\"DejaVuSans-31\" transform=\"scale(0.015625)\"/>\r\n        <path d=\"M 2419 4116 \r\nL 825 1625 \r\nL 2419 1625 \r\nL 2419 4116 \r\nz\r\nM 2253 4666 \r\nL 3047 4666 \r\nL 3047 1625 \r\nL 3713 1625 \r\nL 3713 1100 \r\nL 3047 1100 \r\nL 3047 0 \r\nL 2419 0 \r\nL 2419 1100 \r\nL 313 1100 \r\nL 313 1709 \r\nL 2253 4666 \r\nz\r\n\" id=\"DejaVuSans-34\" transform=\"scale(0.015625)\"/>\r\n        <path d=\"M 2034 4250 \r\nQ 1547 4250 1301 3770 \r\nQ 1056 3291 1056 2328 \r\nQ 1056 1369 1301 889 \r\nQ 1547 409 2034 409 \r\nQ 2525 409 2770 889 \r\nQ 3016 1369 3016 2328 \r\nQ 3016 3291 2770 3770 \r\nQ 2525 4250 2034 4250 \r\nz\r\nM 2034 4750 \r\nQ 2819 4750 3233 4129 \r\nQ 3647 3509 3647 2328 \r\nQ 3647 1150 3233 529 \r\nQ 2819 -91 2034 -91 \r\nQ 1250 -91 836 529 \r\nQ 422 1150 422 2328 \r\nQ 422 3509 836 4129 \r\nQ 1250 4750 2034 4750 \r\nz\r\n\" id=\"DejaVuSans-30\" transform=\"scale(0.015625)\"/>\r\n       </defs>\r\n       <use xlink:href=\"#DejaVuSans-2212\"/>\r\n       <use x=\"83.789062\" xlink:href=\"#DejaVuSans-31\"/>\r\n       <use x=\"147.412109\" xlink:href=\"#DejaVuSans-34\"/>\r\n       <use x=\"211.035156\" xlink:href=\"#DejaVuSans-30\"/>\r\n      </g>\r\n     </g>\r\n    </g>\r\n    <g id=\"xtick_2\">\r\n     <g id=\"line2d_3\">\r\n      <path clip-path=\"url(#p8e866bbab9)\" d=\"M 114.843098 224.64 \r\nL 114.843098 7.2 \r\n\" style=\"fill:none;stroke:#b0b0b0;stroke-linecap:square;stroke-width:0.8;\"/>\r\n     </g>\r\n     <g id=\"line2d_4\">\r\n      <g>\r\n       <use style=\"stroke:#000000;stroke-width:0.8;\" x=\"114.843098\" xlink:href=\"#mfb04957ccd\" y=\"224.64\"/>\r\n      </g>\r\n     </g>\r\n     <g id=\"text_2\">\r\n      <!-- −120 -->\r\n      <g transform=\"translate(101.109504 239.238437)scale(0.1 -0.1)\">\r\n       <defs>\r\n        <path d=\"M 1228 531 \r\nL 3431 531 \r\nL 3431 0 \r\nL 469 0 \r\nL 469 531 \r\nQ 828 903 1448 1529 \r\nQ 2069 2156 2228 2338 \r\nQ 2531 2678 2651 2914 \r\nQ 2772 3150 2772 3378 \r\nQ 2772 3750 2511 3984 \r\nQ 2250 4219 1831 4219 \r\nQ 1534 4219 1204 4116 \r\nQ 875 4013 500 3803 \r\nL 500 4441 \r\nQ 881 4594 1212 4672 \r\nQ 1544 4750 1819 4750 \r\nQ 2544 4750 2975 4387 \r\nQ 3406 4025 3406 3419 \r\nQ 3406 3131 3298 2873 \r\nQ 3191 2616 2906 2266 \r\nQ 2828 2175 2409 1742 \r\nQ 1991 1309 1228 531 \r\nz\r\n\" id=\"DejaVuSans-32\" transform=\"scale(0.015625)\"/>\r\n       </defs>\r\n       <use xlink:href=\"#DejaVuSans-2212\"/>\r\n       <use x=\"83.789062\" xlink:href=\"#DejaVuSans-31\"/>\r\n       <use x=\"147.412109\" xlink:href=\"#DejaVuSans-32\"/>\r\n       <use x=\"211.035156\" xlink:href=\"#DejaVuSans-30\"/>\r\n      </g>\r\n     </g>\r\n    </g>\r\n    <g id=\"xtick_3\">\r\n     <g id=\"line2d_5\">\r\n      <path clip-path=\"url(#p8e866bbab9)\" d=\"M 161.853464 224.64 \r\nL 161.853464 7.2 \r\n\" style=\"fill:none;stroke:#b0b0b0;stroke-linecap:square;stroke-width:0.8;\"/>\r\n     </g>\r\n     <g id=\"line2d_6\">\r\n      <g>\r\n       <use style=\"stroke:#000000;stroke-width:0.8;\" x=\"161.853464\" xlink:href=\"#mfb04957ccd\" y=\"224.64\"/>\r\n      </g>\r\n     </g>\r\n     <g id=\"text_3\">\r\n      <!-- −100 -->\r\n      <g transform=\"translate(148.11987 239.238437)scale(0.1 -0.1)\">\r\n       <use xlink:href=\"#DejaVuSans-2212\"/>\r\n       <use x=\"83.789062\" xlink:href=\"#DejaVuSans-31\"/>\r\n       <use x=\"147.412109\" xlink:href=\"#DejaVuSans-30\"/>\r\n       <use x=\"211.035156\" xlink:href=\"#DejaVuSans-30\"/>\r\n      </g>\r\n     </g>\r\n    </g>\r\n    <g id=\"xtick_4\">\r\n     <g id=\"line2d_7\">\r\n      <path clip-path=\"url(#p8e866bbab9)\" d=\"M 208.863829 224.64 \r\nL 208.863829 7.2 \r\n\" style=\"fill:none;stroke:#b0b0b0;stroke-linecap:square;stroke-width:0.8;\"/>\r\n     </g>\r\n     <g id=\"line2d_8\">\r\n      <g>\r\n       <use style=\"stroke:#000000;stroke-width:0.8;\" x=\"208.863829\" xlink:href=\"#mfb04957ccd\" y=\"224.64\"/>\r\n      </g>\r\n     </g>\r\n     <g id=\"text_4\">\r\n      <!-- −80 -->\r\n      <g transform=\"translate(198.311485 239.238437)scale(0.1 -0.1)\">\r\n       <defs>\r\n        <path d=\"M 2034 2216 \r\nQ 1584 2216 1326 1975 \r\nQ 1069 1734 1069 1313 \r\nQ 1069 891 1326 650 \r\nQ 1584 409 2034 409 \r\nQ 2484 409 2743 651 \r\nQ 3003 894 3003 1313 \r\nQ 3003 1734 2745 1975 \r\nQ 2488 2216 2034 2216 \r\nz\r\nM 1403 2484 \r\nQ 997 2584 770 2862 \r\nQ 544 3141 544 3541 \r\nQ 544 4100 942 4425 \r\nQ 1341 4750 2034 4750 \r\nQ 2731 4750 3128 4425 \r\nQ 3525 4100 3525 3541 \r\nQ 3525 3141 3298 2862 \r\nQ 3072 2584 2669 2484 \r\nQ 3125 2378 3379 2068 \r\nQ 3634 1759 3634 1313 \r\nQ 3634 634 3220 271 \r\nQ 2806 -91 2034 -91 \r\nQ 1263 -91 848 271 \r\nQ 434 634 434 1313 \r\nQ 434 1759 690 2068 \r\nQ 947 2378 1403 2484 \r\nz\r\nM 1172 3481 \r\nQ 1172 3119 1398 2916 \r\nQ 1625 2713 2034 2713 \r\nQ 2441 2713 2670 2916 \r\nQ 2900 3119 2900 3481 \r\nQ 2900 3844 2670 4047 \r\nQ 2441 4250 2034 4250 \r\nQ 1625 4250 1398 4047 \r\nQ 1172 3844 1172 3481 \r\nz\r\n\" id=\"DejaVuSans-38\" transform=\"scale(0.015625)\"/>\r\n       </defs>\r\n       <use xlink:href=\"#DejaVuSans-2212\"/>\r\n       <use x=\"83.789062\" xlink:href=\"#DejaVuSans-38\"/>\r\n       <use x=\"147.412109\" xlink:href=\"#DejaVuSans-30\"/>\r\n      </g>\r\n     </g>\r\n    </g>\r\n    <g id=\"xtick_5\">\r\n     <g id=\"line2d_9\">\r\n      <path clip-path=\"url(#p8e866bbab9)\" d=\"M 255.874195 224.64 \r\nL 255.874195 7.2 \r\n\" style=\"fill:none;stroke:#b0b0b0;stroke-linecap:square;stroke-width:0.8;\"/>\r\n     </g>\r\n     <g id=\"line2d_10\">\r\n      <g>\r\n       <use style=\"stroke:#000000;stroke-width:0.8;\" x=\"255.874195\" xlink:href=\"#mfb04957ccd\" y=\"224.64\"/>\r\n      </g>\r\n     </g>\r\n     <g id=\"text_5\">\r\n      <!-- −60 -->\r\n      <g transform=\"translate(245.321851 239.238437)scale(0.1 -0.1)\">\r\n       <defs>\r\n        <path d=\"M 2113 2584 \r\nQ 1688 2584 1439 2293 \r\nQ 1191 2003 1191 1497 \r\nQ 1191 994 1439 701 \r\nQ 1688 409 2113 409 \r\nQ 2538 409 2786 701 \r\nQ 3034 994 3034 1497 \r\nQ 3034 2003 2786 2293 \r\nQ 2538 2584 2113 2584 \r\nz\r\nM 3366 4563 \r\nL 3366 3988 \r\nQ 3128 4100 2886 4159 \r\nQ 2644 4219 2406 4219 \r\nQ 1781 4219 1451 3797 \r\nQ 1122 3375 1075 2522 \r\nQ 1259 2794 1537 2939 \r\nQ 1816 3084 2150 3084 \r\nQ 2853 3084 3261 2657 \r\nQ 3669 2231 3669 1497 \r\nQ 3669 778 3244 343 \r\nQ 2819 -91 2113 -91 \r\nQ 1303 -91 875 529 \r\nQ 447 1150 447 2328 \r\nQ 447 3434 972 4092 \r\nQ 1497 4750 2381 4750 \r\nQ 2619 4750 2861 4703 \r\nQ 3103 4656 3366 4563 \r\nz\r\n\" id=\"DejaVuSans-36\" transform=\"scale(0.015625)\"/>\r\n       </defs>\r\n       <use xlink:href=\"#DejaVuSans-2212\"/>\r\n       <use x=\"83.789062\" xlink:href=\"#DejaVuSans-36\"/>\r\n       <use x=\"147.412109\" xlink:href=\"#DejaVuSans-30\"/>\r\n      </g>\r\n     </g>\r\n    </g>\r\n    <g id=\"xtick_6\">\r\n     <g id=\"line2d_11\">\r\n      <path clip-path=\"url(#p8e866bbab9)\" d=\"M 302.88456 224.64 \r\nL 302.88456 7.2 \r\n\" style=\"fill:none;stroke:#b0b0b0;stroke-linecap:square;stroke-width:0.8;\"/>\r\n     </g>\r\n     <g id=\"line2d_12\">\r\n      <g>\r\n       <use style=\"stroke:#000000;stroke-width:0.8;\" x=\"302.88456\" xlink:href=\"#mfb04957ccd\" y=\"224.64\"/>\r\n      </g>\r\n     </g>\r\n     <g id=\"text_6\">\r\n      <!-- −40 -->\r\n      <g transform=\"translate(292.332216 239.238437)scale(0.1 -0.1)\">\r\n       <use xlink:href=\"#DejaVuSans-2212\"/>\r\n       <use x=\"83.789062\" xlink:href=\"#DejaVuSans-34\"/>\r\n       <use x=\"147.412109\" xlink:href=\"#DejaVuSans-30\"/>\r\n      </g>\r\n     </g>\r\n    </g>\r\n    <g id=\"xtick_7\">\r\n     <g id=\"line2d_13\">\r\n      <path clip-path=\"url(#p8e866bbab9)\" d=\"M 349.894925 224.64 \r\nL 349.894925 7.2 \r\n\" style=\"fill:none;stroke:#b0b0b0;stroke-linecap:square;stroke-width:0.8;\"/>\r\n     </g>\r\n     <g id=\"line2d_14\">\r\n      <g>\r\n       <use style=\"stroke:#000000;stroke-width:0.8;\" x=\"349.894925\" xlink:href=\"#mfb04957ccd\" y=\"224.64\"/>\r\n      </g>\r\n     </g>\r\n     <g id=\"text_7\">\r\n      <!-- −20 -->\r\n      <g transform=\"translate(339.342582 239.238437)scale(0.1 -0.1)\">\r\n       <use xlink:href=\"#DejaVuSans-2212\"/>\r\n       <use x=\"83.789062\" xlink:href=\"#DejaVuSans-32\"/>\r\n       <use x=\"147.412109\" xlink:href=\"#DejaVuSans-30\"/>\r\n      </g>\r\n     </g>\r\n    </g>\r\n    <g id=\"text_8\">\r\n     <!-- Fitness -->\r\n     <g transform=\"translate(193.864063 252.916562)scale(0.1 -0.1)\">\r\n      <defs>\r\n       <path d=\"M 628 4666 \r\nL 3309 4666 \r\nL 3309 4134 \r\nL 1259 4134 \r\nL 1259 2759 \r\nL 3109 2759 \r\nL 3109 2228 \r\nL 1259 2228 \r\nL 1259 0 \r\nL 628 0 \r\nL 628 4666 \r\nz\r\n\" id=\"DejaVuSans-46\" transform=\"scale(0.015625)\"/>\r\n       <path d=\"M 603 3500 \r\nL 1178 3500 \r\nL 1178 0 \r\nL 603 0 \r\nL 603 3500 \r\nz\r\nM 603 4863 \r\nL 1178 4863 \r\nL 1178 4134 \r\nL 603 4134 \r\nL 603 4863 \r\nz\r\n\" id=\"DejaVuSans-69\" transform=\"scale(0.015625)\"/>\r\n       <path d=\"M 1172 4494 \r\nL 1172 3500 \r\nL 2356 3500 \r\nL 2356 3053 \r\nL 1172 3053 \r\nL 1172 1153 \r\nQ 1172 725 1289 603 \r\nQ 1406 481 1766 481 \r\nL 2356 481 \r\nL 2356 0 \r\nL 1766 0 \r\nQ 1100 0 847 248 \r\nQ 594 497 594 1153 \r\nL 594 3053 \r\nL 172 3053 \r\nL 172 3500 \r\nL 594 3500 \r\nL 594 4494 \r\nL 1172 4494 \r\nz\r\n\" id=\"DejaVuSans-74\" transform=\"scale(0.015625)\"/>\r\n       <path d=\"M 3513 2113 \r\nL 3513 0 \r\nL 2938 0 \r\nL 2938 2094 \r\nQ 2938 2591 2744 2837 \r\nQ 2550 3084 2163 3084 \r\nQ 1697 3084 1428 2787 \r\nQ 1159 2491 1159 1978 \r\nL 1159 0 \r\nL 581 0 \r\nL 581 3500 \r\nL 1159 3500 \r\nL 1159 2956 \r\nQ 1366 3272 1645 3428 \r\nQ 1925 3584 2291 3584 \r\nQ 2894 3584 3203 3211 \r\nQ 3513 2838 3513 2113 \r\nz\r\n\" id=\"DejaVuSans-6e\" transform=\"scale(0.015625)\"/>\r\n       <path d=\"M 3597 1894 \r\nL 3597 1613 \r\nL 953 1613 \r\nQ 991 1019 1311 708 \r\nQ 1631 397 2203 397 \r\nQ 2534 397 2845 478 \r\nQ 3156 559 3463 722 \r\nL 3463 178 \r\nQ 3153 47 2828 -22 \r\nQ 2503 -91 2169 -91 \r\nQ 1331 -91 842 396 \r\nQ 353 884 353 1716 \r\nQ 353 2575 817 3079 \r\nQ 1281 3584 2069 3584 \r\nQ 2775 3584 3186 3129 \r\nQ 3597 2675 3597 1894 \r\nz\r\nM 3022 2063 \r\nQ 3016 2534 2758 2815 \r\nQ 2500 3097 2075 3097 \r\nQ 1594 3097 1305 2825 \r\nQ 1016 2553 972 2059 \r\nL 3022 2063 \r\nz\r\n\" id=\"DejaVuSans-65\" transform=\"scale(0.015625)\"/>\r\n       <path d=\"M 2834 3397 \r\nL 2834 2853 \r\nQ 2591 2978 2328 3040 \r\nQ 2066 3103 1784 3103 \r\nQ 1356 3103 1142 2972 \r\nQ 928 2841 928 2578 \r\nQ 928 2378 1081 2264 \r\nQ 1234 2150 1697 2047 \r\nL 1894 2003 \r\nQ 2506 1872 2764 1633 \r\nQ 3022 1394 3022 966 \r\nQ 3022 478 2636 193 \r\nQ 2250 -91 1575 -91 \r\nQ 1294 -91 989 -36 \r\nQ 684 19 347 128 \r\nL 347 722 \r\nQ 666 556 975 473 \r\nQ 1284 391 1588 391 \r\nQ 1994 391 2212 530 \r\nQ 2431 669 2431 922 \r\nQ 2431 1156 2273 1281 \r\nQ 2116 1406 1581 1522 \r\nL 1381 1569 \r\nQ 847 1681 609 1914 \r\nQ 372 2147 372 2553 \r\nQ 372 3047 722 3315 \r\nQ 1072 3584 1716 3584 \r\nQ 2034 3584 2315 3537 \r\nQ 2597 3491 2834 3397 \r\nz\r\n\" id=\"DejaVuSans-73\" transform=\"scale(0.015625)\"/>\r\n      </defs>\r\n      <use xlink:href=\"#DejaVuSans-46\"/>\r\n      <use x=\"50.269531\" xlink:href=\"#DejaVuSans-69\"/>\r\n      <use x=\"78.052734\" xlink:href=\"#DejaVuSans-74\"/>\r\n      <use x=\"117.261719\" xlink:href=\"#DejaVuSans-6e\"/>\r\n      <use x=\"180.640625\" xlink:href=\"#DejaVuSans-65\"/>\r\n      <use x=\"242.164062\" xlink:href=\"#DejaVuSans-73\"/>\r\n      <use x=\"294.263672\" xlink:href=\"#DejaVuSans-73\"/>\r\n     </g>\r\n    </g>\r\n   </g>\r\n   <g id=\"matplotlib.axis_2\">\r\n    <g id=\"ytick_1\">\r\n     <g id=\"line2d_15\">\r\n      <path clip-path=\"url(#p8e866bbab9)\" d=\"M 43.78125 214.756364 \r\nL 378.58125 214.756364 \r\n\" style=\"fill:none;stroke:#b0b0b0;stroke-linecap:square;stroke-width:0.8;\"/>\r\n     </g>\r\n     <g id=\"line2d_16\">\r\n      <defs>\r\n       <path d=\"M 0 0 \r\nL -3.5 0 \r\n\" id=\"m601ae192b2\" style=\"stroke:#000000;stroke-width:0.8;\"/>\r\n      </defs>\r\n      <g>\r\n       <use style=\"stroke:#000000;stroke-width:0.8;\" x=\"43.78125\" xlink:href=\"#m601ae192b2\" y=\"214.756364\"/>\r\n      </g>\r\n     </g>\r\n     <g id=\"text_9\">\r\n      <!-- 0.0 -->\r\n      <g transform=\"translate(20.878125 218.555582)scale(0.1 -0.1)\">\r\n       <defs>\r\n        <path d=\"M 684 794 \r\nL 1344 794 \r\nL 1344 0 \r\nL 684 0 \r\nL 684 794 \r\nz\r\n\" id=\"DejaVuSans-2e\" transform=\"scale(0.015625)\"/>\r\n       </defs>\r\n       <use xlink:href=\"#DejaVuSans-30\"/>\r\n       <use x=\"63.623047\" xlink:href=\"#DejaVuSans-2e\"/>\r\n       <use x=\"95.410156\" xlink:href=\"#DejaVuSans-30\"/>\r\n      </g>\r\n     </g>\r\n    </g>\r\n    <g id=\"ytick_2\">\r\n     <g id=\"line2d_17\">\r\n      <path clip-path=\"url(#p8e866bbab9)\" d=\"M 43.78125 179.77004 \r\nL 378.58125 179.77004 \r\n\" style=\"fill:none;stroke:#b0b0b0;stroke-linecap:square;stroke-width:0.8;\"/>\r\n     </g>\r\n     <g id=\"line2d_18\">\r\n      <g>\r\n       <use style=\"stroke:#000000;stroke-width:0.8;\" x=\"43.78125\" xlink:href=\"#m601ae192b2\" y=\"179.77004\"/>\r\n      </g>\r\n     </g>\r\n     <g id=\"text_10\">\r\n      <!-- 0.2 -->\r\n      <g transform=\"translate(20.878125 183.569259)scale(0.1 -0.1)\">\r\n       <use xlink:href=\"#DejaVuSans-30\"/>\r\n       <use x=\"63.623047\" xlink:href=\"#DejaVuSans-2e\"/>\r\n       <use x=\"95.410156\" xlink:href=\"#DejaVuSans-32\"/>\r\n      </g>\r\n     </g>\r\n    </g>\r\n    <g id=\"ytick_3\">\r\n     <g id=\"line2d_19\">\r\n      <path clip-path=\"url(#p8e866bbab9)\" d=\"M 43.78125 144.783717 \r\nL 378.58125 144.783717 \r\n\" style=\"fill:none;stroke:#b0b0b0;stroke-linecap:square;stroke-width:0.8;\"/>\r\n     </g>\r\n     <g id=\"line2d_20\">\r\n      <g>\r\n       <use style=\"stroke:#000000;stroke-width:0.8;\" x=\"43.78125\" xlink:href=\"#m601ae192b2\" y=\"144.783717\"/>\r\n      </g>\r\n     </g>\r\n     <g id=\"text_11\">\r\n      <!-- 0.4 -->\r\n      <g transform=\"translate(20.878125 148.582936)scale(0.1 -0.1)\">\r\n       <use xlink:href=\"#DejaVuSans-30\"/>\r\n       <use x=\"63.623047\" xlink:href=\"#DejaVuSans-2e\"/>\r\n       <use x=\"95.410156\" xlink:href=\"#DejaVuSans-34\"/>\r\n      </g>\r\n     </g>\r\n    </g>\r\n    <g id=\"ytick_4\">\r\n     <g id=\"line2d_21\">\r\n      <path clip-path=\"url(#p8e866bbab9)\" d=\"M 43.78125 109.797393 \r\nL 378.58125 109.797393 \r\n\" style=\"fill:none;stroke:#b0b0b0;stroke-linecap:square;stroke-width:0.8;\"/>\r\n     </g>\r\n     <g id=\"line2d_22\">\r\n      <g>\r\n       <use style=\"stroke:#000000;stroke-width:0.8;\" x=\"43.78125\" xlink:href=\"#m601ae192b2\" y=\"109.797393\"/>\r\n      </g>\r\n     </g>\r\n     <g id=\"text_12\">\r\n      <!-- 0.6 -->\r\n      <g transform=\"translate(20.878125 113.596612)scale(0.1 -0.1)\">\r\n       <use xlink:href=\"#DejaVuSans-30\"/>\r\n       <use x=\"63.623047\" xlink:href=\"#DejaVuSans-2e\"/>\r\n       <use x=\"95.410156\" xlink:href=\"#DejaVuSans-36\"/>\r\n      </g>\r\n     </g>\r\n    </g>\r\n    <g id=\"ytick_5\">\r\n     <g id=\"line2d_23\">\r\n      <path clip-path=\"url(#p8e866bbab9)\" d=\"M 43.78125 74.81107 \r\nL 378.58125 74.81107 \r\n\" style=\"fill:none;stroke:#b0b0b0;stroke-linecap:square;stroke-width:0.8;\"/>\r\n     </g>\r\n     <g id=\"line2d_24\">\r\n      <g>\r\n       <use style=\"stroke:#000000;stroke-width:0.8;\" x=\"43.78125\" xlink:href=\"#m601ae192b2\" y=\"74.81107\"/>\r\n      </g>\r\n     </g>\r\n     <g id=\"text_13\">\r\n      <!-- 0.8 -->\r\n      <g transform=\"translate(20.878125 78.610289)scale(0.1 -0.1)\">\r\n       <use xlink:href=\"#DejaVuSans-30\"/>\r\n       <use x=\"63.623047\" xlink:href=\"#DejaVuSans-2e\"/>\r\n       <use x=\"95.410156\" xlink:href=\"#DejaVuSans-38\"/>\r\n      </g>\r\n     </g>\r\n    </g>\r\n    <g id=\"ytick_6\">\r\n     <g id=\"line2d_25\">\r\n      <path clip-path=\"url(#p8e866bbab9)\" d=\"M 43.78125 39.824747 \r\nL 378.58125 39.824747 \r\n\" style=\"fill:none;stroke:#b0b0b0;stroke-linecap:square;stroke-width:0.8;\"/>\r\n     </g>\r\n     <g id=\"line2d_26\">\r\n      <g>\r\n       <use style=\"stroke:#000000;stroke-width:0.8;\" x=\"43.78125\" xlink:href=\"#m601ae192b2\" y=\"39.824747\"/>\r\n      </g>\r\n     </g>\r\n     <g id=\"text_14\">\r\n      <!-- 1.0 -->\r\n      <g transform=\"translate(20.878125 43.623965)scale(0.1 -0.1)\">\r\n       <use xlink:href=\"#DejaVuSans-31\"/>\r\n       <use x=\"63.623047\" xlink:href=\"#DejaVuSans-2e\"/>\r\n       <use x=\"95.410156\" xlink:href=\"#DejaVuSans-30\"/>\r\n      </g>\r\n     </g>\r\n    </g>\r\n    <g id=\"text_15\">\r\n     <!-- Diversity -->\r\n     <g transform=\"translate(14.798438 138.16375)rotate(-90)scale(0.1 -0.1)\">\r\n      <defs>\r\n       <path d=\"M 1259 4147 \r\nL 1259 519 \r\nL 2022 519 \r\nQ 2988 519 3436 956 \r\nQ 3884 1394 3884 2338 \r\nQ 3884 3275 3436 3711 \r\nQ 2988 4147 2022 4147 \r\nL 1259 4147 \r\nz\r\nM 628 4666 \r\nL 1925 4666 \r\nQ 3281 4666 3915 4102 \r\nQ 4550 3538 4550 2338 \r\nQ 4550 1131 3912 565 \r\nQ 3275 0 1925 0 \r\nL 628 0 \r\nL 628 4666 \r\nz\r\n\" id=\"DejaVuSans-44\" transform=\"scale(0.015625)\"/>\r\n       <path d=\"M 191 3500 \r\nL 800 3500 \r\nL 1894 563 \r\nL 2988 3500 \r\nL 3597 3500 \r\nL 2284 0 \r\nL 1503 0 \r\nL 191 3500 \r\nz\r\n\" id=\"DejaVuSans-76\" transform=\"scale(0.015625)\"/>\r\n       <path d=\"M 2631 2963 \r\nQ 2534 3019 2420 3045 \r\nQ 2306 3072 2169 3072 \r\nQ 1681 3072 1420 2755 \r\nQ 1159 2438 1159 1844 \r\nL 1159 0 \r\nL 581 0 \r\nL 581 3500 \r\nL 1159 3500 \r\nL 1159 2956 \r\nQ 1341 3275 1631 3429 \r\nQ 1922 3584 2338 3584 \r\nQ 2397 3584 2469 3576 \r\nQ 2541 3569 2628 3553 \r\nL 2631 2963 \r\nz\r\n\" id=\"DejaVuSans-72\" transform=\"scale(0.015625)\"/>\r\n       <path d=\"M 2059 -325 \r\nQ 1816 -950 1584 -1140 \r\nQ 1353 -1331 966 -1331 \r\nL 506 -1331 \r\nL 506 -850 \r\nL 844 -850 \r\nQ 1081 -850 1212 -737 \r\nQ 1344 -625 1503 -206 \r\nL 1606 56 \r\nL 191 3500 \r\nL 800 3500 \r\nL 1894 763 \r\nL 2988 3500 \r\nL 3597 3500 \r\nL 2059 -325 \r\nz\r\n\" id=\"DejaVuSans-79\" transform=\"scale(0.015625)\"/>\r\n      </defs>\r\n      <use xlink:href=\"#DejaVuSans-44\"/>\r\n      <use x=\"77.001953\" xlink:href=\"#DejaVuSans-69\"/>\r\n      <use x=\"104.785156\" xlink:href=\"#DejaVuSans-76\"/>\r\n      <use x=\"163.964844\" xlink:href=\"#DejaVuSans-65\"/>\r\n      <use x=\"225.488281\" xlink:href=\"#DejaVuSans-72\"/>\r\n      <use x=\"266.601562\" xlink:href=\"#DejaVuSans-73\"/>\r\n      <use x=\"318.701172\" xlink:href=\"#DejaVuSans-69\"/>\r\n      <use x=\"346.484375\" xlink:href=\"#DejaVuSans-74\"/>\r\n      <use x=\"385.693359\" xlink:href=\"#DejaVuSans-79\"/>\r\n     </g>\r\n    </g>\r\n   </g>\r\n   <g id=\"line2d_27\">\r\n    <defs>\r\n     <path d=\"M 0 3 \r\nC 0.795609 3 1.55874 2.683901 2.12132 2.12132 \r\nC 2.683901 1.55874 3 0.795609 3 0 \r\nC 3 -0.795609 2.683901 -1.55874 2.12132 -2.12132 \r\nC 1.55874 -2.683901 0.795609 -3 0 -3 \r\nC -0.795609 -3 -1.55874 -2.683901 -2.12132 -2.12132 \r\nC -2.683901 -1.55874 -3 -0.795609 -3 0 \r\nC -3 0.795609 -2.683901 1.55874 -2.12132 2.12132 \r\nC -1.55874 2.683901 -0.795609 3 0 3 \r\nz\r\n\" id=\"m05be38627d\" style=\"stroke:#ff0000;\"/>\r\n    </defs>\r\n    <g clip-path=\"url(#p8e866bbab9)\">\r\n     <use style=\"fill:#ff0000;stroke:#ff0000;\" x=\"303.151776\" xlink:href=\"#m05be38627d\" y=\"120.29329\"/>\r\n     <use style=\"fill:#ff0000;stroke:#ff0000;\" x=\"129.10318\" xlink:href=\"#m05be38627d\" y=\"17.083636\"/>\r\n     <use style=\"fill:#ff0000;stroke:#ff0000;\" x=\"93.570908\" xlink:href=\"#m05be38627d\" y=\"80.059019\"/>\r\n     <use style=\"fill:#ff0000;stroke:#ff0000;\" x=\"152.241882\" xlink:href=\"#m05be38627d\" y=\"97.55218\"/>\r\n     <use style=\"fill:#ff0000;stroke:#ff0000;\" x=\"343.166964\" xlink:href=\"#m05be38627d\" y=\"120.29329\"/>\r\n     <use style=\"fill:#ff0000;stroke:#ff0000;\" x=\"126.27891\" xlink:href=\"#m05be38627d\" y=\"123.791923\"/>\r\n     <use style=\"fill:#ff0000;stroke:#ff0000;\" x=\"142.037365\" xlink:href=\"#m05be38627d\" y=\"134.28782\"/>\r\n     <use style=\"fill:#ff0000;stroke:#ff0000;\" x=\"128.309283\" xlink:href=\"#m05be38627d\" y=\"137.786452\"/>\r\n     <use style=\"fill:#ff0000;stroke:#ff0000;\" x=\"134.447607\" xlink:href=\"#m05be38627d\" y=\"127.290555\"/>\r\n     <use style=\"fill:#ff0000;stroke:#ff0000;\" x=\"96.174921\" xlink:href=\"#m05be38627d\" y=\"137.786452\"/>\r\n     <use style=\"fill:#ff0000;stroke:#ff0000;\" x=\"140.679712\" xlink:href=\"#m05be38627d\" y=\"97.55218\"/>\r\n     <use style=\"fill:#ff0000;stroke:#ff0000;\" x=\"284.90864\" xlink:href=\"#m05be38627d\" y=\"134.28782\"/>\r\n     <use style=\"fill:#ff0000;stroke:#ff0000;\" x=\"335.232515\" xlink:href=\"#m05be38627d\" y=\"97.55218\"/>\r\n     <use style=\"fill:#ff0000;stroke:#ff0000;\" x=\"315.677198\" xlink:href=\"#m05be38627d\" y=\"134.28782\"/>\r\n     <use style=\"fill:#ff0000;stroke:#ff0000;\" x=\"110.063214\" xlink:href=\"#m05be38627d\" y=\"134.28782\"/>\r\n     <use style=\"fill:#ff0000;stroke:#ff0000;\" x=\"105.913375\" xlink:href=\"#m05be38627d\" y=\"113.296026\"/>\r\n     <use style=\"fill:#ff0000;stroke:#ff0000;\" x=\"301.294826\" xlink:href=\"#m05be38627d\" y=\"148.282349\"/>\r\n     <use style=\"fill:#ff0000;stroke:#ff0000;\" x=\"294.796452\" xlink:href=\"#m05be38627d\" y=\"101.050813\"/>\r\n     <use style=\"fill:#ff0000;stroke:#ff0000;\" x=\"136.199344\" xlink:href=\"#m05be38627d\" y=\"141.285084\"/>\r\n     <use style=\"fill:#ff0000;stroke:#ff0000;\" x=\"148.119905\" xlink:href=\"#m05be38627d\" y=\"155.279614\"/>\r\n     <use style=\"fill:#ff0000;stroke:#ff0000;\" x=\"151.945579\" xlink:href=\"#m05be38627d\" y=\"127.290555\"/>\r\n     <use style=\"fill:#ff0000;stroke:#ff0000;\" x=\"91.171411\" xlink:href=\"#m05be38627d\" y=\"80.059019\"/>\r\n     <use style=\"fill:#ff0000;stroke:#ff0000;\" x=\"300.037198\" xlink:href=\"#m05be38627d\" y=\"141.285084\"/>\r\n     <use style=\"fill:#ff0000;stroke:#ff0000;\" x=\"110.067856\" xlink:href=\"#m05be38627d\" y=\"141.285084\"/>\r\n     <use style=\"fill:#ff0000;stroke:#ff0000;\" x=\"89.490406\" xlink:href=\"#m05be38627d\" y=\"108.048077\"/>\r\n     <use style=\"fill:#ff0000;stroke:#ff0000;\" x=\"110.893278\" xlink:href=\"#m05be38627d\" y=\"134.28782\"/>\r\n     <use style=\"fill:#ff0000;stroke:#ff0000;\" x=\"134.891585\" xlink:href=\"#m05be38627d\" y=\"134.28782\"/>\r\n     <use style=\"fill:#ff0000;stroke:#ff0000;\" x=\"163.166629\" xlink:href=\"#m05be38627d\" y=\"151.780981\"/>\r\n     <use style=\"fill:#ff0000;stroke:#ff0000;\" x=\"155.281939\" xlink:href=\"#m05be38627d\" y=\"101.050813\"/>\r\n     <use style=\"fill:#ff0000;stroke:#ff0000;\" x=\"111.811106\" xlink:href=\"#m05be38627d\" y=\"46.822011\"/>\r\n     <use style=\"fill:#ff0000;stroke:#ff0000;\" x=\"146.261748\" xlink:href=\"#m05be38627d\" y=\"151.780981\"/>\r\n     <use style=\"fill:#ff0000;stroke:#ff0000;\" x=\"162.46945\" xlink:href=\"#m05be38627d\" y=\"141.285084\"/>\r\n     <use style=\"fill:#ff0000;stroke:#ff0000;\" x=\"113.965443\" xlink:href=\"#m05be38627d\" y=\"137.786452\"/>\r\n     <use style=\"fill:#ff0000;stroke:#ff0000;\" x=\"155.825295\" xlink:href=\"#m05be38627d\" y=\"127.290555\"/>\r\n     <use style=\"fill:#ff0000;stroke:#ff0000;\" x=\"86.756413\" xlink:href=\"#m05be38627d\" y=\"109.797393\"/>\r\n     <use style=\"fill:#ff0000;stroke:#ff0000;\" x=\"72.905231\" xlink:href=\"#m05be38627d\" y=\"127.290555\"/>\r\n     <use style=\"fill:#ff0000;stroke:#ff0000;\" x=\"126.963112\" xlink:href=\"#m05be38627d\" y=\"57.317908\"/>\r\n     <use style=\"fill:#ff0000;stroke:#ff0000;\" x=\"118.913182\" xlink:href=\"#m05be38627d\" y=\"101.050813\"/>\r\n     <use style=\"fill:#ff0000;stroke:#ff0000;\" x=\"84.455332\" xlink:href=\"#m05be38627d\" y=\"116.794658\"/>\r\n     <use style=\"fill:#ff0000;stroke:#ff0000;\" x=\"145.818144\" xlink:href=\"#m05be38627d\" y=\"87.056283\"/>\r\n     <use style=\"fill:#ff0000;stroke:#ff0000;\" x=\"147.490405\" xlink:href=\"#m05be38627d\" y=\"97.55218\"/>\r\n     <use style=\"fill:#ff0000;stroke:#ff0000;\" x=\"122.42407\" xlink:href=\"#m05be38627d\" y=\"134.28782\"/>\r\n     <use style=\"fill:#ff0000;stroke:#ff0000;\" x=\"127.835287\" xlink:href=\"#m05be38627d\" y=\"83.557651\"/>\r\n     <use style=\"fill:#ff0000;stroke:#ff0000;\" x=\"363.363068\" xlink:href=\"#m05be38627d\" y=\"76.560386\"/>\r\n     <use style=\"fill:#ff0000;stroke:#ff0000;\" x=\"135.191569\" xlink:href=\"#m05be38627d\" y=\"94.053548\"/>\r\n     <use style=\"fill:#ff0000;stroke:#ff0000;\" x=\"299.766047\" xlink:href=\"#m05be38627d\" y=\"76.560386\"/>\r\n     <use style=\"fill:#ff0000;stroke:#ff0000;\" x=\"281.990519\" xlink:href=\"#m05be38627d\" y=\"101.050813\"/>\r\n     <use style=\"fill:#ff0000;stroke:#ff0000;\" x=\"82.931126\" xlink:href=\"#m05be38627d\" y=\"102.800129\"/>\r\n     <use style=\"fill:#ff0000;stroke:#ff0000;\" x=\"119.04107\" xlink:href=\"#m05be38627d\" y=\"127.290555\"/>\r\n     <use style=\"fill:#ff0000;stroke:#ff0000;\" x=\"108.881116\" xlink:href=\"#m05be38627d\" y=\"144.783717\"/>\r\n     <use style=\"fill:#ff0000;stroke:#ff0000;\" x=\"288.054621\" xlink:href=\"#m05be38627d\" y=\"97.55218\"/>\r\n     <use style=\"fill:#ff0000;stroke:#ff0000;\" x=\"108.003166\" xlink:href=\"#m05be38627d\" y=\"127.290555\"/>\r\n     <use style=\"fill:#ff0000;stroke:#ff0000;\" x=\"153.642661\" xlink:href=\"#m05be38627d\" y=\"151.780981\"/>\r\n     <use style=\"fill:#ff0000;stroke:#ff0000;\" x=\"275.066361\" xlink:href=\"#m05be38627d\" y=\"120.29329\"/>\r\n     <use style=\"fill:#ff0000;stroke:#ff0000;\" x=\"147.29622\" xlink:href=\"#m05be38627d\" y=\"94.053548\"/>\r\n     <use style=\"fill:#ff0000;stroke:#ff0000;\" x=\"136.844691\" xlink:href=\"#m05be38627d\" y=\"134.28782\"/>\r\n     <use style=\"fill:#ff0000;stroke:#ff0000;\" x=\"136.44532\" xlink:href=\"#m05be38627d\" y=\"137.786452\"/>\r\n     <use style=\"fill:#ff0000;stroke:#ff0000;\" x=\"290.159245\" xlink:href=\"#m05be38627d\" y=\"97.55218\"/>\r\n     <use style=\"fill:#ff0000;stroke:#ff0000;\" x=\"295.470133\" xlink:href=\"#m05be38627d\" y=\"90.554916\"/>\r\n     <use style=\"fill:#ff0000;stroke:#ff0000;\" x=\"278.507822\" xlink:href=\"#m05be38627d\" y=\"134.28782\"/>\r\n     <use style=\"fill:#ff0000;stroke:#ff0000;\" x=\"106.977876\" xlink:href=\"#m05be38627d\" y=\"141.285084\"/>\r\n     <use style=\"fill:#ff0000;stroke:#ff0000;\" x=\"343.067201\" xlink:href=\"#m05be38627d\" y=\"94.053548\"/>\r\n     <use style=\"fill:#ff0000;stroke:#ff0000;\" x=\"117.64754\" xlink:href=\"#m05be38627d\" y=\"101.050813\"/>\r\n     <use style=\"fill:#ff0000;stroke:#ff0000;\" x=\"141.867729\" xlink:href=\"#m05be38627d\" y=\"151.780981\"/>\r\n     <use style=\"fill:#ff0000;stroke:#ff0000;\" x=\"292.356117\" xlink:href=\"#m05be38627d\" y=\"90.554916\"/>\r\n     <use style=\"fill:#ff0000;stroke:#ff0000;\" x=\"145.588724\" xlink:href=\"#m05be38627d\" y=\"90.554916\"/>\r\n     <use style=\"fill:#ff0000;stroke:#ff0000;\" x=\"133.355493\" xlink:href=\"#m05be38627d\" y=\"104.549445\"/>\r\n     <use style=\"fill:#ff0000;stroke:#ff0000;\" x=\"287.174895\" xlink:href=\"#m05be38627d\" y=\"87.056283\"/>\r\n     <use style=\"fill:#ff0000;stroke:#ff0000;\" x=\"129.831828\" xlink:href=\"#m05be38627d\" y=\"108.048077\"/>\r\n     <use style=\"fill:#ff0000;stroke:#ff0000;\" x=\"58.999432\" xlink:href=\"#m05be38627d\" y=\"127.290555\"/>\r\n     <use style=\"fill:#ff0000;stroke:#ff0000;\" x=\"120.249953\" xlink:href=\"#m05be38627d\" y=\"87.056283\"/>\r\n     <use style=\"fill:#ff0000;stroke:#ff0000;\" x=\"119.718909\" xlink:href=\"#m05be38627d\" y=\"50.320644\"/>\r\n     <use style=\"fill:#ff0000;stroke:#ff0000;\" x=\"108.005371\" xlink:href=\"#m05be38627d\" y=\"94.053548\"/>\r\n     <use style=\"fill:#ff0000;stroke:#ff0000;\" x=\"143.418945\" xlink:href=\"#m05be38627d\" y=\"130.789187\"/>\r\n     <use style=\"fill:#ff0000;stroke:#ff0000;\" x=\"143.131787\" xlink:href=\"#m05be38627d\" y=\"120.29329\"/>\r\n     <use style=\"fill:#ff0000;stroke:#ff0000;\" x=\"317.527552\" xlink:href=\"#m05be38627d\" y=\"127.290555\"/>\r\n     <use style=\"fill:#ff0000;stroke:#ff0000;\" x=\"305.46891\" xlink:href=\"#m05be38627d\" y=\"111.54671\"/>\r\n     <use style=\"fill:#ff0000;stroke:#ff0000;\" x=\"97.738363\" xlink:href=\"#m05be38627d\" y=\"109.797393\"/>\r\n     <use style=\"fill:#ff0000;stroke:#ff0000;\" x=\"305.950681\" xlink:href=\"#m05be38627d\" y=\"108.048077\"/>\r\n     <use style=\"fill:#ff0000;stroke:#ff0000;\" x=\"140.834767\" xlink:href=\"#m05be38627d\" y=\"94.053548\"/>\r\n     <use style=\"fill:#ff0000;stroke:#ff0000;\" x=\"100.069461\" xlink:href=\"#m05be38627d\" y=\"90.554916\"/>\r\n     <use style=\"fill:#ff0000;stroke:#ff0000;\" x=\"106.820571\" xlink:href=\"#m05be38627d\" y=\"80.059019\"/>\r\n     <use style=\"fill:#ff0000;stroke:#ff0000;\" x=\"149.978989\" xlink:href=\"#m05be38627d\" y=\"90.554916\"/>\r\n     <use style=\"fill:#ff0000;stroke:#ff0000;\" x=\"120.749654\" xlink:href=\"#m05be38627d\" y=\"144.783717\"/>\r\n     <use style=\"fill:#ff0000;stroke:#ff0000;\" x=\"152.783662\" xlink:href=\"#m05be38627d\" y=\"179.77004\"/>\r\n     <use style=\"fill:#ff0000;stroke:#ff0000;\" x=\"121.021535\" xlink:href=\"#m05be38627d\" y=\"108.048077\"/>\r\n     <use style=\"fill:#ff0000;stroke:#ff0000;\" x=\"127.371027\" xlink:href=\"#m05be38627d\" y=\"116.794658\"/>\r\n     <use style=\"fill:#ff0000;stroke:#ff0000;\" x=\"91.520012\" xlink:href=\"#m05be38627d\" y=\"130.789187\"/>\r\n     <use style=\"fill:#ff0000;stroke:#ff0000;\" x=\"143.495015\" xlink:href=\"#m05be38627d\" y=\"141.285084\"/>\r\n     <use style=\"fill:#ff0000;stroke:#ff0000;\" x=\"329.289847\" xlink:href=\"#m05be38627d\" y=\"94.053548\"/>\r\n     <use style=\"fill:#ff0000;stroke:#ff0000;\" x=\"146.741751\" xlink:href=\"#m05be38627d\" y=\"155.279614\"/>\r\n     <use style=\"fill:#ff0000;stroke:#ff0000;\" x=\"135.63943\" xlink:href=\"#m05be38627d\" y=\"120.29329\"/>\r\n     <use style=\"fill:#ff0000;stroke:#ff0000;\" x=\"307.675736\" xlink:href=\"#m05be38627d\" y=\"94.053548\"/>\r\n     <use style=\"fill:#ff0000;stroke:#ff0000;\" x=\"121.998598\" xlink:href=\"#m05be38627d\" y=\"83.557651\"/>\r\n     <use style=\"fill:#ff0000;stroke:#ff0000;\" x=\"132.116518\" xlink:href=\"#m05be38627d\" y=\"113.296026\"/>\r\n     <use style=\"fill:#ff0000;stroke:#ff0000;\" x=\"144.745073\" xlink:href=\"#m05be38627d\" y=\"94.053548\"/>\r\n     <use style=\"fill:#ff0000;stroke:#ff0000;\" x=\"62.23437\" xlink:href=\"#m05be38627d\" y=\"120.29329\"/>\r\n     <use style=\"fill:#ff0000;stroke:#ff0000;\" x=\"94.503194\" xlink:href=\"#m05be38627d\" y=\"120.29329\"/>\r\n     <use style=\"fill:#ff0000;stroke:#ff0000;\" x=\"299.549233\" xlink:href=\"#m05be38627d\" y=\"106.298761\"/>\r\n     <use style=\"fill:#ff0000;stroke:#ff0000;\" x=\"107.562338\" xlink:href=\"#m05be38627d\" y=\"214.756364\"/>\r\n    </g>\r\n   </g>\r\n   <g id=\"patch_3\">\r\n    <path d=\"M 43.78125 224.64 \r\nL 43.78125 7.2 \r\n\" style=\"fill:none;stroke:#000000;stroke-linecap:square;stroke-linejoin:miter;stroke-width:0.8;\"/>\r\n   </g>\r\n   <g id=\"patch_4\">\r\n    <path d=\"M 378.58125 224.64 \r\nL 378.58125 7.2 \r\n\" style=\"fill:none;stroke:#000000;stroke-linecap:square;stroke-linejoin:miter;stroke-width:0.8;\"/>\r\n   </g>\r\n   <g id=\"patch_5\">\r\n    <path d=\"M 43.78125 224.64 \r\nL 378.58125 224.64 \r\n\" style=\"fill:none;stroke:#000000;stroke-linecap:square;stroke-linejoin:miter;stroke-width:0.8;\"/>\r\n   </g>\r\n   <g id=\"patch_6\">\r\n    <path d=\"M 43.78125 7.2 \r\nL 378.58125 7.2 \r\n\" style=\"fill:none;stroke:#000000;stroke-linecap:square;stroke-linejoin:miter;stroke-width:0.8;\"/>\r\n   </g>\r\n  </g>\r\n </g>\r\n <defs>\r\n  <clipPath id=\"p8e866bbab9\">\r\n   <rect height=\"217.44\" width=\"334.8\" x=\"43.78125\" y=\"7.2\"/>\r\n  </clipPath>\r\n </defs>\r\n</svg>\r\n",
      "image/png": "[encoded data removed]"
     },
     "metadata": {
      "needs_background": "light"
     }
    },
    {
     "output_type": "stream",
     "name": "stderr",
     "text": [
      "INFO:root:60 survived walker,max fitness: -14.270139089104312\n",
      "Time: 21.75 sec\n",
      "--- Generation 1 ---\n",
      "INFO:root:50 survived walker,max fitness: -14.270139089104312\n",
      "Time: 2.70 sec\n",
      "--- Generation 2 ---\n",
      "INFO:root:47 survived walker,max fitness: -14.270139089104312\n",
      "Time: 3.69 sec\n",
      "--- Generation 3 ---\n"
     ]
    },
    {
     "output_type": "error",
     "ename": "KeyboardInterrupt",
     "evalue": "",
     "traceback": [
      "\u001b[1;31m---------------------------------------------------------------------------\u001b[0m",
      "\u001b[1;31mKeyboardInterrupt\u001b[0m                         Traceback (most recent call last)",
      "\u001b[1;32m<ipython-input-2-196921100e7e>\u001b[0m in \u001b[0;36m<module>\u001b[1;34m\u001b[0m\n\u001b[0;32m     48\u001b[0m         \u001b[1;32mfor\u001b[0m \u001b[0mentity\u001b[0m \u001b[1;32min\u001b[0m \u001b[0mpop_manager\u001b[0m\u001b[1;33m.\u001b[0m\u001b[0mpopulation\u001b[0m\u001b[1;33m:\u001b[0m\u001b[1;33m\u001b[0m\u001b[1;33m\u001b[0m\u001b[0m\n\u001b[0;32m     49\u001b[0m             \u001b[1;32mif\u001b[0m \u001b[1;32mnot\u001b[0m \u001b[0mentity\u001b[0m\u001b[1;33m.\u001b[0m\u001b[0msurvived\u001b[0m\u001b[1;33m:\u001b[0m\u001b[1;33m\u001b[0m\u001b[1;33m\u001b[0m\u001b[0m\n\u001b[1;32m---> 50\u001b[1;33m                 \u001b[0magent_env_loop\u001b[0m\u001b[1;33m(\u001b[0m\u001b[0mentity\u001b[0m\u001b[1;33m,\u001b[0m \u001b[0mgeneration\u001b[0m\u001b[1;33m)\u001b[0m\u001b[1;33m\u001b[0m\u001b[1;33m\u001b[0m\u001b[0m\n\u001b[0m\u001b[0;32m     51\u001b[0m \u001b[1;33m\u001b[0m\u001b[0m\n\u001b[0;32m     52\u001b[0m         \u001b[1;32mif\u001b[0m \u001b[0mgeneration\u001b[0m \u001b[1;33m%\u001b[0m \u001b[1;36m50\u001b[0m \u001b[1;33m==\u001b[0m \u001b[1;36m0\u001b[0m\u001b[1;33m:\u001b[0m\u001b[1;33m\u001b[0m\u001b[1;33m\u001b[0m\u001b[0m\n",
      "\u001b[1;32m<ipython-input-1-280b27947a8b>\u001b[0m in \u001b[0;36magent_env_loop\u001b[1;34m(entity, generation)\u001b[0m\n\u001b[0;32m     24\u001b[0m             \u001b[0mobservation_norm\u001b[0m \u001b[1;33m=\u001b[0m \u001b[0mobservation_env\u001b[0m\u001b[1;33m\u001b[0m\u001b[1;33m\u001b[0m\u001b[0m\n\u001b[0;32m     25\u001b[0m \u001b[1;33m\u001b[0m\u001b[0m\n\u001b[1;32m---> 26\u001b[1;33m         \u001b[0mentity\u001b[0m\u001b[1;33m.\u001b[0m\u001b[0maction_sequ\u001b[0m\u001b[1;33m.\u001b[0m\u001b[0mappend\u001b[0m\u001b[1;33m(\u001b[0m\u001b[0mentity\u001b[0m\u001b[1;33m.\u001b[0m\u001b[0mcontroller\u001b[0m\u001b[1;33m.\u001b[0m\u001b[0mfeed_forward\u001b[0m\u001b[1;33m(\u001b[0m\u001b[0mobservation_norm\u001b[0m\u001b[1;33m)\u001b[0m\u001b[1;33m)\u001b[0m \u001b[1;31m# a_t, s_t\u001b[0m\u001b[1;33m\u001b[0m\u001b[1;33m\u001b[0m\u001b[0m\n\u001b[0m\u001b[0;32m     27\u001b[0m         \u001b[0mobservation_env\u001b[0m\u001b[1;33m,\u001b[0m \u001b[0mreward\u001b[0m\u001b[1;33m,\u001b[0m \u001b[0mdone\u001b[0m\u001b[1;33m,\u001b[0m \u001b[0m_\u001b[0m \u001b[1;33m=\u001b[0m \u001b[0menv\u001b[0m\u001b[1;33m.\u001b[0m\u001b[0mstep\u001b[0m\u001b[1;33m(\u001b[0m\u001b[0mentity\u001b[0m\u001b[1;33m.\u001b[0m\u001b[0maction_sequ\u001b[0m\u001b[1;33m[\u001b[0m\u001b[1;33m-\u001b[0m\u001b[1;36m1\u001b[0m\u001b[1;33m]\u001b[0m\u001b[1;33m)\u001b[0m                     \u001b[1;31m# s_{t+1}, r_{t+1}\u001b[0m\u001b[1;33m\u001b[0m\u001b[1;33m\u001b[0m\u001b[0m\n\u001b[0;32m     28\u001b[0m \u001b[1;33m\u001b[0m\u001b[0m\n",
      "\u001b[1;32md:\\DEV\\Python\\EvAlg-gym\\src\\neuralNet.py\u001b[0m in \u001b[0;36mfeed_forward\u001b[1;34m(self, observation)\u001b[0m\n\u001b[0;32m     31\u001b[0m         \u001b[1;31m# TODO: layer specific activation functions\u001b[0m\u001b[1;33m\u001b[0m\u001b[1;33m\u001b[0m\u001b[1;33m\u001b[0m\u001b[0m\n\u001b[0;32m     32\u001b[0m         \u001b[1;32mfor\u001b[0m \u001b[0mi\u001b[0m \u001b[1;32min\u001b[0m \u001b[0mrange\u001b[0m\u001b[1;33m(\u001b[0m\u001b[0mlen\u001b[0m\u001b[1;33m(\u001b[0m\u001b[0mself\u001b[0m\u001b[1;33m.\u001b[0m\u001b[0mweights\u001b[0m\u001b[1;33m)\u001b[0m\u001b[1;33m-\u001b[0m\u001b[1;36m1\u001b[0m\u001b[1;33m)\u001b[0m\u001b[1;33m:\u001b[0m\u001b[1;33m\u001b[0m\u001b[1;33m\u001b[0m\u001b[0m\n\u001b[1;32m---> 33\u001b[1;33m             \u001b[0mlayer_in\u001b[0m \u001b[1;33m=\u001b[0m \u001b[0mnp\u001b[0m\u001b[1;33m.\u001b[0m\u001b[0mdot\u001b[0m\u001b[1;33m(\u001b[0m\u001b[0mlayer_out\u001b[0m\u001b[1;33m,\u001b[0m \u001b[0mself\u001b[0m\u001b[1;33m.\u001b[0m\u001b[0mweights\u001b[0m\u001b[1;33m[\u001b[0m\u001b[0mi\u001b[0m\u001b[1;33m]\u001b[0m\u001b[1;33m)\u001b[0m \u001b[1;33m+\u001b[0m \u001b[0mself\u001b[0m\u001b[1;33m.\u001b[0m\u001b[0mbias\u001b[0m\u001b[1;33m[\u001b[0m\u001b[0mi\u001b[0m\u001b[1;33m]\u001b[0m\u001b[1;33m\u001b[0m\u001b[1;33m\u001b[0m\u001b[0m\n\u001b[0m\u001b[0;32m     34\u001b[0m             \u001b[0mlayer_out\u001b[0m \u001b[1;33m=\u001b[0m \u001b[0mself\u001b[0m\u001b[1;33m.\u001b[0m\u001b[0mrelu\u001b[0m\u001b[1;33m(\u001b[0m\u001b[0mlayer_in\u001b[0m\u001b[1;33m)\u001b[0m\u001b[1;33m\u001b[0m\u001b[1;33m\u001b[0m\u001b[0m\n\u001b[0;32m     35\u001b[0m \u001b[1;33m\u001b[0m\u001b[0m\n",
      "\u001b[1;32m<__array_function__ internals>\u001b[0m in \u001b[0;36mdot\u001b[1;34m(*args, **kwargs)\u001b[0m\n",
      "\u001b[1;31mKeyboardInterrupt\u001b[0m: "
     ]
    }
   ],
   "source": [
    "import gym\n",
    "import time\n",
    "from src.entity import Entity\n",
    "from src.evolutionCtrl import Population_Manager\n",
    "from src.trainEval import TrainEval\n",
    "import logging\n",
    "from src.optional.welford import Welford\n",
    "#############\n",
    "import copy\n",
    "#############\n",
    "\n",
    "logging.basicConfig(level=logging.INFO)\n",
    "gym.logger.set_level(40)\n",
    "\n",
    "# 1) Environment\n",
    "env = gym.make(\"BipedalWalker-v3\")\n",
    "print(f\"Dim. action space: {env.action_space.shape}\")\n",
    "print(f\"Dim. observation space: {env.observation_space.shape}\")\n",
    "\n",
    "# 2) Training Params\n",
    "POP_SIZE = 100\n",
    "MAX_SEQUENCE_LEN = 400\n",
    "N_GENERATIONS = 2500\n",
    "MUTATION_RATE = .1\n",
    "PROB_NODE_COPY = .1\n",
    "WEIGHT_INIT_INTERVAL = [-1.0, 1.0]\n",
    "WELFORD = False\n",
    "print(f\"Welford-normalizer set to : {WELFORD}\")\n",
    "N_LAYER_NODES = [env.observation_space.shape[0],\n",
    "                 50,\n",
    "                 env.action_space.shape[0]]\n",
    "# 48, 48, 32,  |  70-80 fitness o. Welford  \n",
    "#  32,32, \n",
    "# 3) Init population\n",
    "init_population = [Entity(N_LAYER_NODES, WEIGHT_INIT_INTERVAL)\n",
    "                   for i in range(POP_SIZE)]\n",
    "\n",
    "pop_manager = Population_Manager(init_population, MUTATION_RATE,\n",
    "                                 PROB_NODE_COPY)\n",
    "\n",
    "train_evaluator = TrainEval()\n",
    "\n",
    "# 4) Start training\n",
    "if __name__ == '__main__':\n",
    "    for generation in range(N_GENERATIONS):\n",
    "        t_start = time.time()\n",
    "\n",
    "        print(f\"--- Generation {generation} ---\")\n",
    "        for entity in pop_manager.population:\n",
    "            if not entity.survived:\n",
    "                agent_env_loop(entity, generation)\n",
    "\n",
    "        if generation % 50 == 0:\n",
    "            train_evaluator.eval_training(pop_manager.population)\n",
    "\n",
    "        pop_manager.breed_new_population()\n",
    "\n",
    "        print(f\"Time: {(time.time() - t_start):.2f} sec\")\n",
    "\n",
    "# TODO: type checking, properties"
   ]
  },
  {
   "cell_type": "code",
   "execution_count": 5,
   "metadata": {},
   "outputs": [
    {
     "output_type": "execute_result",
     "data": {
      "text/plain": [
       "[<Welford: 0.368967017435952 +- 0.4555970184196942>,\n",
       " <Welford: -0.0003078357698408735 +- 0.0981608844642273>,\n",
       " <Welford: 0.2340959313236481 +- 0.15108155383854047>,\n",
       " <Welford: -0.006703650394991778 +- 0.1280230874680535>,\n",
       " <Welford: -0.5388677399748816 +- 0.3875858092767193>,\n",
       " <Welford: -0.010121885420276797 +- 0.6406676670637435>,\n",
       " <Welford: -0.23917424474650967 +- 0.48059700515113335>,\n",
       " <Welford: -0.06424405871122274 +- 0.6603872356157462>,\n",
       " <Welford: 0.3147486714870639 +- 0.46442244622067475>,\n",
       " <Welford: 0.9754104420055328 +- 0.3174431473473531>,\n",
       " <Welford: 0.0427717388096869 +- 0.5434744486678217>,\n",
       " <Welford: 0.3063963810809217 +- 0.6183670834504585>,\n",
       " <Welford: 0.012677165376450182 +- 0.7941877757263337>,\n",
       " <Welford: 0.23018846008653446 +- 0.420959474008511>,\n",
       " <Welford: 0.3359057095748734 +- 0.06337353439537592>,\n",
       " <Welford: 0.3396148596401485 +- 0.0640685685844524>,\n",
       " <Welford: 0.3513714496489709 +- 0.06626696396670631>,\n",
       " <Welford: 0.3726181014234233 +- 0.07024384760886682>,\n",
       " <Welford: 0.4063052949716686 +- 0.07654972457486185>,\n",
       " <Welford: 0.45802740715657236 +- 0.08624295250116151>,\n",
       " <Welford: 0.5386558643666395 +- 0.10143374652993759>,\n",
       " <Welford: 0.6717602023113578 +- 0.12659604965986498>,\n",
       " <Welford: 0.8749684127684269 +- 0.1148833797292055>,\n",
       " <Welford: 0.9995904479864992 +- 0.007698751663911629>]"
      ]
     },
     "metadata": {},
     "execution_count": 5
    }
   ],
   "source": [
    "pop_manager.population.sort(key=lambda x: x.fitness, reverse=True) \n",
    "agent = pop_manager.population[1]\n",
    "agent.obs_norm#[0].std "
   ]
  },
  {
   "cell_type": "code",
   "execution_count": 20,
   "metadata": {},
   "outputs": [
    {
     "output_type": "execute_result",
     "data": {
      "text/plain": [
       "-1000"
      ]
     },
     "metadata": {},
     "execution_count": 20
    }
   ],
   "source": [
    "pop_manager.population.sort(key=lambda x: x.fitness, reverse=True) \n",
    "best_agent = pop_manager.population[-5]\n",
    "best_agent.fitness"
   ]
  },
  {
   "cell_type": "code",
   "execution_count": 21,
   "metadata": {},
   "outputs": [
    {
     "output_type": "execute_result",
     "data": {
      "text/plain": [
       "-25.005553468487665"
      ]
     },
     "metadata": {},
     "execution_count": 21
    }
   ],
   "source": [
    "env.seed(10) \n",
    "observation = env.reset()\n",
    "reward_test = .0\n",
    "obs_list = []\n",
    "action_list = []\n",
    "for _ in range(MAX_SEQUENCE_LEN):\n",
    "    env.render()\n",
    "    action = best_agent.controller.feed_forward(observation)            # a_t, s_t            \n",
    "    observation, reward, done, _ = env.step(action)                     # s_{t+1}, r_{t+1}, a_t \n",
    "    obs_list.append(observation)\n",
    "    action_list.append(action)\n",
    "    reward_test += reward\n",
    "env.close()\n",
    "reward_test"
   ]
  },
  {
   "cell_type": "code",
   "execution_count": 17,
   "metadata": {},
   "outputs": [],
   "source": [
    "dim_1 = [x[0] for x in obs_list]\n",
    "adim = [x[3] for x in action_list]\n",
    "#adim"
   ]
  },
  {
   "cell_type": "code",
   "execution_count": 35,
   "metadata": {},
   "outputs": [],
   "source": [
    "class testclass(object):\n",
    "    def __init__(self):\n",
    "        self.weights = [[1,2,3], [4,5,6]]\n",
    "\n",
    "x = testclass()"
   ]
  },
  {
   "cell_type": "code",
   "execution_count": 36,
   "metadata": {},
   "outputs": [
    {
     "output_type": "execute_result",
     "data": {
      "text/plain": [
       "[1, 2, 3]"
      ]
     },
     "metadata": {},
     "execution_count": 36
    }
   ],
   "source": [
    "y = x.weights[0]\n",
    "y"
   ]
  },
  {
   "cell_type": "code",
   "execution_count": 37,
   "metadata": {},
   "outputs": [],
   "source": [
    "y[0] = 7"
   ]
  },
  {
   "cell_type": "code",
   "execution_count": 38,
   "metadata": {},
   "outputs": [
    {
     "output_type": "execute_result",
     "data": {
      "text/plain": [
       "[7, 2, 3]"
      ]
     },
     "metadata": {},
     "execution_count": 38
    }
   ],
   "source": [
    "x.weights[0]"
   ]
  },
  {
   "cell_type": "code",
   "execution_count": 39,
   "metadata": {},
   "outputs": [
    {
     "output_type": "execute_result",
     "data": {
      "text/plain": [
       "[7, 2, 3]"
      ]
     },
     "metadata": {},
     "execution_count": 39
    }
   ],
   "source": [
    "y"
   ]
  },
  {
   "cell_type": "code",
   "execution_count": 34,
   "metadata": {},
   "outputs": [
    {
     "output_type": "execute_result",
     "data": {
      "text/plain": [
       "[4, 2, 3]"
      ]
     },
     "metadata": {},
     "execution_count": 34
    }
   ],
   "source": [
    "a = [1,2,3]\n",
    "b = a\n",
    "b[0] = 4\n",
    "a"
   ]
  },
  {
   "cell_type": "code",
   "execution_count": 5,
   "metadata": {},
   "outputs": [],
   "source": [
    "import numpy as np\n",
    "weights = np.random.uniform(-1.0, 1.0, (4, 3))\n",
    "weights_2 = np.random.uniform(-1.0, 1.0, (4, 3))"
   ]
  },
  {
   "cell_type": "code",
   "execution_count": 21,
   "metadata": {},
   "outputs": [
    {
     "output_type": "execute_result",
     "data": {
      "text/plain": [
       "array([[-0.13601143,  0.97048332, -0.8253675 ],\n",
       "       [ 0.72817677,  0.75721678,  0.75244338],\n",
       "       [-0.26970826, -0.59656433,  0.79409955],\n",
       "       [-0.86833561, -0.64606015, -0.6582288 ]])"
      ]
     },
     "metadata": {},
     "execution_count": 21
    }
   ],
   "source": [
    "from difflib import SequenceMatcher as SequMatch\n",
    "\n",
    "rat = 0.0\n",
    "for i in range(len(weights)):\n",
    "    sm = SequMatch(None, weights[i].round(1), weights_2[i].round(1))\n",
    "    rat += sm.ratio()\n",
    "weights\n",
    "weights_2\n",
    "#rat"
   ]
  },
  {
   "cell_type": "code",
   "execution_count": 10,
   "metadata": {},
   "outputs": [
    {
     "output_type": "execute_result",
     "data": {
      "text/plain": [
       "array([0.96191887, 0.5971491 , 0.52781256])"
      ]
     },
     "metadata": {},
     "execution_count": 10
    }
   ],
   "source": [
    "np.random.uniform(low = -1.0, high = 1.0, size = 3)"
   ]
  },
  {
   "cell_type": "code",
   "execution_count": 1,
   "metadata": {},
   "outputs": [
    {
     "output_type": "execute_result",
     "data": {
      "text/plain": [
       "140703733913392"
      ]
     },
     "metadata": {},
     "execution_count": 1
    }
   ],
   "source": [
    "id(2)"
   ]
  },
  {
   "cell_type": "code",
   "execution_count": 3,
   "metadata": {},
   "outputs": [
    {
     "output_type": "execute_result",
     "data": {
      "text/plain": [
       "1553873537200"
      ]
     },
     "metadata": {},
     "execution_count": 3
    }
   ],
   "source": [
    "id(2.0)"
   ]
  },
  {
   "cell_type": "code",
   "execution_count": null,
   "metadata": {},
   "outputs": [],
   "source": []
  }
 ]
}