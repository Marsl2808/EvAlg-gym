{
 "metadata": {
  "language_info": {
   "codemirror_mode": {
    "name": "ipython",
    "version": 3
   },
   "file_extension": ".py",
   "mimetype": "text/x-python",
   "name": "python",
   "nbconvert_exporter": "python",
   "pygments_lexer": "ipython3",
   "version": "3.7.10"
  },
  "orig_nbformat": 2,
  "kernelspec": {
   "name": "python3710jvsc74a57bd0df4b48496479b6dbac9f82cbbc0bc05dc03b6aa29290929ce28ee161e7111e9c",
   "display_name": "Python 3.7.10 64-bit ('gym': conda)"
  },
  "metadata": {
   "interpreter": {
    "hash": "df4b48496479b6dbac9f82cbbc0bc05dc03b6aa29290929ce28ee161e7111e9c"
   }
  }
 },
 "nbformat": 4,
 "nbformat_minor": 2,
 "cells": [
  {
   "cell_type": "code",
   "execution_count": 1,
   "metadata": {},
   "outputs": [
    {
     "output_type": "stream",
     "name": "stdout",
     "text": [
      "(4,)\n",
      "(24,)\n",
      "C:\\Users\\Mars\\Anaconda3\\envs\\gym\\lib\\site-packages\\gym\\logger.py:30: UserWarning: \u001b[33mWARN: Box bound precision lowered by casting to float32\u001b[0m\n",
      "  warnings.warn(colorize('%s: %s'%('WARN', msg % args), 'yellow'))\n"
     ]
    }
   ],
   "source": [
    "import gym\n",
    "import time\n",
    "from src.Entity import Entity\n",
    "from src.EvolutionCtrl import Population_Manager\n",
    "\n",
    "# 1) Environment\n",
    "env = gym.make(\"BipedalWalker-v3\") \n",
    "print(f\"Dim. action space: {env.action_space.shape}\")\n",
    "print(f\"Dim. observation space: {env.observation_space.shape}\")\n",
    "\n",
    "# 2) Training Params\n",
    "POP_SIZE = 100\n",
    "MAX_SEQUENCE_LEN = 400\n",
    "N_GENERATIONS = 500    \n",
    "MUTATION_RATE = .15\n",
    "PROB_NODE_COPY = .05\n",
    "WEIGHT_INIT_INTERVAL = [-1, 1]\n",
    "\n",
    "n_layer_nodes = [env.observation_space.shape[0], 48, 48, 32, env.action_space.shape[0]]\n",
    "\n",
    "init_population = [Entity(n_layer_nodes, WEIGHT_INIT_INTERVAL) for i in range(POP_SIZE)]  \n",
    "\n",
    "pop_manager = Population_Manager(init_population, MUTATION_RATE, PROB_NODE_COPY)"
   ]
  },
  {
   "cell_type": "code",
   "execution_count": 2,
   "metadata": {
    "tags": []
   },
   "outputs": [
    {
     "output_type": "stream",
     "name": "stdout",
     "text": [
      "59 survived walker,max fitness: -28.823528750853242\n",
      "Generation 0: 13.688995361328125\n",
      "57 survived walker,max fitness: -28.823528750853242\n",
      "Generation 1: 4.836997032165527\n",
      "63 survived walker,max fitness: -28.823528750853242\n",
      "Generation 2: 4.492002964019775\n",
      "65 survived walker,max fitness: -28.823528750853242\n",
      "Generation 3: 4.309006214141846\n",
      "60 survived walker,max fitness: -28.823528750853242\n",
      "Generation 4: 5.443997144699097\n",
      "66 survived walker,max fitness: -28.823528750853242\n",
      "Generation 5: 4.338021278381348\n",
      "62 survived walker,max fitness: -28.823528750853242\n",
      "Generation 6: 4.10297417640686\n",
      "63 survived walker,max fitness: -28.823528750853242\n",
      "Generation 7: 5.081025838851929\n",
      "63 survived walker,max fitness: -28.823528750853242\n",
      "Generation 8: 4.929000377655029\n",
      "60 survived walker,max fitness: -4.996687736164907\n",
      "Generation 9: 4.595972061157227\n",
      "61 survived walker,max fitness: -4.996687736164907\n",
      "Generation 10: 4.7610273361206055\n",
      "64 survived walker,max fitness: -4.996687736164907\n",
      "Generation 11: 5.129972696304321\n",
      "68 survived walker,max fitness: -4.996687736164907\n",
      "Generation 12: 4.238003492355347\n",
      "61 survived walker,max fitness: -4.996687736164907\n",
      "Generation 13: 4.996996641159058\n",
      "57 survived walker,max fitness: -4.996687736164907\n",
      "Generation 14: 4.946000099182129\n",
      "70 survived walker,max fitness: -4.996687736164907\n",
      "Generation 15: 4.893024444580078\n",
      "63 survived walker,max fitness: -4.996687736164907\n",
      "Generation 16: 3.206975221633911\n",
      "57 survived walker,max fitness: -4.996687736164907\n",
      "Generation 17: 4.157024145126343\n",
      "63 survived walker,max fitness: -4.996687736164907\n",
      "Generation 18: 5.177004814147949\n",
      "57 survived walker,max fitness: -4.996687736164907\n",
      "Generation 19: 4.4609949588775635\n",
      "52 survived walker,max fitness: -4.996687736164907\n",
      "Generation 20: 4.5539727210998535\n",
      "59 survived walker,max fitness: -4.996687736164907\n",
      "Generation 21: 5.298032999038696\n",
      "60 survived walker,max fitness: -4.996687736164907\n",
      "Generation 22: 3.2509961128234863\n",
      "54 survived walker,max fitness: -4.996687736164907\n",
      "Generation 23: 4.477977752685547\n",
      "56 survived walker,max fitness: -4.996687736164907\n",
      "Generation 24: 5.431994676589966\n",
      "58 survived walker,max fitness: -4.996687736164907\n",
      "Generation 25: 4.806002378463745\n",
      "61 survived walker,max fitness: -4.996687736164907\n",
      "Generation 26: 5.043004512786865\n",
      "60 survived walker,max fitness: -4.996687736164907\n",
      "Generation 27: 4.78399658203125\n",
      "60 survived walker,max fitness: -4.996687736164907\n",
      "Generation 28: 3.925020456314087\n",
      "63 survived walker,max fitness: -4.996687736164907\n",
      "Generation 29: 6.807005405426025\n",
      "64 survived walker,max fitness: -4.996687736164907\n",
      "Generation 30: 4.942973613739014\n",
      "56 survived walker,max fitness: -4.996687736164907\n",
      "Generation 31: 4.891993761062622\n",
      "59 survived walker,max fitness: -4.996687736164907\n",
      "Generation 32: 5.648004055023193\n",
      "66 survived walker,max fitness: -4.996687736164907\n",
      "Generation 33: 4.751998424530029\n",
      "65 survived walker,max fitness: -4.996687736164907\n",
      "Generation 34: 4.896000623703003\n",
      "60 survived walker,max fitness: -3.4259673846231937\n",
      "Generation 35: 4.428999423980713\n",
      "61 survived walker,max fitness: -3.4259673846231937\n",
      "Generation 36: 3.66599702835083\n",
      "54 survived walker,max fitness: -3.4259673846231937\n",
      "Generation 37: 4.068029880523682\n",
      "62 survived walker,max fitness: -3.4259673846231937\n",
      "Generation 38: 5.550970792770386\n",
      "61 survived walker,max fitness: -3.4259673846231937\n",
      "Generation 39: 4.154999732971191\n",
      "54 survived walker,max fitness: -3.4259673846231937\n",
      "Generation 40: 5.2290027141571045\n",
      "68 survived walker,max fitness: -3.4259673846231937\n",
      "Generation 41: 5.059034585952759\n",
      "61 survived walker,max fitness: -3.4259673846231937\n",
      "Generation 42: 4.97796893119812\n",
      "56 survived walker,max fitness: -3.4259673846231937\n",
      "Generation 43: 3.442997455596924\n",
      "58 survived walker,max fitness: -3.4259673846231937\n",
      "Generation 44: 7.289000988006592\n",
      "64 survived walker,max fitness: -3.4259673846231937\n",
      "Generation 45: 5.914997100830078\n",
      "54 survived walker,max fitness: -3.4259673846231937\n",
      "Generation 46: 6.766341686248779\n",
      "51 survived walker,max fitness: -3.4259673846231937\n",
      "Generation 47: 4.983999967575073\n",
      "65 survived walker,max fitness: -3.4259673846231937\n",
      "Generation 48: 5.123029470443726\n",
      "65 survived walker,max fitness: -3.4259673846231937\n",
      "Generation 49: 3.5140442848205566\n",
      "57 survived walker,max fitness: -3.4259673846231937\n",
      "Generation 50: 3.5620005130767822\n",
      "61 survived walker,max fitness: -3.4259673846231937\n",
      "Generation 51: 4.3650054931640625\n",
      "72 survived walker,max fitness: -3.4259673846231937\n",
      "Generation 52: 4.746029376983643\n",
      "57 survived walker,max fitness: -3.4259673846231937\n",
      "Generation 53: 5.581998348236084\n",
      "60 survived walker,max fitness: -3.4259673846231937\n",
      "Generation 54: 4.3339715003967285\n",
      "61 survived walker,max fitness: -3.4259673846231937\n",
      "Generation 55: 4.120998859405518\n",
      "63 survived walker,max fitness: -3.4259673846231937\n",
      "Generation 56: 4.3740293979644775\n",
      "57 survived walker,max fitness: -3.4259673846231937\n",
      "Generation 57: 4.899971008300781\n",
      "59 survived walker,max fitness: -3.4259673846231937\n",
      "Generation 58: 5.71700382232666\n",
      "59 survived walker,max fitness: -3.4259673846231937\n",
      "Generation 59: 5.093125104904175\n",
      "67 survived walker,max fitness: -3.4259673846231937\n",
      "Generation 60: 4.727027177810669\n",
      "65 survived walker,max fitness: -3.4259673846231937\n",
      "Generation 61: 4.4289772510528564\n",
      "67 survived walker,max fitness: -3.4259673846231937\n",
      "Generation 62: 4.997028350830078\n",
      "66 survived walker,max fitness: -3.4259673846231937\n",
      "Generation 63: 3.893969774246216\n",
      "57 survived walker,max fitness: -3.4259673846231937\n",
      "Generation 64: 4.214029788970947\n",
      "59 survived walker,max fitness: -3.4259673846231937\n",
      "Generation 65: 5.063000202178955\n",
      "62 survived walker,max fitness: -3.4259673846231937\n",
      "Generation 66: 3.623967170715332\n",
      "59 survived walker,max fitness: -3.4259673846231937\n",
      "Generation 67: 4.601032733917236\n",
      "62 survived walker,max fitness: -3.4259673846231937\n",
      "Generation 68: 3.7039999961853027\n",
      "59 survived walker,max fitness: -3.4259673846231937\n",
      "Generation 69: 4.0379958152771\n",
      "55 survived walker,max fitness: -3.4259673846231937\n",
      "Generation 70: 3.997007369995117\n",
      "59 survived walker,max fitness: -3.4259673846231937\n",
      "Generation 71: 4.5619957447052\n",
      "56 survived walker,max fitness: -3.4259673846231937\n",
      "Generation 72: 4.3079729080200195\n",
      "54 survived walker,max fitness: -3.4259673846231937\n",
      "Generation 73: 4.593024730682373\n",
      "64 survived walker,max fitness: -3.4259673846231937\n",
      "Generation 74: 4.170971393585205\n",
      "61 survived walker,max fitness: -3.4259673846231937\n",
      "Generation 75: 3.9790008068084717\n",
      "57 survived walker,max fitness: -3.4259673846231937\n",
      "Generation 76: 4.141031265258789\n",
      "51 survived walker,max fitness: -3.4259673846231937\n",
      "Generation 77: 6.496973991394043\n",
      "61 survived walker,max fitness: -3.4259673846231937\n",
      "Generation 78: 6.717994928359985\n",
      "58 survived walker,max fitness: -3.4259673846231937\n",
      "Generation 79: 4.388246774673462\n",
      "67 survived walker,max fitness: -3.4259673846231937\n",
      "Generation 80: 5.4689695835113525\n",
      "58 survived walker,max fitness: -3.4259673846231937\n",
      "Generation 81: 5.35602593421936\n",
      "61 survived walker,max fitness: -3.4259673846231937\n",
      "Generation 82: 4.6860032081604\n",
      "55 survived walker,max fitness: -3.4259673846231937\n",
      "Generation 83: 5.9350035190582275\n",
      "67 survived walker,max fitness: -3.4259673846231937\n",
      "Generation 84: 6.700843334197998\n",
      "66 survived walker,max fitness: -3.4259673846231937\n",
      "Generation 85: 5.585028648376465\n",
      "52 survived walker,max fitness: -3.4259673846231937\n",
      "Generation 86: 4.856968879699707\n",
      "53 survived walker,max fitness: -3.4259673846231937\n",
      "Generation 87: 6.491808176040649\n",
      "58 survived walker,max fitness: -3.4259673846231937\n",
      "Generation 88: 6.168026685714722\n",
      "63 survived walker,max fitness: -3.4259673846231937\n",
      "Generation 89: 6.537965536117554\n",
      "50 survived walker,max fitness: -3.4259673846231937\n",
      "Generation 90: 4.449999570846558\n",
      "58 survived walker,max fitness: -3.4259673846231937\n",
      "Generation 91: 5.39300012588501\n",
      "62 survived walker,max fitness: -3.4259673846231937\n",
      "Generation 92: 5.5150322914123535\n",
      "66 survived walker,max fitness: -3.4259673846231937\n",
      "Generation 93: 6.168974876403809\n",
      "56 survived walker,max fitness: -3.4259673846231937\n",
      "Generation 94: 4.958027362823486\n",
      "64 survived walker,max fitness: -3.4259673846231937\n",
      "Generation 95: 5.413001298904419\n",
      "61 survived walker,max fitness: -3.4259673846231937\n",
      "Generation 96: 5.908000230789185\n",
      "61 survived walker,max fitness: -3.4259673846231937\n",
      "Generation 97: 4.336970806121826\n",
      "53 survived walker,max fitness: -3.4259673846231937\n",
      "Generation 98: 4.311996698379517\n",
      "53 survived walker,max fitness: -3.4259673846231937\n",
      "Generation 99: 4.5990025997161865\n",
      "65 survived walker,max fitness: -3.4259673846231937\n",
      "Generation 100: 4.741999387741089\n",
      "65 survived walker,max fitness: -3.4259673846231937\n",
      "Generation 101: 4.5149970054626465\n",
      "59 survived walker,max fitness: -3.4259673846231937\n",
      "Generation 102: 4.042640686035156\n",
      "49 survived walker,max fitness: -3.4259673846231937\n",
      "Generation 103: 4.879002809524536\n",
      "57 survived walker,max fitness: -3.4259673846231937\n",
      "Generation 104: 5.980098724365234\n",
      "74 survived walker,max fitness: -3.4259673846231937\n",
      "Generation 105: 5.2959678173065186\n",
      "60 survived walker,max fitness: -3.4259673846231937\n",
      "Generation 106: 3.307330846786499\n",
      "60 survived walker,max fitness: -3.4259673846231937\n",
      "Generation 107: 4.230032205581665\n",
      "62 survived walker,max fitness: -3.4259673846231937\n",
      "Generation 108: 5.6917572021484375\n",
      "57 survived walker,max fitness: -3.4259673846231937\n",
      "Generation 109: 5.01338267326355\n",
      "63 survived walker,max fitness: -3.4259673846231937\n",
      "Generation 110: 6.193975210189819\n",
      "70 survived walker,max fitness: -3.4259673846231937\n",
      "Generation 111: 5.305997610092163\n",
      "57 survived walker,max fitness: -3.4259673846231937\n",
      "Generation 112: 4.682999134063721\n",
      "59 survived walker,max fitness: -3.4259673846231937\n",
      "Generation 113: 5.947999477386475\n",
      "65 survived walker,max fitness: -3.4259673846231937\n",
      "Generation 114: 5.565003395080566\n",
      "58 survived walker,max fitness: -3.4259673846231937\n",
      "Generation 115: 4.760000467300415\n",
      "60 survived walker,max fitness: -3.4259673846231937\n",
      "Generation 116: 5.777996063232422\n",
      "53 survived walker,max fitness: -3.4259673846231937\n",
      "Generation 117: 6.253683805465698\n",
      "58 survived walker,max fitness: -3.4259673846231937\n",
      "Generation 118: 6.665975570678711\n",
      "60 survived walker,max fitness: -3.4259673846231937\n",
      "Generation 119: 5.954025506973267\n",
      "67 survived walker,max fitness: -3.4259673846231937\n",
      "Generation 120: 5.250973463058472\n",
      "68 survived walker,max fitness: -3.4259673846231937\n",
      "Generation 121: 4.7392778396606445\n",
      "62 survived walker,max fitness: -3.4259673846231937\n",
      "Generation 122: 4.22999906539917\n",
      "56 survived walker,max fitness: -3.4259673846231937\n",
      "Generation 123: 5.135005950927734\n",
      "58 survived walker,max fitness: -3.4259673846231937\n",
      "Generation 124: 5.416000127792358\n",
      "61 survived walker,max fitness: -3.4259673846231937\n",
      "Generation 125: 4.9449944496154785\n",
      "67 survived walker,max fitness: -3.4259673846231937\n",
      "Generation 126: 5.261000156402588\n",
      "65 survived walker,max fitness: -3.4259673846231937\n",
      "Generation 127: 5.0260009765625\n",
      "60 survived walker,max fitness: -3.4259673846231937\n",
      "Generation 128: 4.536010026931763\n",
      "64 survived walker,max fitness: -3.4259673846231937\n",
      "Generation 129: 5.999077320098877\n",
      "55 survived walker,max fitness: -3.4259673846231937\n",
      "Generation 130: 4.644002914428711\n",
      "66 survived walker,max fitness: -3.4259673846231937\n",
      "Generation 131: 7.358973741531372\n",
      "61 survived walker,max fitness: -3.4259673846231937\n",
      "Generation 132: 5.527027606964111\n",
      "57 survived walker,max fitness: -3.4259673846231937\n",
      "Generation 133: 4.5169713497161865\n",
      "54 survived walker,max fitness: -3.4259673846231937\n",
      "Generation 134: 5.5380308628082275\n",
      "63 survived walker,max fitness: -3.4259673846231937\n",
      "Generation 135: 5.62899923324585\n",
      "58 survived walker,max fitness: -3.4259673846231937\n",
      "Generation 136: 4.852000951766968\n",
      "62 survived walker,max fitness: -0.19369265435595007\n",
      "Generation 137: 6.913968324661255\n",
      "72 survived walker,max fitness: -0.19369265435595007\n",
      "Generation 138: 6.637023210525513\n",
      "57 survived walker,max fitness: -0.19369265435595007\n",
      "Generation 139: 5.087005138397217\n",
      "59 survived walker,max fitness: -0.19369265435595007\n",
      "Generation 140: 6.5129711627960205\n",
      "58 survived walker,max fitness: -0.19369265435595007\n",
      "Generation 141: 6.566030740737915\n",
      "55 survived walker,max fitness: -0.19369265435595007\n",
      "Generation 142: 5.932998180389404\n",
      "61 survived walker,max fitness: -0.19369265435595007\n",
      "Generation 143: 6.162970781326294\n",
      "57 survived walker,max fitness: -0.19369265435595007\n",
      "Generation 144: 5.920026779174805\n",
      "65 survived walker,max fitness: -0.19369265435595007\n",
      "Generation 145: 6.304975271224976\n",
      "64 survived walker,max fitness: -0.19369265435595007\n",
      "Generation 146: 5.375994920730591\n",
      "57 survived walker,max fitness: -0.19369265435595007\n",
      "Generation 147: 5.148031949996948\n"
     ]
    },
    {
     "output_type": "error",
     "ename": "KeyboardInterrupt",
     "evalue": "",
     "traceback": [
      "\u001b[1;31m---------------------------------------------------------------------------\u001b[0m",
      "\u001b[1;31mKeyboardInterrupt\u001b[0m                         Traceback (most recent call last)",
      "\u001b[1;32m<ipython-input-2-b9a65f9a5051>\u001b[0m in \u001b[0;36m<module>\u001b[1;34m\u001b[0m\n\u001b[0;32m     16\u001b[0m     \u001b[1;32mfor\u001b[0m \u001b[0mentity\u001b[0m \u001b[1;32min\u001b[0m \u001b[0mpop_manager\u001b[0m\u001b[1;33m.\u001b[0m\u001b[0mpopulation\u001b[0m\u001b[1;33m:\u001b[0m\u001b[1;33m\u001b[0m\u001b[1;33m\u001b[0m\u001b[0m\n\u001b[0;32m     17\u001b[0m         \u001b[1;32mif\u001b[0m \u001b[1;32mnot\u001b[0m \u001b[0mentity\u001b[0m\u001b[1;33m.\u001b[0m\u001b[0msurvived\u001b[0m\u001b[1;33m:\u001b[0m\u001b[1;33m\u001b[0m\u001b[1;33m\u001b[0m\u001b[0m\n\u001b[1;32m---> 18\u001b[1;33m             \u001b[0magent_env_loop\u001b[0m\u001b[1;33m(\u001b[0m\u001b[0mentity\u001b[0m\u001b[1;33m)\u001b[0m\u001b[1;33m\u001b[0m\u001b[1;33m\u001b[0m\u001b[0m\n\u001b[0m\u001b[0;32m     19\u001b[0m \u001b[1;33m\u001b[0m\u001b[0m\n\u001b[0;32m     20\u001b[0m     \u001b[0mpop_manager\u001b[0m\u001b[1;33m.\u001b[0m\u001b[0mbreed_new_population\u001b[0m\u001b[1;33m(\u001b[0m\u001b[1;33m)\u001b[0m\u001b[1;33m\u001b[0m\u001b[1;33m\u001b[0m\u001b[0m\n",
      "\u001b[1;32m<ipython-input-2-b9a65f9a5051>\u001b[0m in \u001b[0;36magent_env_loop\u001b[1;34m(entity)\u001b[0m\n\u001b[0;32m      5\u001b[0m         \u001b[0mobservation\u001b[0m \u001b[1;33m=\u001b[0m \u001b[0menv\u001b[0m\u001b[1;33m.\u001b[0m\u001b[0mreset\u001b[0m\u001b[1;33m(\u001b[0m\u001b[1;33m)\u001b[0m                                            \u001b[1;31m# s_0\u001b[0m\u001b[1;33m\u001b[0m\u001b[1;33m\u001b[0m\u001b[0m\n\u001b[0;32m      6\u001b[0m         \u001b[1;32mfor\u001b[0m \u001b[0mi\u001b[0m \u001b[1;32min\u001b[0m \u001b[0mrange\u001b[0m\u001b[1;33m(\u001b[0m\u001b[0mMAX_SEQUENCE_LEN\u001b[0m\u001b[1;33m)\u001b[0m\u001b[1;33m:\u001b[0m\u001b[1;33m\u001b[0m\u001b[1;33m\u001b[0m\u001b[0m\n\u001b[1;32m----> 7\u001b[1;33m             \u001b[0maction\u001b[0m \u001b[1;33m=\u001b[0m \u001b[0mentity\u001b[0m\u001b[1;33m.\u001b[0m\u001b[0mcontroller\u001b[0m\u001b[1;33m.\u001b[0m\u001b[0mfeed_forward\u001b[0m\u001b[1;33m(\u001b[0m\u001b[0mobservation\u001b[0m\u001b[1;33m)\u001b[0m             \u001b[1;31m# a_t, s_t\u001b[0m\u001b[1;33m\u001b[0m\u001b[1;33m\u001b[0m\u001b[0m\n\u001b[0m\u001b[0;32m      8\u001b[0m             \u001b[0mobservation\u001b[0m\u001b[1;33m,\u001b[0m \u001b[0mreward\u001b[0m\u001b[1;33m,\u001b[0m \u001b[0mdone\u001b[0m\u001b[1;33m,\u001b[0m \u001b[0m_\u001b[0m \u001b[1;33m=\u001b[0m \u001b[0menv\u001b[0m\u001b[1;33m.\u001b[0m\u001b[0mstep\u001b[0m\u001b[1;33m(\u001b[0m\u001b[0maction\u001b[0m\u001b[1;33m)\u001b[0m                  \u001b[1;31m# s_{t+1}, r_{t+1}, a_t\u001b[0m\u001b[1;33m\u001b[0m\u001b[1;33m\u001b[0m\u001b[0m\n\u001b[0;32m      9\u001b[0m             \u001b[0mentity\u001b[0m\u001b[1;33m.\u001b[0m\u001b[0mfitness\u001b[0m \u001b[1;33m+=\u001b[0m \u001b[0mreward\u001b[0m\u001b[1;33m\u001b[0m\u001b[1;33m\u001b[0m\u001b[0m\n",
      "\u001b[1;32mc:\\Users\\Mars\\Desktop\\Projects\\EvAlg-gym\\src\\NN.py\u001b[0m in \u001b[0;36mfeed_forward\u001b[1;34m(self, observation)\u001b[0m\n\u001b[0;32m     34\u001b[0m             \u001b[0mlayer_out\u001b[0m \u001b[1;33m=\u001b[0m \u001b[0mself\u001b[0m\u001b[1;33m.\u001b[0m\u001b[0mrelu\u001b[0m\u001b[1;33m(\u001b[0m\u001b[0mlayer_in\u001b[0m\u001b[1;33m)\u001b[0m\u001b[1;33m\u001b[0m\u001b[1;33m\u001b[0m\u001b[0m\n\u001b[0;32m     35\u001b[0m \u001b[1;33m\u001b[0m\u001b[0m\n\u001b[1;32m---> 36\u001b[1;33m         \u001b[0mfinal_in\u001b[0m \u001b[1;33m=\u001b[0m \u001b[0mnp\u001b[0m\u001b[1;33m.\u001b[0m\u001b[0mdot\u001b[0m\u001b[1;33m(\u001b[0m\u001b[0mlayer_out\u001b[0m\u001b[1;33m,\u001b[0m \u001b[0mself\u001b[0m\u001b[1;33m.\u001b[0m\u001b[0mweights\u001b[0m\u001b[1;33m[\u001b[0m\u001b[0mi\u001b[0m\u001b[1;33m+\u001b[0m\u001b[1;36m1\u001b[0m\u001b[1;33m]\u001b[0m\u001b[1;33m)\u001b[0m \u001b[1;33m+\u001b[0m \u001b[0mself\u001b[0m\u001b[1;33m.\u001b[0m\u001b[0mbias\u001b[0m\u001b[1;33m[\u001b[0m\u001b[0mi\u001b[0m\u001b[1;33m+\u001b[0m\u001b[1;36m1\u001b[0m\u001b[1;33m]\u001b[0m\u001b[1;33m\u001b[0m\u001b[1;33m\u001b[0m\u001b[0m\n\u001b[0m\u001b[0;32m     37\u001b[0m         \u001b[0mfinal_out\u001b[0m \u001b[1;33m=\u001b[0m \u001b[0mself\u001b[0m\u001b[1;33m.\u001b[0m\u001b[0mtanh\u001b[0m\u001b[1;33m(\u001b[0m\u001b[0mfinal_in\u001b[0m\u001b[1;33m)\u001b[0m\u001b[1;33m\u001b[0m\u001b[1;33m\u001b[0m\u001b[0m\n\u001b[0;32m     38\u001b[0m \u001b[1;33m\u001b[0m\u001b[0m\n",
      "\u001b[1;32m<__array_function__ internals>\u001b[0m in \u001b[0;36mdot\u001b[1;34m(*args, **kwargs)\u001b[0m\n",
      "\u001b[1;31mKeyboardInterrupt\u001b[0m: "
     ]
    }
   ],
   "source": [
    "def agent_env_loop(entity):\n",
    "        entity.survived = True\n",
    "        entity.fitness = 0\n",
    "        env.seed(10) \n",
    "        observation = env.reset()                                            # s_0\n",
    "        for i in range(MAX_SEQUENCE_LEN):  \n",
    "            action = entity.controller.feed_forward(observation)             # a_t, s_t            \n",
    "            observation, reward, done, _ = env.step(action)                  # s_{t+1}, r_{t+1}, a_t       \n",
    "            entity.fitness += reward\n",
    "            if done:\n",
    "                break   \n",
    "\n",
    "# Optimize \n",
    "for i in range(N_GENERATIONS):\n",
    "    t_start = time.time() \n",
    "    for entity in pop_manager.population:\n",
    "        if not entity.survived:\n",
    "            agent_env_loop(entity)\n",
    "    \n",
    "    pop_manager.breed_new_population()\n",
    "    print(f\"Generation {i}: {time.time() - t_start}\")\n"
   ]
  },
  {
   "cell_type": "code",
   "execution_count": 4,
   "metadata": {},
   "outputs": [],
   "source": [
    "pop_manager.population.sort(key=lambda x: x.fitness, reverse=True) \n",
    "best_agent = pop_manager.population[-50]\n",
    "\n",
    "env.seed(10) \n",
    "observation = env.reset()\n",
    "for _ in range(MAX_SEQUENCE_LEN):\n",
    "    env.render()\n",
    "    action = best_agent.controller.feed_forward(observation)            # a_t, s_t            \n",
    "    observation, reward, done, _ = env.step(action)                     # s_{t+1}, r_{t+1}, a_t       \n",
    "env.close()"
   ]
  },
  {
   "cell_type": "code",
   "execution_count": 13,
   "metadata": {},
   "outputs": [
    {
     "output_type": "stream",
     "name": "stdout",
     "text": [
      "48\n48\n"
     ]
    }
   ],
   "source": [
    "child = Entity(n_layer_nodes, weight_interval)\n",
    "print(f\"{len(child.controller.bias[0])}\")\n",
    "print(f\"{len(child.controller.weights[0][0])}\")"
   ]
  },
  {
   "cell_type": "code",
   "execution_count": 21,
   "metadata": {},
   "outputs": [
    {
     "output_type": "execute_result",
     "data": {
      "text/plain": [
       "array([ 0.7584839 ,  0.10789981, -0.42991881, -0.15561191,  0.49077721,\n",
       "        0.84670393,  0.57381795,  0.08863811,  0.76584448,  0.71707239,\n",
       "       -0.01921783,  0.79219211, -0.67317444,  0.09585796, -0.54096392,\n",
       "        0.61198527,  0.24809397, -0.90281628, -0.4444071 ,  0.90020591,\n",
       "       -0.33117147, -0.60336651, -0.20123493,  0.70344756,  0.70935507,\n",
       "       -0.52090854,  0.0978931 ,  0.76381188, -0.28623422, -0.00845665,\n",
       "        0.58594024, -0.14965437,  0.43026903, -0.8864281 , -0.90564161,\n",
       "        0.93240325, -0.73510206, -0.22643748,  0.31478809, -0.65302702,\n",
       "       -0.54730051,  0.40117432,  0.04468406, -0.02153551,  0.67961832,\n",
       "        0.78448254, -0.91231042, -0.62626673])"
      ]
     },
     "metadata": {},
     "execution_count": 21
    }
   ],
   "source": [
    "child.controller.bias[0]"
   ]
  },
  {
   "cell_type": "code",
   "execution_count": 3,
   "metadata": {
    "tags": []
   },
   "outputs": [
    {
     "output_type": "stream",
     "name": "stdout",
     "text": [
      "3\ni: 0, len_bias 4\ni: 1, len_bias 4\ni: 2, len_bias 4\ni: 3, len_bias 4\nj: 7, len_bias 48, , len_weights 24\nj: 9, len_bias 48, , len_weights 24\nj: 10, len_bias 48, , len_weights 24\nj: 11, len_bias 48, , len_weights 24\nj: 12, len_bias 48, , len_weights 24\nj: 13, len_bias 48, , len_weights 24\nj: 14, len_bias 48, , len_weights 24\nj: 15, len_bias 48, , len_weights 24\nj: 16, len_bias 48, , len_weights 24\nj: 18, len_bias 48, , len_weights 24\nj: 22, len_bias 48, , len_weights 24\nj: 24, len_bias 48, , len_weights 24\nj: 29, len_bias 48, , len_weights 24\n"
     ]
    }
   ],
   "source": [
    "import random\n",
    "import copy\n",
    "child = Entity(n_layer_nodes, weight_interval)\n",
    "parent_1 = Entity(n_layer_nodes, weight_interval)\n",
    "parent_2 = Entity(n_layer_nodes, weight_interval)\n",
    "prob_node_copy = .5\n",
    "print(child.controller.n_hidden)\n",
    "\n",
    "for i in range(len(child.controller.weights)):   \n",
    "    # loop over nodes\n",
    "    print(f\"i: {i}, len_bias {len(child.controller.bias)}\")\n",
    "    for j in range(len(child.controller.weights[i])): \n",
    "        test = child.controller.bias[i]\n",
    "        #print(f\"{test}\")\n",
    "        # inherit complete node \n",
    "        if random.random() > prob_node_copy:\n",
    "            #    random_parent = random.choice([parent_1, parent_2])\n",
    "            child.controller.weights[i][j] = copy.deepcopy(parent_1.controller.weights[i][j])\n",
    "            if i == 1 or i > child.controller.n_hidden - 1::\n",
    "                try:\n",
    "                    child.controller.bias[i][j] = copy.deepcopy(parent_1.controller.bias[i][j])\n",
    "                except:\n",
    "                    print(f\"j: {j}, len_bias {len(child.controller.bias[0])}, , len_weights {len(child.controller.weights[0])}\")\n"
   ]
  },
  {
   "cell_type": "code",
   "execution_count": 28,
   "metadata": {},
   "outputs": [
    {
     "output_type": "execute_result",
     "data": {
      "text/plain": [
       "4"
      ]
     },
     "metadata": {},
     "execution_count": 28
    }
   ],
   "source": [
    "len(child.controller.bias[3])"
   ]
  },
  {
   "cell_type": "code",
   "execution_count": 35,
   "metadata": {},
   "outputs": [],
   "source": [
    "class testclass(object):\n",
    "    def __init__(self):\n",
    "        self.weights = [[1,2,3], [4,5,6]]\n",
    "\n",
    "x = testclass()"
   ]
  },
  {
   "cell_type": "code",
   "execution_count": 36,
   "metadata": {},
   "outputs": [
    {
     "output_type": "execute_result",
     "data": {
      "text/plain": [
       "[1, 2, 3]"
      ]
     },
     "metadata": {},
     "execution_count": 36
    }
   ],
   "source": [
    "y = x.weights[0]\n",
    "y"
   ]
  },
  {
   "cell_type": "code",
   "execution_count": 37,
   "metadata": {},
   "outputs": [],
   "source": [
    "y[0] = 7"
   ]
  },
  {
   "cell_type": "code",
   "execution_count": 38,
   "metadata": {},
   "outputs": [
    {
     "output_type": "execute_result",
     "data": {
      "text/plain": [
       "[7, 2, 3]"
      ]
     },
     "metadata": {},
     "execution_count": 38
    }
   ],
   "source": [
    "x.weights[0]"
   ]
  },
  {
   "cell_type": "code",
   "execution_count": 39,
   "metadata": {},
   "outputs": [
    {
     "output_type": "execute_result",
     "data": {
      "text/plain": [
       "[7, 2, 3]"
      ]
     },
     "metadata": {},
     "execution_count": 39
    }
   ],
   "source": [
    "y"
   ]
  },
  {
   "cell_type": "code",
   "execution_count": 34,
   "metadata": {},
   "outputs": [
    {
     "output_type": "execute_result",
     "data": {
      "text/plain": [
       "[4, 2, 3]"
      ]
     },
     "metadata": {},
     "execution_count": 34
    }
   ],
   "source": [
    "a = [1,2,3]\n",
    "b = a\n",
    "b[0] = 4\n",
    "a"
   ]
  },
  {
   "cell_type": "code",
   "execution_count": 9,
   "metadata": {},
   "outputs": [
    {
     "output_type": "execute_result",
     "data": {
      "text/plain": [
       "array([[ 0.08500486,  0.69602858,  0.54515709],\n",
       "       [ 0.74302638,  0.37548427,  0.48805228],\n",
       "       [ 0.48482226, -0.2124669 ,  0.71335525],\n",
       "       [ 0.4457444 ,  0.56424148,  0.87824   ]])"
      ]
     },
     "metadata": {},
     "execution_count": 9
    }
   ],
   "source": [
    "import numpy as np\n",
    "np.random.uniform(-1.0, 1.0, (4, 3))"
   ]
  },
  {
   "cell_type": "code",
   "execution_count": 10,
   "metadata": {},
   "outputs": [
    {
     "output_type": "execute_result",
     "data": {
      "text/plain": [
       "array([0.96191887, 0.5971491 , 0.52781256])"
      ]
     },
     "metadata": {},
     "execution_count": 10
    }
   ],
   "source": [
    "np.random.uniform(low = -1.0, high = 1.0, size = 3)"
   ]
  },
  {
   "cell_type": "code",
   "execution_count": null,
   "metadata": {},
   "outputs": [],
   "source": []
  }
 ]
}