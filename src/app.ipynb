{
 "metadata": {
  "language_info": {
   "codemirror_mode": {
    "name": "ipython",
    "version": 3
   },
   "file_extension": ".py",
   "mimetype": "text/x-python",
   "name": "python",
   "nbconvert_exporter": "python",
   "pygments_lexer": "ipython3",
   "version": "3.7.10"
  },
  "orig_nbformat": 2,
  "kernelspec": {
   "name": "python3710jvsc74a57bd0df4b48496479b6dbac9f82cbbc0bc05dc03b6aa29290929ce28ee161e7111e9c",
   "display_name": "Python 3.7.10 64-bit ('gym': conda)"
  },
  "metadata": {
   "interpreter": {
    "hash": "df4b48496479b6dbac9f82cbbc0bc05dc03b6aa29290929ce28ee161e7111e9c"
   }
  }
 },
 "nbformat": 4,
 "nbformat_minor": 2,
 "cells": [
  {
   "cell_type": "code",
   "execution_count": 1,
   "metadata": {},
   "outputs": [
    {
     "output_type": "stream",
     "name": "stdout",
     "text": [
      "(4,)\n",
      "(24,)\n",
      "C:\\Users\\Mars\\Anaconda3\\envs\\gym\\lib\\site-packages\\gym\\logger.py:30: UserWarning: \u001b[33mWARN: Box bound precision lowered by casting to float32\u001b[0m\n",
      "  warnings.warn(colorize('%s: %s'%('WARN', msg % args), 'yellow'))\n"
     ]
    }
   ],
   "source": [
    "import gym\n",
    "import time\n",
    "from Entity import Entity\n",
    "from EvolutionCtrl import Population_Manager\n",
    "\n",
    "# 1) Environment\n",
    "env = gym.make(\"BipedalWalker-v3\") \n",
    "env.seed(0)    # set seed for const. initial state\n",
    "\n",
    "# 2) Training Params\n",
    "POP_SIZE = 120\n",
    "MAX_SEQUENCE_LEN = 400\n",
    "N_GENERATIONS = 1500    \n",
    "\n",
    "weight_interval = [-1, 1]                  # interval for initial and random weights\n",
    "print(env.action_space.shape)\n",
    "n_layer_nodes = [env.observation_space.shape[0], 48, 48, 32, env.action_space.shape[0]]\n",
    "print(env.observation_space.shape)\n",
    "init_population = [Entity(n_layer_nodes, weight_interval) for i in range(POP_SIZE)]  \n",
    "pop_manager = Population_Manager(init_population, .1, .1)"
   ]
  },
  {
   "cell_type": "code",
   "execution_count": 2,
   "metadata": {
    "tags": []
   },
   "outputs": [
    {
     "output_type": "stream",
     "name": "stdout",
     "text": [
      "65 survived walker, max fitness is: -34.10231579969203\n"
     ]
    },
    {
     "output_type": "error",
     "ename": "IndexError",
     "evalue": "index 32 is out of bounds for axis 0 with size 32",
     "traceback": [
      "\u001b[1;31m---------------------------------------------------------------------------\u001b[0m",
      "\u001b[1;31mIndexError\u001b[0m                                Traceback (most recent call last)",
      "\u001b[1;32m<ipython-input-2-b9a65f9a5051>\u001b[0m in \u001b[0;36m<module>\u001b[1;34m\u001b[0m\n\u001b[0;32m     18\u001b[0m             \u001b[0magent_env_loop\u001b[0m\u001b[1;33m(\u001b[0m\u001b[0mentity\u001b[0m\u001b[1;33m)\u001b[0m\u001b[1;33m\u001b[0m\u001b[1;33m\u001b[0m\u001b[0m\n\u001b[0;32m     19\u001b[0m \u001b[1;33m\u001b[0m\u001b[0m\n\u001b[1;32m---> 20\u001b[1;33m     \u001b[0mpop_manager\u001b[0m\u001b[1;33m.\u001b[0m\u001b[0mbreed_new_population\u001b[0m\u001b[1;33m(\u001b[0m\u001b[1;33m)\u001b[0m\u001b[1;33m\u001b[0m\u001b[1;33m\u001b[0m\u001b[0m\n\u001b[0m\u001b[0;32m     21\u001b[0m     \u001b[0mprint\u001b[0m\u001b[1;33m(\u001b[0m\u001b[1;34mf\"Generation {i}: {time.time() - t_start}\"\u001b[0m\u001b[1;33m)\u001b[0m\u001b[1;33m\u001b[0m\u001b[1;33m\u001b[0m\u001b[0m\n",
      "\u001b[1;32mc:\\Users\\Mars\\Desktop\\Projects\\EvAlg-gym\\src\\EvolutionCtrl.py\u001b[0m in \u001b[0;36mbreed_new_population\u001b[1;34m(self)\u001b[0m\n\u001b[0;32m     17\u001b[0m \u001b[1;33m\u001b[0m\u001b[0m\n\u001b[0;32m     18\u001b[0m         \u001b[1;32mwhile\u001b[0m\u001b[1;33m(\u001b[0m\u001b[0mlen\u001b[0m\u001b[1;33m(\u001b[0m\u001b[0mself\u001b[0m\u001b[1;33m.\u001b[0m\u001b[0mpopulation\u001b[0m\u001b[1;33m)\u001b[0m \u001b[1;33m<\u001b[0m \u001b[0mpop_size_in\u001b[0m\u001b[1;33m)\u001b[0m\u001b[1;33m:\u001b[0m\u001b[1;33m\u001b[0m\u001b[1;33m\u001b[0m\u001b[0m\n\u001b[1;32m---> 19\u001b[1;33m             \u001b[0mchild\u001b[0m \u001b[1;33m=\u001b[0m \u001b[0mself\u001b[0m\u001b[1;33m.\u001b[0m\u001b[0mcrossover\u001b[0m\u001b[1;33m(\u001b[0m\u001b[0mrandom\u001b[0m\u001b[1;33m.\u001b[0m\u001b[0mchoice\u001b[0m\u001b[1;33m(\u001b[0m\u001b[0mself\u001b[0m\u001b[1;33m.\u001b[0m\u001b[0mpopulation\u001b[0m\u001b[1;33m)\u001b[0m\u001b[1;33m,\u001b[0m \u001b[0mrandom\u001b[0m\u001b[1;33m.\u001b[0m\u001b[0mchoice\u001b[0m\u001b[1;33m(\u001b[0m\u001b[0mself\u001b[0m\u001b[1;33m.\u001b[0m\u001b[0mpopulation\u001b[0m\u001b[1;33m)\u001b[0m\u001b[1;33m)\u001b[0m\u001b[1;33m\u001b[0m\u001b[1;33m\u001b[0m\u001b[0m\n\u001b[0m\u001b[0;32m     20\u001b[0m             \u001b[0mself\u001b[0m\u001b[1;33m.\u001b[0m\u001b[0mpopulation\u001b[0m\u001b[1;33m.\u001b[0m\u001b[0mappend\u001b[0m\u001b[1;33m(\u001b[0m\u001b[0mchild\u001b[0m\u001b[1;33m)\u001b[0m\u001b[1;33m\u001b[0m\u001b[1;33m\u001b[0m\u001b[0m\n\u001b[0;32m     21\u001b[0m \u001b[1;33m\u001b[0m\u001b[0m\n",
      "\u001b[1;32mc:\\Users\\Mars\\Desktop\\Projects\\EvAlg-gym\\src\\EvolutionCtrl.py\u001b[0m in \u001b[0;36mcrossover\u001b[1;34m(self, parent_1, parent_2)\u001b[0m\n\u001b[0;32m     45\u001b[0m                     \u001b[0mchild\u001b[0m\u001b[1;33m.\u001b[0m\u001b[0mcontroller\u001b[0m\u001b[1;33m.\u001b[0m\u001b[0mweights\u001b[0m\u001b[1;33m[\u001b[0m\u001b[0mi\u001b[0m\u001b[1;33m]\u001b[0m\u001b[1;33m[\u001b[0m\u001b[0mj\u001b[0m\u001b[1;33m]\u001b[0m \u001b[1;33m=\u001b[0m \u001b[0mcopy\u001b[0m\u001b[1;33m.\u001b[0m\u001b[0mdeepcopy\u001b[0m\u001b[1;33m(\u001b[0m\u001b[0mrandom_parent\u001b[0m\u001b[1;33m.\u001b[0m\u001b[0mcontroller\u001b[0m\u001b[1;33m.\u001b[0m\u001b[0mweights\u001b[0m\u001b[1;33m[\u001b[0m\u001b[0mi\u001b[0m\u001b[1;33m]\u001b[0m\u001b[1;33m[\u001b[0m\u001b[0mj\u001b[0m\u001b[1;33m]\u001b[0m\u001b[1;33m)\u001b[0m\u001b[1;33m\u001b[0m\u001b[1;33m\u001b[0m\u001b[0m\n\u001b[0;32m     46\u001b[0m                     \u001b[1;32mif\u001b[0m \u001b[0mi\u001b[0m \u001b[1;33m!=\u001b[0m \u001b[1;36m1\u001b[0m \u001b[1;32mor\u001b[0m \u001b[0mi\u001b[0m \u001b[1;33m>\u001b[0m \u001b[0mchild\u001b[0m\u001b[1;33m.\u001b[0m\u001b[0mcontroller\u001b[0m\u001b[1;33m.\u001b[0m\u001b[0mn_hidden\u001b[0m \u001b[1;33m-\u001b[0m \u001b[1;36m1\u001b[0m\u001b[1;33m:\u001b[0m \u001b[1;31m# first layer has no bias\u001b[0m\u001b[1;33m\u001b[0m\u001b[1;33m\u001b[0m\u001b[0m\n\u001b[1;32m---> 47\u001b[1;33m                         \u001b[0mchild\u001b[0m\u001b[1;33m.\u001b[0m\u001b[0mcontroller\u001b[0m\u001b[1;33m.\u001b[0m\u001b[0mbias\u001b[0m\u001b[1;33m[\u001b[0m\u001b[0mi\u001b[0m\u001b[1;33m]\u001b[0m\u001b[1;33m[\u001b[0m\u001b[0mj\u001b[0m\u001b[1;33m]\u001b[0m \u001b[1;33m=\u001b[0m \u001b[0mcopy\u001b[0m\u001b[1;33m.\u001b[0m\u001b[0mdeepcopy\u001b[0m\u001b[1;33m(\u001b[0m\u001b[0mrandom_parent\u001b[0m\u001b[1;33m.\u001b[0m\u001b[0mcontroller\u001b[0m\u001b[1;33m.\u001b[0m\u001b[0mbias\u001b[0m\u001b[1;33m[\u001b[0m\u001b[0mi\u001b[0m\u001b[1;33m]\u001b[0m\u001b[1;33m[\u001b[0m\u001b[0mj\u001b[0m\u001b[1;33m]\u001b[0m\u001b[1;33m)\u001b[0m\u001b[1;33m\u001b[0m\u001b[1;33m\u001b[0m\u001b[0m\n\u001b[0m\u001b[0;32m     48\u001b[0m                 \u001b[1;32mif\u001b[0m \u001b[0mrandom\u001b[0m\u001b[1;33m.\u001b[0m\u001b[0mrandom\u001b[0m\u001b[1;33m(\u001b[0m\u001b[1;33m)\u001b[0m \u001b[1;33m>\u001b[0m \u001b[0mself\u001b[0m\u001b[1;33m.\u001b[0m\u001b[0mmutation_rate\u001b[0m\u001b[1;33m:\u001b[0m\u001b[1;33m\u001b[0m\u001b[1;33m\u001b[0m\u001b[0m\n\u001b[0;32m     49\u001b[0m                     \u001b[0mrandom_parent\u001b[0m \u001b[1;33m=\u001b[0m \u001b[0mrandom\u001b[0m\u001b[1;33m.\u001b[0m\u001b[0mchoice\u001b[0m\u001b[1;33m(\u001b[0m\u001b[1;33m[\u001b[0m\u001b[0mparent_1\u001b[0m\u001b[1;33m,\u001b[0m \u001b[0mparent_2\u001b[0m\u001b[1;33m]\u001b[0m\u001b[1;33m)\u001b[0m\u001b[1;33m\u001b[0m\u001b[1;33m\u001b[0m\u001b[0m\n",
      "\u001b[1;31mIndexError\u001b[0m: index 32 is out of bounds for axis 0 with size 32"
     ]
    }
   ],
   "source": [
    "def agent_env_loop(entity):\n",
    "        entity.survived = True\n",
    "        entity.fitness = 0\n",
    "        env.seed(10) \n",
    "        observation = env.reset()                                            # s_0\n",
    "        for i in range(MAX_SEQUENCE_LEN):  \n",
    "            action = entity.controller.feed_forward(observation)             # a_t, s_t            \n",
    "            observation, reward, done, _ = env.step(action)                  # s_{t+1}, r_{t+1}, a_t       \n",
    "            entity.fitness += reward\n",
    "            if done:\n",
    "                break   \n",
    "\n",
    "# Optimize \n",
    "for i in range(N_GENERATIONS):\n",
    "    t_start = time.time() \n",
    "    for entity in pop_manager.population:\n",
    "        if not entity.survived:\n",
    "            agent_env_loop(entity)\n",
    "    \n",
    "    pop_manager.breed_new_population()\n",
    "    print(f\"Generation {i}: {time.time() - t_start}\")\n"
   ]
  },
  {
   "cell_type": "code",
   "execution_count": 4,
   "metadata": {},
   "outputs": [],
   "source": [
    "pop_manager.population.sort(key=lambda x: x.fitness, reverse=True) \n",
    "best_agent = pop_manager.population[-50]\n",
    "\n",
    "env.seed(10) \n",
    "observation = env.reset()\n",
    "for _ in range(MAX_SEQUENCE_LEN):\n",
    "    env.render()\n",
    "    action = best_agent.controller.feed_forward(observation)            # a_t, s_t            \n",
    "    observation, reward, done, _ = env.step(action)                     # s_{t+1}, r_{t+1}, a_t       \n",
    "env.close()"
   ]
  },
  {
   "cell_type": "code",
   "execution_count": 13,
   "metadata": {},
   "outputs": [
    {
     "output_type": "stream",
     "name": "stdout",
     "text": [
      "48\n48\n"
     ]
    }
   ],
   "source": [
    "child = Entity(n_layer_nodes, weight_interval)\n",
    "print(f\"{len(child.controller.bias[0])}\")\n",
    "print(f\"{len(child.controller.weights[0][0])}\")"
   ]
  },
  {
   "cell_type": "code",
   "execution_count": 21,
   "metadata": {},
   "outputs": [
    {
     "output_type": "execute_result",
     "data": {
      "text/plain": [
       "array([ 0.7584839 ,  0.10789981, -0.42991881, -0.15561191,  0.49077721,\n",
       "        0.84670393,  0.57381795,  0.08863811,  0.76584448,  0.71707239,\n",
       "       -0.01921783,  0.79219211, -0.67317444,  0.09585796, -0.54096392,\n",
       "        0.61198527,  0.24809397, -0.90281628, -0.4444071 ,  0.90020591,\n",
       "       -0.33117147, -0.60336651, -0.20123493,  0.70344756,  0.70935507,\n",
       "       -0.52090854,  0.0978931 ,  0.76381188, -0.28623422, -0.00845665,\n",
       "        0.58594024, -0.14965437,  0.43026903, -0.8864281 , -0.90564161,\n",
       "        0.93240325, -0.73510206, -0.22643748,  0.31478809, -0.65302702,\n",
       "       -0.54730051,  0.40117432,  0.04468406, -0.02153551,  0.67961832,\n",
       "        0.78448254, -0.91231042, -0.62626673])"
      ]
     },
     "metadata": {},
     "execution_count": 21
    }
   ],
   "source": [
    "child.controller.bias[0]"
   ]
  },
  {
   "cell_type": "code",
   "execution_count": 3,
   "metadata": {
    "tags": []
   },
   "outputs": [
    {
     "output_type": "stream",
     "name": "stdout",
     "text": [
      "3\ni: 0, len_bias 4\ni: 1, len_bias 4\ni: 2, len_bias 4\ni: 3, len_bias 4\nj: 7, len_bias 48, , len_weights 24\nj: 9, len_bias 48, , len_weights 24\nj: 10, len_bias 48, , len_weights 24\nj: 11, len_bias 48, , len_weights 24\nj: 12, len_bias 48, , len_weights 24\nj: 13, len_bias 48, , len_weights 24\nj: 14, len_bias 48, , len_weights 24\nj: 15, len_bias 48, , len_weights 24\nj: 16, len_bias 48, , len_weights 24\nj: 18, len_bias 48, , len_weights 24\nj: 22, len_bias 48, , len_weights 24\nj: 24, len_bias 48, , len_weights 24\nj: 29, len_bias 48, , len_weights 24\n"
     ]
    }
   ],
   "source": [
    "import random\n",
    "import copy\n",
    "child = Entity(n_layer_nodes, weight_interval)\n",
    "parent_1 = Entity(n_layer_nodes, weight_interval)\n",
    "parent_2 = Entity(n_layer_nodes, weight_interval)\n",
    "prob_node_copy = .5\n",
    "print(child.controller.n_hidden)\n",
    "\n",
    "for i in range(len(child.controller.weights)):   \n",
    "    # loop over nodes\n",
    "    print(f\"i: {i}, len_bias {len(child.controller.bias)}\")\n",
    "    for j in range(len(child.controller.weights[i])): \n",
    "        test = child.controller.bias[i]\n",
    "        #print(f\"{test}\")\n",
    "        # inherit complete node \n",
    "        if random.random() > prob_node_copy:\n",
    "            #    random_parent = random.choice([parent_1, parent_2])\n",
    "            child.controller.weights[i][j] = copy.deepcopy(parent_1.controller.weights[i][j])\n",
    "            if i == 1 or i > child.controller.n_hidden - 1::\n",
    "                try:\n",
    "                    child.controller.bias[i][j] = copy.deepcopy(parent_1.controller.bias[i][j])\n",
    "                except:\n",
    "                    print(f\"j: {j}, len_bias {len(child.controller.bias[0])}, , len_weights {len(child.controller.weights[0])}\")\n"
   ]
  },
  {
   "cell_type": "code",
   "execution_count": 28,
   "metadata": {},
   "outputs": [
    {
     "output_type": "execute_result",
     "data": {
      "text/plain": [
       "4"
      ]
     },
     "metadata": {},
     "execution_count": 28
    }
   ],
   "source": [
    "len(child.controller.bias[3])"
   ]
  },
  {
   "cell_type": "code",
   "execution_count": 35,
   "metadata": {},
   "outputs": [],
   "source": [
    "class testclass(object):\n",
    "    def __init__(self):\n",
    "        self.weights = [[1,2,3], [4,5,6]]\n",
    "\n",
    "x = testclass()"
   ]
  },
  {
   "cell_type": "code",
   "execution_count": 36,
   "metadata": {},
   "outputs": [
    {
     "output_type": "execute_result",
     "data": {
      "text/plain": [
       "[1, 2, 3]"
      ]
     },
     "metadata": {},
     "execution_count": 36
    }
   ],
   "source": [
    "y = x.weights[0]\n",
    "y"
   ]
  },
  {
   "cell_type": "code",
   "execution_count": 37,
   "metadata": {},
   "outputs": [],
   "source": [
    "y[0] = 7"
   ]
  },
  {
   "cell_type": "code",
   "execution_count": 38,
   "metadata": {},
   "outputs": [
    {
     "output_type": "execute_result",
     "data": {
      "text/plain": [
       "[7, 2, 3]"
      ]
     },
     "metadata": {},
     "execution_count": 38
    }
   ],
   "source": [
    "x.weights[0]"
   ]
  },
  {
   "cell_type": "code",
   "execution_count": 39,
   "metadata": {},
   "outputs": [
    {
     "output_type": "execute_result",
     "data": {
      "text/plain": [
       "[7, 2, 3]"
      ]
     },
     "metadata": {},
     "execution_count": 39
    }
   ],
   "source": [
    "y"
   ]
  },
  {
   "cell_type": "code",
   "execution_count": 34,
   "metadata": {},
   "outputs": [
    {
     "output_type": "execute_result",
     "data": {
      "text/plain": [
       "[4, 2, 3]"
      ]
     },
     "metadata": {},
     "execution_count": 34
    }
   ],
   "source": [
    "a = [1,2,3]\n",
    "b = a\n",
    "b[0] = 4\n",
    "a"
   ]
  },
  {
   "cell_type": "code",
   "execution_count": 9,
   "metadata": {},
   "outputs": [
    {
     "output_type": "execute_result",
     "data": {
      "text/plain": [
       "array([[ 0.08500486,  0.69602858,  0.54515709],\n",
       "       [ 0.74302638,  0.37548427,  0.48805228],\n",
       "       [ 0.48482226, -0.2124669 ,  0.71335525],\n",
       "       [ 0.4457444 ,  0.56424148,  0.87824   ]])"
      ]
     },
     "metadata": {},
     "execution_count": 9
    }
   ],
   "source": [
    "import numpy as np\n",
    "np.random.uniform(-1.0, 1.0, (4, 3))"
   ]
  },
  {
   "cell_type": "code",
   "execution_count": 10,
   "metadata": {},
   "outputs": [
    {
     "output_type": "execute_result",
     "data": {
      "text/plain": [
       "array([0.96191887, 0.5971491 , 0.52781256])"
      ]
     },
     "metadata": {},
     "execution_count": 10
    }
   ],
   "source": [
    "np.random.uniform(low = -1.0, high = 1.0, size = 3)"
   ]
  },
  {
   "cell_type": "code",
   "execution_count": null,
   "metadata": {},
   "outputs": [],
   "source": []
  }
 ]
}