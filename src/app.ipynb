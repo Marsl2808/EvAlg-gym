{
 "metadata": {
  "language_info": {
   "codemirror_mode": {
    "name": "ipython",
    "version": 3
   },
   "file_extension": ".py",
   "mimetype": "text/x-python",
   "name": "python",
   "nbconvert_exporter": "python",
   "pygments_lexer": "ipython3",
   "version": "3.5.5"
  },
  "orig_nbformat": 2,
  "kernelspec": {
   "name": "pythonjvsc74a57bd0db358f5f4de51b7c43db118da61bdcc0e02889b7fdb2ed9ec3f3f8e647224187",
   "display_name": "Python 3.5.5 64-bit ('box2': conda)"
  }
 },
 "nbformat": 4,
 "nbformat_minor": 2,
 "cells": [
  {
   "cell_type": "code",
   "execution_count": 1,
   "metadata": {},
   "outputs": [],
   "source": [
    "from NN import Neural_Network\n",
    "import numpy as np"
   ]
  },
  {
   "cell_type": "code",
   "execution_count": 2,
   "metadata": {},
   "outputs": [
    {
     "output_type": "execute_result",
     "data": {
      "text/plain": [
       "array([[-0.38408296,  0.49391425,  0.97293291,  0.11632745, -0.07879636,\n",
       "         0.96284483, -0.91628131]])"
      ]
     },
     "metadata": {},
     "execution_count": 2
    }
   ],
   "source": [
    "weight_interval = [-1, 1]                  # interval for initial and random weights\n",
    "weight_interval_out = [-.003, .003]\n",
    "n_layer_nodes = [1,3,3,3,3,3,3,7]\n",
    "nn = Neural_Network(n_layer_nodes, weight_interval, weight_interval_out )\n",
    "\n",
    "observation = 1.0\n",
    "nn.run_forward_pass(observation)\n",
    "#nn.weights"
   ]
  },
  {
   "cell_type": "code",
   "execution_count": null,
   "metadata": {},
   "outputs": [],
   "source": []
  }
 ]
}